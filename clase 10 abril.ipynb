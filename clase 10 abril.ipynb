{
 "cells": [
  {
   "cell_type": "code",
   "execution_count": 1,
   "id": "3ae8fb35-f12f-414e-be3d-592704c7d6fd",
   "metadata": {},
   "outputs": [
    {
     "name": "stderr",
     "output_type": "stream",
     "text": [
      "-- \u001b[1mAttaching core tidyverse packages\u001b[22m ------------------------ tidyverse 2.0.0 --\n",
      "\u001b[32mv\u001b[39m \u001b[34mdplyr    \u001b[39m 1.1.4     \u001b[32mv\u001b[39m \u001b[34mreadr    \u001b[39m 2.1.5\n",
      "\u001b[32mv\u001b[39m \u001b[34mforcats  \u001b[39m 1.0.0     \u001b[32mv\u001b[39m \u001b[34mstringr  \u001b[39m 1.5.0\n",
      "\u001b[32mv\u001b[39m \u001b[34mggplot2  \u001b[39m 3.4.2     \u001b[32mv\u001b[39m \u001b[34mtibble   \u001b[39m 3.2.1\n",
      "\u001b[32mv\u001b[39m \u001b[34mlubridate\u001b[39m 1.9.3     \u001b[32mv\u001b[39m \u001b[34mtidyr    \u001b[39m 1.3.1\n",
      "\u001b[32mv\u001b[39m \u001b[34mpurrr    \u001b[39m 1.0.2     \n",
      "-- \u001b[1mConflicts\u001b[22m ------------------------------------------ tidyverse_conflicts() --\n",
      "\u001b[31mx\u001b[39m \u001b[34mdplyr\u001b[39m::\u001b[32mfilter()\u001b[39m masks \u001b[34mstats\u001b[39m::filter()\n",
      "\u001b[31mx\u001b[39m \u001b[34mdplyr\u001b[39m::\u001b[32mlag()\u001b[39m    masks \u001b[34mstats\u001b[39m::lag()\n",
      "\u001b[36mi\u001b[39m Use the conflicted package (\u001b[3m\u001b[34m<http://conflicted.r-lib.org/>\u001b[39m\u001b[23m) to force all conflicts to become errors\n",
      "\n",
      "Attaching package: 'tsibble'\n",
      "\n",
      "\n",
      "The following object is masked from 'package:lubridate':\n",
      "\n",
      "    interval\n",
      "\n",
      "\n",
      "The following objects are masked from 'package:base':\n",
      "\n",
      "    intersect, setdiff, union\n",
      "\n",
      "\n",
      "Loading required package: fabletools\n",
      "\n"
     ]
    },
    {
     "ename": "ERROR",
     "evalue": "Error in library(tsibbledata): there is no package called 'tsibbledata'\n",
     "output_type": "error",
     "traceback": [
      "Error in library(tsibbledata): there is no package called 'tsibbledata'\nTraceback:\n",
      "1. library(tsibbledata)"
     ]
    }
   ],
   "source": [
    "library(tidyverse)\n",
    "library(tsibble)\n",
    "library(feasts)\n",
    "library(fable)\n",
    "library(tsibbledata)\n",
    "library(fpp3)\n",
    "library(patchwork)"
   ]
  },
  {
   "cell_type": "code",
   "execution_count": null,
   "id": "929f6c5a-dcb7-499b-8b0a-d9bf4360f48c",
   "metadata": {},
   "outputs": [],
   "source": [
    "vic_elec"
   ]
  },
  {
   "cell_type": "code",
   "execution_count": null,
   "id": "2eb6cfc2-fb6d-4877-84f3-01e4956a72b9",
   "metadata": {},
   "outputs": [],
   "source": [
    "p <- vic_elec %>% \n",
    "    autoplot(Demand)\n",
    "\n",
    "plotly::ggplotly(p)"
   ]
  },
  {
   "cell_type": "code",
   "execution_count": null,
   "id": "9195d57c-5f68-49e1-9d69-72692f8d2151",
   "metadata": {},
   "outputs": [],
   "source": [
    "s_y <- vic_elec %>% \n",
    "  gg_season(Demand, period = \"year\")\n",
    "s_w <- vic_elec %>% \n",
    "  gg_season(Demand, period = \"week\")\n",
    "s_d <- vic_elec %>% \n",
    "  gg_season(Demand, period = \"day\")\n",
    "\n",
    "s_y / s_w / s_d\n"
   ]
  },
  {
   "cell_type": "code",
   "execution_count": null,
   "id": "c938b3ce-c9f3-4bd3-ba27-9deba99c3745",
   "metadata": {},
   "outputs": [],
   "source": [
    "# | fig-height: 10\n",
    "\n",
    "comp_stl <- vic_elec %>% \n",
    "  model(\n",
    "    STL(Demand, robust = TRUE)\n",
    "  ) %>% \n",
    "  components() \n",
    "\n",
    "comp_stl %>% \n",
    "  autoplot()\n"
   ]
  },
  {
   "cell_type": "code",
   "execution_count": null,
   "id": "ee119bbd-7829-4b6d-9884-2d64d8925ed1",
   "metadata": {},
   "outputs": [],
   "source": [
    "comp_stl %>% \n",
    "  autoplot(season_year)\n",
    "comp_stl %>% \n",
    "  autoplot(season_week)\n",
    "comp_stl %>% \n",
    "  autoplot(season_day)\n",
    "comp_stl %>% \n",
    "  ggplot(aes(x = Time, y = season_adjust)) +\n",
    "  geom_line()\n"
   ]
  },
  {
   "cell_type": "code",
   "execution_count": null,
   "id": "330dffaf-64d2-411b-9053-a38503295341",
   "metadata": {},
   "outputs": [],
   "source": [
    "vic_train <- vic_elec %>% \n",
    "  filter_index(. ~ \"2014-09-30\")\n",
    "\n",
    "fit1 <- vic_train %>% \n",
    "  model(ets = ETS(Demand ~ error(\"A\") + trend(\"Ad\") + season(\"A\")))\n",
    "\n",
    "report(fit1)"
   ]
  },
  {
   "cell_type": "code",
   "execution_count": null,
   "id": "6b6d395f-1a53-4937-84d4-8ae4eececffa",
   "metadata": {},
   "outputs": [],
   "source": [
    "p <- vic_train %>% \n",
    "  autoplot(Demand) +\n",
    "  geom_line(aes(y = .fitted), data = fit1 %>% augment(), color = \"firebrick\")\n",
    "\n",
    "plotly::ggplotly(p)\n"
   ]
  },
  {
   "cell_type": "code",
   "execution_count": null,
   "id": "f45e933b-be65-4f5d-a319-3764133639a2",
   "metadata": {},
   "outputs": [],
   "source": [
    "accuracy(fit1)"
   ]
  },
  {
   "cell_type": "code",
   "execution_count": null,
   "id": "8da45be6-c924-4374-ac49-111a23cc0092",
   "metadata": {},
   "outputs": [],
   "source": [
    "{r}\n",
    "fit2 <- vic_train %>% \n",
    "  model(\n",
    "    dcmp = decomposition_model(\n",
    "      STL(Demand, robust = TRUE),\n",
    "      ETS(season_adjust ~ error(\"A\") + trend(\"Ad\") + season(\"N\"))\n",
    "    )\n",
    "  )\n",
    "\n",
    "fit2 %>% report()\n"
   ]
  },
  {
   "cell_type": "code",
   "execution_count": null,
   "id": "af8d30c1-cb74-4803-b5b3-0ab0048d769e",
   "metadata": {},
   "outputs": [],
   "source": [
    "{r}\n",
    "fit3 <- vic_train %>% \n",
    "  model(\n",
    "    harmonic = ARIMA(Demand ~ fourier(period = \"year\", K = 5) +\n",
    "                       fourier(period = \"week\", K = 3) +\n",
    "                       fourier(period = \"day\", K = 3) + PDQ(0,0,0) + pdq(2,0,2))\n",
    "  )\n",
    "\n",
    "report(fit3)\n"
   ]
  },
  {
   "cell_type": "code",
   "execution_count": null,
   "id": "15db99e9-e4d1-4b99-a33c-416c1d792d37",
   "metadata": {},
   "outputs": [],
   "source": [
    "{r}\n",
    "p <- vic_train %>% \n",
    "  autoplot(Demand) +\n",
    "  geom_line(aes(y = .fitted), data = fit3 %>% augment(), color = \"firebrick\")\n",
    "\n",
    "plotly::ggplotly(p)\n"
   ]
  },
  {
   "cell_type": "code",
   "execution_count": null,
   "id": "009e08af-4cfd-4050-bbef-8d5a8fecfa59",
   "metadata": {},
   "outputs": [],
   "source": [
    "{r}\n",
    "fc3 <- fit3 %>% \n",
    "  forecast(h = \"3 months\")\n",
    "\n",
    "fc3 %>% \n",
    "  autoplot(vic_elec %>% filter_index(\"2014-10-01\"~.), level = NULL)\n",
    "\n",
    "fc3 %>% \n",
    "  autoplot(vic_elec %>% filter_index(\"2014-10-01\"~.))\n",
    "\n",
    "fc3 %>% \n",
    "  accuracy(vic_elec)\n"
   ]
  },
  {
   "cell_type": "code",
   "execution_count": null,
   "id": "dfc56c1b-6cdf-4c29-8260-5ab991aeef84",
   "metadata": {},
   "outputs": [],
   "source": [
    "{r}\n",
    "elec <- vic_elec |>\n",
    "  mutate(\n",
    "    DOW = wday(Date, label = TRUE),\n",
    "    Working_Day = !Holiday & !(DOW %in% c(\"Sat\", \"Sun\")),\n",
    "    Cooling = pmax(Temperature, 18)\n",
    "  )\n",
    "elec |>\n",
    "  ggplot(aes(x=Temperature, y=Demand, col=Working_Day)) +\n",
    "  geom_point(alpha = 0.6) +\n",
    "  labs(x=\"Temperature (degrees Celsius)\", y=\"Demand (MWh)\")\n"
   ]
  },
  {
   "cell_type": "code",
   "execution_count": 2,
   "id": "0dc7100d-d842-4885-9de4-7c87960f61a2",
   "metadata": {},
   "outputs": [
    {
     "name": "stderr",
     "output_type": "stream",
     "text": [
      "Loading required package: PerformanceAnalytics\n",
      "\n",
      "Loading required package: xts\n",
      "\n",
      "Loading required package: zoo\n",
      "\n",
      "\n",
      "Attaching package: 'zoo'\n",
      "\n",
      "\n",
      "The following object is masked from 'package:tsibble':\n",
      "\n",
      "    index\n",
      "\n",
      "\n",
      "The following objects are masked from 'package:base':\n",
      "\n",
      "    as.Date, as.Date.numeric\n",
      "\n",
      "\n",
      "\n",
      "######################### Warning from 'xts' package ##########################\n",
      "#                                                                             #\n",
      "# The dplyr lag() function breaks how base R's lag() function is supposed to  #\n",
      "# work, which breaks lag(my_xts). Calls to lag(my_xts) that you type or       #\n",
      "# source() into this session won't work correctly.                            #\n",
      "#                                                                             #\n",
      "# Use stats::lag() to make sure you're not using dplyr::lag(), or you can add #\n",
      "# conflictRules('dplyr', exclude = 'lag') to your .Rprofile to stop           #\n",
      "# dplyr from breaking base R's lag() function.                                #\n",
      "#                                                                             #\n",
      "# Code in packages is not affected. It's protected by R's namespace mechanism #\n",
      "# Set `options(xts.warn_dplyr_breaks_lag = FALSE)` to suppress this warning.  #\n",
      "#                                                                             #\n",
      "###############################################################################\n",
      "\n",
      "\n",
      "Attaching package: 'xts'\n",
      "\n",
      "\n",
      "The following objects are masked from 'package:dplyr':\n",
      "\n",
      "    first, last\n",
      "\n",
      "\n",
      "\n",
      "Attaching package: 'PerformanceAnalytics'\n",
      "\n",
      "\n",
      "The following object is masked from 'package:graphics':\n",
      "\n",
      "    legend\n",
      "\n",
      "\n",
      "Loading required package: quantmod\n",
      "\n",
      "Loading required package: TTR\n",
      "\n",
      "Registered S3 method overwritten by 'quantmod':\n",
      "  method            from\n",
      "  as.zoo.data.frame zoo \n",
      "\n",
      "\n",
      "Attaching package: 'tidyquant'\n",
      "\n",
      "\n",
      "The following object is masked from 'package:fable':\n",
      "\n",
      "    VAR\n",
      "\n",
      "\n"
     ]
    }
   ],
   "source": [
    "library(tidyquant)\n",
    "library(tidyverse)\n",
    "library(tsibble)\n",
    "library(fable)\n",
    "library(feasts)\n",
    "data = tq_get(\"^GSPC\", get=\"stock.prices\", from = \"2022-01-01\", to = \"2024-03-28\") %>% select(date, adjusted) %>% as_tsibble(index = date)\n"
   ]
  },
  {
   "cell_type": "code",
   "execution_count": 3,
   "id": "a10dc4c2-03de-463e-bfc0-e6c46f64b2b2",
   "metadata": {},
   "outputs": [
    {
     "data": {
      "text/html": [
       "<table class=\"dataframe\">\n",
       "<caption>A tbl_ts: 561 × 2</caption>\n",
       "<thead>\n",
       "\t<tr><th scope=col>date</th><th scope=col>adjusted</th></tr>\n",
       "\t<tr><th scope=col>&lt;date&gt;</th><th scope=col>&lt;dbl&gt;</th></tr>\n",
       "</thead>\n",
       "<tbody>\n",
       "\t<tr><td>2022-01-03</td><td>4796.56</td></tr>\n",
       "\t<tr><td>2022-01-04</td><td>4793.54</td></tr>\n",
       "\t<tr><td>2022-01-05</td><td>4700.58</td></tr>\n",
       "\t<tr><td>2022-01-06</td><td>4696.05</td></tr>\n",
       "\t<tr><td>2022-01-07</td><td>4677.03</td></tr>\n",
       "\t<tr><td>2022-01-10</td><td>4670.29</td></tr>\n",
       "\t<tr><td>2022-01-11</td><td>4713.07</td></tr>\n",
       "\t<tr><td>2022-01-12</td><td>4726.35</td></tr>\n",
       "\t<tr><td>2022-01-13</td><td>4659.03</td></tr>\n",
       "\t<tr><td>2022-01-14</td><td>4662.85</td></tr>\n",
       "\t<tr><td>2022-01-18</td><td>4577.11</td></tr>\n",
       "\t<tr><td>2022-01-19</td><td>4532.76</td></tr>\n",
       "\t<tr><td>2022-01-20</td><td>4482.73</td></tr>\n",
       "\t<tr><td>2022-01-21</td><td>4397.94</td></tr>\n",
       "\t<tr><td>2022-01-24</td><td>4410.13</td></tr>\n",
       "\t<tr><td>2022-01-25</td><td>4356.45</td></tr>\n",
       "\t<tr><td>2022-01-26</td><td>4349.93</td></tr>\n",
       "\t<tr><td>2022-01-27</td><td>4326.51</td></tr>\n",
       "\t<tr><td>2022-01-28</td><td>4431.85</td></tr>\n",
       "\t<tr><td>2022-01-31</td><td>4515.55</td></tr>\n",
       "\t<tr><td>2022-02-01</td><td>4546.54</td></tr>\n",
       "\t<tr><td>2022-02-02</td><td>4589.38</td></tr>\n",
       "\t<tr><td>2022-02-03</td><td>4477.44</td></tr>\n",
       "\t<tr><td>2022-02-04</td><td>4500.53</td></tr>\n",
       "\t<tr><td>2022-02-07</td><td>4483.87</td></tr>\n",
       "\t<tr><td>2022-02-08</td><td>4521.54</td></tr>\n",
       "\t<tr><td>2022-02-09</td><td>4587.18</td></tr>\n",
       "\t<tr><td>2022-02-10</td><td>4504.08</td></tr>\n",
       "\t<tr><td>2022-02-11</td><td>4418.64</td></tr>\n",
       "\t<tr><td>2022-02-14</td><td>4401.67</td></tr>\n",
       "\t<tr><td>...</td><td>...</td></tr>\n",
       "\t<tr><td>2024-02-14</td><td>5000.62</td></tr>\n",
       "\t<tr><td>2024-02-15</td><td>5029.73</td></tr>\n",
       "\t<tr><td>2024-02-16</td><td>5005.57</td></tr>\n",
       "\t<tr><td>2024-02-20</td><td>4975.51</td></tr>\n",
       "\t<tr><td>2024-02-21</td><td>4981.80</td></tr>\n",
       "\t<tr><td>2024-02-22</td><td>5087.03</td></tr>\n",
       "\t<tr><td>2024-02-23</td><td>5088.80</td></tr>\n",
       "\t<tr><td>2024-02-26</td><td>5069.53</td></tr>\n",
       "\t<tr><td>2024-02-27</td><td>5078.18</td></tr>\n",
       "\t<tr><td>2024-02-28</td><td>5069.76</td></tr>\n",
       "\t<tr><td>2024-02-29</td><td>5096.27</td></tr>\n",
       "\t<tr><td>2024-03-01</td><td>5137.08</td></tr>\n",
       "\t<tr><td>2024-03-04</td><td>5130.95</td></tr>\n",
       "\t<tr><td>2024-03-05</td><td>5078.65</td></tr>\n",
       "\t<tr><td>2024-03-06</td><td>5104.76</td></tr>\n",
       "\t<tr><td>2024-03-07</td><td>5157.36</td></tr>\n",
       "\t<tr><td>2024-03-08</td><td>5123.69</td></tr>\n",
       "\t<tr><td>2024-03-11</td><td>5117.94</td></tr>\n",
       "\t<tr><td>2024-03-12</td><td>5175.27</td></tr>\n",
       "\t<tr><td>2024-03-13</td><td>5165.31</td></tr>\n",
       "\t<tr><td>2024-03-14</td><td>5150.48</td></tr>\n",
       "\t<tr><td>2024-03-15</td><td>5117.09</td></tr>\n",
       "\t<tr><td>2024-03-18</td><td>5149.42</td></tr>\n",
       "\t<tr><td>2024-03-19</td><td>5178.51</td></tr>\n",
       "\t<tr><td>2024-03-20</td><td>5224.62</td></tr>\n",
       "\t<tr><td>2024-03-21</td><td>5241.53</td></tr>\n",
       "\t<tr><td>2024-03-22</td><td>5234.18</td></tr>\n",
       "\t<tr><td>2024-03-25</td><td>5218.19</td></tr>\n",
       "\t<tr><td>2024-03-26</td><td>5203.58</td></tr>\n",
       "\t<tr><td>2024-03-27</td><td>5248.49</td></tr>\n",
       "</tbody>\n",
       "</table>\n"
      ],
      "text/latex": [
       "A tbl\\_ts: 561 × 2\n",
       "\\begin{tabular}{ll}\n",
       " date & adjusted\\\\\n",
       " <date> & <dbl>\\\\\n",
       "\\hline\n",
       "\t 2022-01-03 & 4796.56\\\\\n",
       "\t 2022-01-04 & 4793.54\\\\\n",
       "\t 2022-01-05 & 4700.58\\\\\n",
       "\t 2022-01-06 & 4696.05\\\\\n",
       "\t 2022-01-07 & 4677.03\\\\\n",
       "\t 2022-01-10 & 4670.29\\\\\n",
       "\t 2022-01-11 & 4713.07\\\\\n",
       "\t 2022-01-12 & 4726.35\\\\\n",
       "\t 2022-01-13 & 4659.03\\\\\n",
       "\t 2022-01-14 & 4662.85\\\\\n",
       "\t 2022-01-18 & 4577.11\\\\\n",
       "\t 2022-01-19 & 4532.76\\\\\n",
       "\t 2022-01-20 & 4482.73\\\\\n",
       "\t 2022-01-21 & 4397.94\\\\\n",
       "\t 2022-01-24 & 4410.13\\\\\n",
       "\t 2022-01-25 & 4356.45\\\\\n",
       "\t 2022-01-26 & 4349.93\\\\\n",
       "\t 2022-01-27 & 4326.51\\\\\n",
       "\t 2022-01-28 & 4431.85\\\\\n",
       "\t 2022-01-31 & 4515.55\\\\\n",
       "\t 2022-02-01 & 4546.54\\\\\n",
       "\t 2022-02-02 & 4589.38\\\\\n",
       "\t 2022-02-03 & 4477.44\\\\\n",
       "\t 2022-02-04 & 4500.53\\\\\n",
       "\t 2022-02-07 & 4483.87\\\\\n",
       "\t 2022-02-08 & 4521.54\\\\\n",
       "\t 2022-02-09 & 4587.18\\\\\n",
       "\t 2022-02-10 & 4504.08\\\\\n",
       "\t 2022-02-11 & 4418.64\\\\\n",
       "\t 2022-02-14 & 4401.67\\\\\n",
       "\t ... & ...\\\\\n",
       "\t 2024-02-14 & 5000.62\\\\\n",
       "\t 2024-02-15 & 5029.73\\\\\n",
       "\t 2024-02-16 & 5005.57\\\\\n",
       "\t 2024-02-20 & 4975.51\\\\\n",
       "\t 2024-02-21 & 4981.80\\\\\n",
       "\t 2024-02-22 & 5087.03\\\\\n",
       "\t 2024-02-23 & 5088.80\\\\\n",
       "\t 2024-02-26 & 5069.53\\\\\n",
       "\t 2024-02-27 & 5078.18\\\\\n",
       "\t 2024-02-28 & 5069.76\\\\\n",
       "\t 2024-02-29 & 5096.27\\\\\n",
       "\t 2024-03-01 & 5137.08\\\\\n",
       "\t 2024-03-04 & 5130.95\\\\\n",
       "\t 2024-03-05 & 5078.65\\\\\n",
       "\t 2024-03-06 & 5104.76\\\\\n",
       "\t 2024-03-07 & 5157.36\\\\\n",
       "\t 2024-03-08 & 5123.69\\\\\n",
       "\t 2024-03-11 & 5117.94\\\\\n",
       "\t 2024-03-12 & 5175.27\\\\\n",
       "\t 2024-03-13 & 5165.31\\\\\n",
       "\t 2024-03-14 & 5150.48\\\\\n",
       "\t 2024-03-15 & 5117.09\\\\\n",
       "\t 2024-03-18 & 5149.42\\\\\n",
       "\t 2024-03-19 & 5178.51\\\\\n",
       "\t 2024-03-20 & 5224.62\\\\\n",
       "\t 2024-03-21 & 5241.53\\\\\n",
       "\t 2024-03-22 & 5234.18\\\\\n",
       "\t 2024-03-25 & 5218.19\\\\\n",
       "\t 2024-03-26 & 5203.58\\\\\n",
       "\t 2024-03-27 & 5248.49\\\\\n",
       "\\end{tabular}\n"
      ],
      "text/markdown": [
       "\n",
       "A tbl_ts: 561 × 2\n",
       "\n",
       "| date &lt;date&gt; | adjusted &lt;dbl&gt; |\n",
       "|---|---|\n",
       "| 2022-01-03 | 4796.56 |\n",
       "| 2022-01-04 | 4793.54 |\n",
       "| 2022-01-05 | 4700.58 |\n",
       "| 2022-01-06 | 4696.05 |\n",
       "| 2022-01-07 | 4677.03 |\n",
       "| 2022-01-10 | 4670.29 |\n",
       "| 2022-01-11 | 4713.07 |\n",
       "| 2022-01-12 | 4726.35 |\n",
       "| 2022-01-13 | 4659.03 |\n",
       "| 2022-01-14 | 4662.85 |\n",
       "| 2022-01-18 | 4577.11 |\n",
       "| 2022-01-19 | 4532.76 |\n",
       "| 2022-01-20 | 4482.73 |\n",
       "| 2022-01-21 | 4397.94 |\n",
       "| 2022-01-24 | 4410.13 |\n",
       "| 2022-01-25 | 4356.45 |\n",
       "| 2022-01-26 | 4349.93 |\n",
       "| 2022-01-27 | 4326.51 |\n",
       "| 2022-01-28 | 4431.85 |\n",
       "| 2022-01-31 | 4515.55 |\n",
       "| 2022-02-01 | 4546.54 |\n",
       "| 2022-02-02 | 4589.38 |\n",
       "| 2022-02-03 | 4477.44 |\n",
       "| 2022-02-04 | 4500.53 |\n",
       "| 2022-02-07 | 4483.87 |\n",
       "| 2022-02-08 | 4521.54 |\n",
       "| 2022-02-09 | 4587.18 |\n",
       "| 2022-02-10 | 4504.08 |\n",
       "| 2022-02-11 | 4418.64 |\n",
       "| 2022-02-14 | 4401.67 |\n",
       "| ... | ... |\n",
       "| 2024-02-14 | 5000.62 |\n",
       "| 2024-02-15 | 5029.73 |\n",
       "| 2024-02-16 | 5005.57 |\n",
       "| 2024-02-20 | 4975.51 |\n",
       "| 2024-02-21 | 4981.80 |\n",
       "| 2024-02-22 | 5087.03 |\n",
       "| 2024-02-23 | 5088.80 |\n",
       "| 2024-02-26 | 5069.53 |\n",
       "| 2024-02-27 | 5078.18 |\n",
       "| 2024-02-28 | 5069.76 |\n",
       "| 2024-02-29 | 5096.27 |\n",
       "| 2024-03-01 | 5137.08 |\n",
       "| 2024-03-04 | 5130.95 |\n",
       "| 2024-03-05 | 5078.65 |\n",
       "| 2024-03-06 | 5104.76 |\n",
       "| 2024-03-07 | 5157.36 |\n",
       "| 2024-03-08 | 5123.69 |\n",
       "| 2024-03-11 | 5117.94 |\n",
       "| 2024-03-12 | 5175.27 |\n",
       "| 2024-03-13 | 5165.31 |\n",
       "| 2024-03-14 | 5150.48 |\n",
       "| 2024-03-15 | 5117.09 |\n",
       "| 2024-03-18 | 5149.42 |\n",
       "| 2024-03-19 | 5178.51 |\n",
       "| 2024-03-20 | 5224.62 |\n",
       "| 2024-03-21 | 5241.53 |\n",
       "| 2024-03-22 | 5234.18 |\n",
       "| 2024-03-25 | 5218.19 |\n",
       "| 2024-03-26 | 5203.58 |\n",
       "| 2024-03-27 | 5248.49 |\n",
       "\n"
      ],
      "text/plain": [
       "    date       adjusted\n",
       "1   2022-01-03 4796.56 \n",
       "2   2022-01-04 4793.54 \n",
       "3   2022-01-05 4700.58 \n",
       "4   2022-01-06 4696.05 \n",
       "5   2022-01-07 4677.03 \n",
       "6   2022-01-10 4670.29 \n",
       "7   2022-01-11 4713.07 \n",
       "8   2022-01-12 4726.35 \n",
       "9   2022-01-13 4659.03 \n",
       "10  2022-01-14 4662.85 \n",
       "11  2022-01-18 4577.11 \n",
       "12  2022-01-19 4532.76 \n",
       "13  2022-01-20 4482.73 \n",
       "14  2022-01-21 4397.94 \n",
       "15  2022-01-24 4410.13 \n",
       "16  2022-01-25 4356.45 \n",
       "17  2022-01-26 4349.93 \n",
       "18  2022-01-27 4326.51 \n",
       "19  2022-01-28 4431.85 \n",
       "20  2022-01-31 4515.55 \n",
       "21  2022-02-01 4546.54 \n",
       "22  2022-02-02 4589.38 \n",
       "23  2022-02-03 4477.44 \n",
       "24  2022-02-04 4500.53 \n",
       "25  2022-02-07 4483.87 \n",
       "26  2022-02-08 4521.54 \n",
       "27  2022-02-09 4587.18 \n",
       "28  2022-02-10 4504.08 \n",
       "29  2022-02-11 4418.64 \n",
       "30  2022-02-14 4401.67 \n",
       "... ...        ...     \n",
       "532 2024-02-14 5000.62 \n",
       "533 2024-02-15 5029.73 \n",
       "534 2024-02-16 5005.57 \n",
       "535 2024-02-20 4975.51 \n",
       "536 2024-02-21 4981.80 \n",
       "537 2024-02-22 5087.03 \n",
       "538 2024-02-23 5088.80 \n",
       "539 2024-02-26 5069.53 \n",
       "540 2024-02-27 5078.18 \n",
       "541 2024-02-28 5069.76 \n",
       "542 2024-02-29 5096.27 \n",
       "543 2024-03-01 5137.08 \n",
       "544 2024-03-04 5130.95 \n",
       "545 2024-03-05 5078.65 \n",
       "546 2024-03-06 5104.76 \n",
       "547 2024-03-07 5157.36 \n",
       "548 2024-03-08 5123.69 \n",
       "549 2024-03-11 5117.94 \n",
       "550 2024-03-12 5175.27 \n",
       "551 2024-03-13 5165.31 \n",
       "552 2024-03-14 5150.48 \n",
       "553 2024-03-15 5117.09 \n",
       "554 2024-03-18 5149.42 \n",
       "555 2024-03-19 5178.51 \n",
       "556 2024-03-20 5224.62 \n",
       "557 2024-03-21 5241.53 \n",
       "558 2024-03-22 5234.18 \n",
       "559 2024-03-25 5218.19 \n",
       "560 2024-03-26 5203.58 \n",
       "561 2024-03-27 5248.49 "
      ]
     },
     "metadata": {},
     "output_type": "display_data"
    }
   ],
   "source": [
    "data"
   ]
  },
  {
   "cell_type": "markdown",
   "id": "fdca4be5-a993-4290-8e24-6a219a88cb09",
   "metadata": {},
   "source": [
    "### Series"
   ]
  },
  {
   "cell_type": "code",
   "execution_count": 4,
   "id": "d1092703-25d4-4562-b0e1-c3de02811ed7",
   "metadata": {},
   "outputs": [
    {
     "data": {
      "text/html": [
       "<table class=\"dataframe\">\n",
       "<caption>A tbl_ts: 561 × 2</caption>\n",
       "<thead>\n",
       "\t<tr><th scope=col>t</th><th scope=col>adjusted</th></tr>\n",
       "\t<tr><th scope=col>&lt;int&gt;</th><th scope=col>&lt;dbl&gt;</th></tr>\n",
       "</thead>\n",
       "<tbody>\n",
       "\t<tr><td> 1</td><td>4796.56</td></tr>\n",
       "\t<tr><td> 2</td><td>4793.54</td></tr>\n",
       "\t<tr><td> 3</td><td>4700.58</td></tr>\n",
       "\t<tr><td> 4</td><td>4696.05</td></tr>\n",
       "\t<tr><td> 5</td><td>4677.03</td></tr>\n",
       "\t<tr><td> 6</td><td>4670.29</td></tr>\n",
       "\t<tr><td> 7</td><td>4713.07</td></tr>\n",
       "\t<tr><td> 8</td><td>4726.35</td></tr>\n",
       "\t<tr><td> 9</td><td>4659.03</td></tr>\n",
       "\t<tr><td>10</td><td>4662.85</td></tr>\n",
       "\t<tr><td>11</td><td>4577.11</td></tr>\n",
       "\t<tr><td>12</td><td>4532.76</td></tr>\n",
       "\t<tr><td>13</td><td>4482.73</td></tr>\n",
       "\t<tr><td>14</td><td>4397.94</td></tr>\n",
       "\t<tr><td>15</td><td>4410.13</td></tr>\n",
       "\t<tr><td>16</td><td>4356.45</td></tr>\n",
       "\t<tr><td>17</td><td>4349.93</td></tr>\n",
       "\t<tr><td>18</td><td>4326.51</td></tr>\n",
       "\t<tr><td>19</td><td>4431.85</td></tr>\n",
       "\t<tr><td>20</td><td>4515.55</td></tr>\n",
       "\t<tr><td>21</td><td>4546.54</td></tr>\n",
       "\t<tr><td>22</td><td>4589.38</td></tr>\n",
       "\t<tr><td>23</td><td>4477.44</td></tr>\n",
       "\t<tr><td>24</td><td>4500.53</td></tr>\n",
       "\t<tr><td>25</td><td>4483.87</td></tr>\n",
       "\t<tr><td>26</td><td>4521.54</td></tr>\n",
       "\t<tr><td>27</td><td>4587.18</td></tr>\n",
       "\t<tr><td>28</td><td>4504.08</td></tr>\n",
       "\t<tr><td>29</td><td>4418.64</td></tr>\n",
       "\t<tr><td>30</td><td>4401.67</td></tr>\n",
       "\t<tr><td>...</td><td>...</td></tr>\n",
       "\t<tr><td>532</td><td>5000.62</td></tr>\n",
       "\t<tr><td>533</td><td>5029.73</td></tr>\n",
       "\t<tr><td>534</td><td>5005.57</td></tr>\n",
       "\t<tr><td>535</td><td>4975.51</td></tr>\n",
       "\t<tr><td>536</td><td>4981.80</td></tr>\n",
       "\t<tr><td>537</td><td>5087.03</td></tr>\n",
       "\t<tr><td>538</td><td>5088.80</td></tr>\n",
       "\t<tr><td>539</td><td>5069.53</td></tr>\n",
       "\t<tr><td>540</td><td>5078.18</td></tr>\n",
       "\t<tr><td>541</td><td>5069.76</td></tr>\n",
       "\t<tr><td>542</td><td>5096.27</td></tr>\n",
       "\t<tr><td>543</td><td>5137.08</td></tr>\n",
       "\t<tr><td>544</td><td>5130.95</td></tr>\n",
       "\t<tr><td>545</td><td>5078.65</td></tr>\n",
       "\t<tr><td>546</td><td>5104.76</td></tr>\n",
       "\t<tr><td>547</td><td>5157.36</td></tr>\n",
       "\t<tr><td>548</td><td>5123.69</td></tr>\n",
       "\t<tr><td>549</td><td>5117.94</td></tr>\n",
       "\t<tr><td>550</td><td>5175.27</td></tr>\n",
       "\t<tr><td>551</td><td>5165.31</td></tr>\n",
       "\t<tr><td>552</td><td>5150.48</td></tr>\n",
       "\t<tr><td>553</td><td>5117.09</td></tr>\n",
       "\t<tr><td>554</td><td>5149.42</td></tr>\n",
       "\t<tr><td>555</td><td>5178.51</td></tr>\n",
       "\t<tr><td>556</td><td>5224.62</td></tr>\n",
       "\t<tr><td>557</td><td>5241.53</td></tr>\n",
       "\t<tr><td>558</td><td>5234.18</td></tr>\n",
       "\t<tr><td>559</td><td>5218.19</td></tr>\n",
       "\t<tr><td>560</td><td>5203.58</td></tr>\n",
       "\t<tr><td>561</td><td>5248.49</td></tr>\n",
       "</tbody>\n",
       "</table>\n"
      ],
      "text/latex": [
       "A tbl\\_ts: 561 × 2\n",
       "\\begin{tabular}{ll}\n",
       " t & adjusted\\\\\n",
       " <int> & <dbl>\\\\\n",
       "\\hline\n",
       "\t  1 & 4796.56\\\\\n",
       "\t  2 & 4793.54\\\\\n",
       "\t  3 & 4700.58\\\\\n",
       "\t  4 & 4696.05\\\\\n",
       "\t  5 & 4677.03\\\\\n",
       "\t  6 & 4670.29\\\\\n",
       "\t  7 & 4713.07\\\\\n",
       "\t  8 & 4726.35\\\\\n",
       "\t  9 & 4659.03\\\\\n",
       "\t 10 & 4662.85\\\\\n",
       "\t 11 & 4577.11\\\\\n",
       "\t 12 & 4532.76\\\\\n",
       "\t 13 & 4482.73\\\\\n",
       "\t 14 & 4397.94\\\\\n",
       "\t 15 & 4410.13\\\\\n",
       "\t 16 & 4356.45\\\\\n",
       "\t 17 & 4349.93\\\\\n",
       "\t 18 & 4326.51\\\\\n",
       "\t 19 & 4431.85\\\\\n",
       "\t 20 & 4515.55\\\\\n",
       "\t 21 & 4546.54\\\\\n",
       "\t 22 & 4589.38\\\\\n",
       "\t 23 & 4477.44\\\\\n",
       "\t 24 & 4500.53\\\\\n",
       "\t 25 & 4483.87\\\\\n",
       "\t 26 & 4521.54\\\\\n",
       "\t 27 & 4587.18\\\\\n",
       "\t 28 & 4504.08\\\\\n",
       "\t 29 & 4418.64\\\\\n",
       "\t 30 & 4401.67\\\\\n",
       "\t ... & ...\\\\\n",
       "\t 532 & 5000.62\\\\\n",
       "\t 533 & 5029.73\\\\\n",
       "\t 534 & 5005.57\\\\\n",
       "\t 535 & 4975.51\\\\\n",
       "\t 536 & 4981.80\\\\\n",
       "\t 537 & 5087.03\\\\\n",
       "\t 538 & 5088.80\\\\\n",
       "\t 539 & 5069.53\\\\\n",
       "\t 540 & 5078.18\\\\\n",
       "\t 541 & 5069.76\\\\\n",
       "\t 542 & 5096.27\\\\\n",
       "\t 543 & 5137.08\\\\\n",
       "\t 544 & 5130.95\\\\\n",
       "\t 545 & 5078.65\\\\\n",
       "\t 546 & 5104.76\\\\\n",
       "\t 547 & 5157.36\\\\\n",
       "\t 548 & 5123.69\\\\\n",
       "\t 549 & 5117.94\\\\\n",
       "\t 550 & 5175.27\\\\\n",
       "\t 551 & 5165.31\\\\\n",
       "\t 552 & 5150.48\\\\\n",
       "\t 553 & 5117.09\\\\\n",
       "\t 554 & 5149.42\\\\\n",
       "\t 555 & 5178.51\\\\\n",
       "\t 556 & 5224.62\\\\\n",
       "\t 557 & 5241.53\\\\\n",
       "\t 558 & 5234.18\\\\\n",
       "\t 559 & 5218.19\\\\\n",
       "\t 560 & 5203.58\\\\\n",
       "\t 561 & 5248.49\\\\\n",
       "\\end{tabular}\n"
      ],
      "text/markdown": [
       "\n",
       "A tbl_ts: 561 × 2\n",
       "\n",
       "| t &lt;int&gt; | adjusted &lt;dbl&gt; |\n",
       "|---|---|\n",
       "|  1 | 4796.56 |\n",
       "|  2 | 4793.54 |\n",
       "|  3 | 4700.58 |\n",
       "|  4 | 4696.05 |\n",
       "|  5 | 4677.03 |\n",
       "|  6 | 4670.29 |\n",
       "|  7 | 4713.07 |\n",
       "|  8 | 4726.35 |\n",
       "|  9 | 4659.03 |\n",
       "| 10 | 4662.85 |\n",
       "| 11 | 4577.11 |\n",
       "| 12 | 4532.76 |\n",
       "| 13 | 4482.73 |\n",
       "| 14 | 4397.94 |\n",
       "| 15 | 4410.13 |\n",
       "| 16 | 4356.45 |\n",
       "| 17 | 4349.93 |\n",
       "| 18 | 4326.51 |\n",
       "| 19 | 4431.85 |\n",
       "| 20 | 4515.55 |\n",
       "| 21 | 4546.54 |\n",
       "| 22 | 4589.38 |\n",
       "| 23 | 4477.44 |\n",
       "| 24 | 4500.53 |\n",
       "| 25 | 4483.87 |\n",
       "| 26 | 4521.54 |\n",
       "| 27 | 4587.18 |\n",
       "| 28 | 4504.08 |\n",
       "| 29 | 4418.64 |\n",
       "| 30 | 4401.67 |\n",
       "| ... | ... |\n",
       "| 532 | 5000.62 |\n",
       "| 533 | 5029.73 |\n",
       "| 534 | 5005.57 |\n",
       "| 535 | 4975.51 |\n",
       "| 536 | 4981.80 |\n",
       "| 537 | 5087.03 |\n",
       "| 538 | 5088.80 |\n",
       "| 539 | 5069.53 |\n",
       "| 540 | 5078.18 |\n",
       "| 541 | 5069.76 |\n",
       "| 542 | 5096.27 |\n",
       "| 543 | 5137.08 |\n",
       "| 544 | 5130.95 |\n",
       "| 545 | 5078.65 |\n",
       "| 546 | 5104.76 |\n",
       "| 547 | 5157.36 |\n",
       "| 548 | 5123.69 |\n",
       "| 549 | 5117.94 |\n",
       "| 550 | 5175.27 |\n",
       "| 551 | 5165.31 |\n",
       "| 552 | 5150.48 |\n",
       "| 553 | 5117.09 |\n",
       "| 554 | 5149.42 |\n",
       "| 555 | 5178.51 |\n",
       "| 556 | 5224.62 |\n",
       "| 557 | 5241.53 |\n",
       "| 558 | 5234.18 |\n",
       "| 559 | 5218.19 |\n",
       "| 560 | 5203.58 |\n",
       "| 561 | 5248.49 |\n",
       "\n"
      ],
      "text/plain": [
       "    t   adjusted\n",
       "1    1  4796.56 \n",
       "2    2  4793.54 \n",
       "3    3  4700.58 \n",
       "4    4  4696.05 \n",
       "5    5  4677.03 \n",
       "6    6  4670.29 \n",
       "7    7  4713.07 \n",
       "8    8  4726.35 \n",
       "9    9  4659.03 \n",
       "10  10  4662.85 \n",
       "11  11  4577.11 \n",
       "12  12  4532.76 \n",
       "13  13  4482.73 \n",
       "14  14  4397.94 \n",
       "15  15  4410.13 \n",
       "16  16  4356.45 \n",
       "17  17  4349.93 \n",
       "18  18  4326.51 \n",
       "19  19  4431.85 \n",
       "20  20  4515.55 \n",
       "21  21  4546.54 \n",
       "22  22  4589.38 \n",
       "23  23  4477.44 \n",
       "24  24  4500.53 \n",
       "25  25  4483.87 \n",
       "26  26  4521.54 \n",
       "27  27  4587.18 \n",
       "28  28  4504.08 \n",
       "29  29  4418.64 \n",
       "30  30  4401.67 \n",
       "... ... ...     \n",
       "532 532 5000.62 \n",
       "533 533 5029.73 \n",
       "534 534 5005.57 \n",
       "535 535 4975.51 \n",
       "536 536 4981.80 \n",
       "537 537 5087.03 \n",
       "538 538 5088.80 \n",
       "539 539 5069.53 \n",
       "540 540 5078.18 \n",
       "541 541 5069.76 \n",
       "542 542 5096.27 \n",
       "543 543 5137.08 \n",
       "544 544 5130.95 \n",
       "545 545 5078.65 \n",
       "546 546 5104.76 \n",
       "547 547 5157.36 \n",
       "548 548 5123.69 \n",
       "549 549 5117.94 \n",
       "550 550 5175.27 \n",
       "551 551 5165.31 \n",
       "552 552 5150.48 \n",
       "553 553 5117.09 \n",
       "554 554 5149.42 \n",
       "555 555 5178.51 \n",
       "556 556 5224.62 \n",
       "557 557 5241.53 \n",
       "558 558 5234.18 \n",
       "559 559 5218.19 \n",
       "560 560 5203.58 \n",
       "561 561 5248.49 "
      ]
     },
     "metadata": {},
     "output_type": "display_data"
    }
   ],
   "source": [
    "calls <- data |>\n",
    "  mutate(t = row_number()) |>\n",
    "  update_tsibble(index = t, regular = TRUE) %>% select(t, adjusted)\n",
    "calls"
   ]
  },
  {
   "cell_type": "code",
   "execution_count": 5,
   "id": "fef072e8-8990-4a9d-9b94-2fc0e45f47a9",
   "metadata": {},
   "outputs": [
    {
     "data": {
      "image/png": "[encoded data removed]",
      "text/plain": [
       "plot without title"
      ]
     },
     "metadata": {
      "image/png": {
       "height": 420,
       "width": 420
      }
     },
     "output_type": "display_data"
    }
   ],
   "source": [
    "calls <- data |>\n",
    "  mutate(t = row_number()) |>\n",
    "  update_tsibble(index = t, regular = TRUE) %>% select(t, adjusted)\n",
    "calls |>\n",
    "  model(\n",
    "    STL(adjusted ~ season(period = 5) + season(period = 20) + season(period = 252),\n",
    "        robust = TRUE)\n",
    "  ) |>\n",
    "  components() |>\n",
    "  autoplot() + labs(x = \"Observation\")"
   ]
  },
  {
   "cell_type": "code",
   "execution_count": 15,
   "id": "f0c45cfe-48ee-4f18-9ab0-e6c5d0e2f5c2",
   "metadata": {},
   "outputs": [],
   "source": [
    "my_dcmp_spec <- decomposition_model(\n",
    "  STL(adjusted ~ season(period = 5),\n",
    "      robust = TRUE),\n",
    "  ETS(season_adjust ~ season(\"N\"))\n",
    ")\n",
    "fc <- calls |>\n",
    "  model(my_dcmp_spec) |>\n",
    "  forecast(h = 25)\n"
   ]
  },
  {
   "cell_type": "code",
   "execution_count": 7,
   "id": "e73884c2-b24e-4e42-bfc4-40d1c18bd70a",
   "metadata": {},
   "outputs": [
    {
     "data": {
      "image/png": "[encoded data removed]",
      "text/plain": [
       "plot without title"
      ]
     },
     "metadata": {
      "image/png": {
       "height": 420,
       "width": 420
      }
     },
     "output_type": "display_data"
    }
   ],
   "source": [
    "plot = fc |>\n",
    "  fill_gaps() |>\n",
    "  autoplot(calls) +\n",
    "  labs(y = \"SP500\",\n",
    "       title = \"SP500\")\n",
    "plot"
   ]
  },
  {
   "cell_type": "markdown",
   "id": "d972a2ba-75e5-434e-8c8a-d474e0391d8f",
   "metadata": {},
   "source": [
    "cambiando los valores *K* afecta los componentes para hacer la predicción, entre mas valores K mas se afecta la predicción."
   ]
  },
  {
   "cell_type": "code",
   "execution_count": 8,
   "id": "4fd60d90-a03a-4f05-afb0-8db5268fcd17",
   "metadata": {},
   "outputs": [],
   "source": [
    "fit3 <- calls %>% \n",
    "  model(\n",
    "    harmonic = ARIMA(adjusted ~ trend() + fourier(period = 5, K = 2) + fourier(period = 25, K = 4) + fourier(period = 252, K = 10))\n",
    "  )"
   ]
  },
  {
   "cell_type": "code",
   "execution_count": 9,
   "id": "895d53cd-b191-4857-9952-7b6574ee752e",
   "metadata": {},
   "outputs": [
    {
     "data": {
      "image/png": "[encoded data removed]",
      "text/plain": [
       "plot without title"
      ]
     },
     "metadata": {
      "image/png": {
       "height": 420,
       "width": 420
      }
     },
     "output_type": "display_data"
    }
   ],
   "source": [
    "fc <- fit3 %>%\n",
    "  forecast(h = 25)\n",
    "\n",
    "fc |>\n",
    "  fill_gaps() |>\n",
    "  autoplot(calls) +\n",
    "  labs(y = \"SP500\",\n",
    "       title = \"SP500\")"
   ]
  },
  {
   "cell_type": "code",
   "execution_count": 10,
   "id": "dfa366b5-cf98-4db4-99c1-13c8569eac22",
   "metadata": {},
   "outputs": [],
   "source": [
    "data_fill_na = fill_gaps(data) %>% fill(adjusted, .direction = \"down\")"
   ]
  },
  {
   "cell_type": "code",
   "execution_count": 11,
   "id": "2f9a7289-8d4a-4f8e-bc18-db2f746b5d5e",
   "metadata": {},
   "outputs": [
    {
     "data": {
      "image/png": "[encoded data removed]",
      "text/plain": [
       "plot without title"
      ]
     },
     "metadata": {
      "image/png": {
       "height": 420,
       "width": 420
      }
     },
     "output_type": "display_data"
    }
   ],
   "source": [
    "comp_stl <- data_fill_na %>% \n",
    "  model(\n",
    "    STL(adjusted, robust = TRUE)\n",
    "  ) %>% \n",
    "  components() \n",
    "\n",
    "comp_stl %>% \n",
    "  autoplot()"
   ]
  },
  {
   "cell_type": "code",
   "execution_count": 12,
   "id": "07a01ff7-1c82-48e0-b1ee-d91915b300aa",
   "metadata": {},
   "outputs": [
    {
     "data": {
      "image/png": "[encoded data removed]",
      "text/plain": [
       "plot without title"
      ]
     },
     "metadata": {
      "image/png": {
       "height": 420,
       "width": 420
      }
     },
     "output_type": "display_data"
    },
    {
     "data": {
      "image/png": "[encoded data removed]",
      "text/plain": [
       "plot without title"
      ]
     },
     "metadata": {
      "image/png": {
       "height": 420,
       "width": 420
      }
     },
     "output_type": "display_data"
    },
    {
     "data": {
      "image/png": "[encoded data removed]",
      "text/plain": [
       "plot without title"
      ]
     },
     "metadata": {
      "image/png": {
       "height": 420,
       "width": 420
      }
     },
     "output_type": "display_data"
    }
   ],
   "source": [
    "comp_stl %>% \n",
    "  autoplot(season_year)\n",
    "comp_stl %>% \n",
    "  autoplot(season_week)\n",
    "comp_stl %>% \n",
    "  ggplot(aes(x = date, y = season_adjust)) +\n",
    "  geom_line()"
   ]
  },
  {
   "cell_type": "code",
   "execution_count": 13,
   "id": "8650ec07-dbf2-46b6-8223-548901994302",
   "metadata": {},
   "outputs": [
    {
     "data": {
      "image/png": "[encoded data removed]",
      "text/plain": [
       "plot without title"
      ]
     },
     "metadata": {
      "image/png": {
       "height": 420,
       "width": 420
      }
     },
     "output_type": "display_data"
    }
   ],
   "source": [
    "\n",
    "my_dcmp_spec <- decomposition_model(\n",
    "  STL(adjusted ~ season(period = 5),\n",
    "      robust = TRUE),\n",
    "  ETS(season_adjust)\n",
    ")\n",
    "fc <- data_fill_na |>\n",
    "  model(my_dcmp_spec) |>\n",
    "  forecast(h = 20)\n",
    "\n",
    "\n",
    "plot = fc |>\n",
    "  fill_gaps() |>\n",
    "  autoplot(data_fill_na) +\n",
    "  labs(y = \"SP500\",\n",
    "       title = \"SP500\")\n",
    "\n",
    "plot\n"
   ]
  },
  {
   "cell_type": "code",
   "execution_count": 14,
   "id": "fc8cecd1-2cc7-4f26-8022-ba0c9ae8e029",
   "metadata": {},
   "outputs": [
    {
     "name": "stderr",
     "output_type": "stream",
     "text": [
      "Warning message in sqrt(diag(best$var.coef)):\n",
      "\"NaNs produced\"\n"
     ]
    }
   ],
   "source": [
    "fit3 <- data_fill_na %>% \n",
    "  model(\n",
    "    harmonic = ARIMA(adjusted ~ trend() + fourier(period = 5, K = 2) + fourier(period = 252, K = 20))\n",
    "  )"
   ]
  },
  {
   "cell_type": "code",
   "execution_count": 22,
   "id": "b1b6e1e9-3a69-4b6c-8aba-e4ffe113c3a1",
   "metadata": {},
   "outputs": [],
   "source": [
    "fit3 <- data_fill_na %>% \n",
    "  model(\n",
    "    harmonic = ARIMA(adjusted ~ fourier(period = \"week\", K = 2) +\n",
    "          fourier(period = \"year\", K = 3))\n",
    "\n",
    "  )"
   ]
  },
  {
   "cell_type": "code",
   "execution_count": 25,
   "id": "ab144404-44cd-41eb-b074-b5a8e39056d4",
   "metadata": {},
   "outputs": [
    {
     "ename": "ERROR",
     "evalue": "Error in library(fable.prophet): there is no package called 'fable.prophet'\n",
     "output_type": "error",
     "traceback": [
      "Error in library(fable.prophet): there is no package called 'fable.prophet'\nTraceback:\n",
      "1. library(fable.prophet)"
     ]
    }
   ],
   "source": [
    "library(fable.prophet)\n",
    "colnames(data) = c(\"ds\", \"y\")"
   ]
  },
  {
   "cell_type": "code",
   "execution_count": 23,
   "id": "483dd537-d81f-4d60-bc29-05bc042f7951",
   "metadata": {},
   "outputs": [
    {
     "ename": "ERROR",
     "evalue": "Error in prophet(y): could not find function \"prophet\"\n",
     "output_type": "error",
     "traceback": [
      "Error in prophet(y): could not find function \"prophet\"\nTraceback:\n",
      "1. data %>% model(prphet = prophet(y))",
      "2. model(., prphet = prophet(y))",
      "3. model.tbl_ts(., prphet = prophet(y))",
      "4. dots_list(...)"
     ]
    }
   ],
   "source": [
    "fit_prophet = data %>% model(prophet = prophet(y))"
   ]
  },
  {
   "cell_type": "code",
   "execution_count": 24,
   "id": "3fa19abd-5be3-42a0-acf4-148d49b9b305",
   "metadata": {},
   "outputs": [
    {
     "ename": "ERROR",
     "evalue": "Error in components(fit_prophet): object 'fit_prophet' not found\n",
     "output_type": "error",
     "traceback": [
      "Error in components(fit_prophet): object 'fit_prophet' not found\nTraceback:\n",
      "1. autoplot(components(fit_prophet))",
      "2. components(fit_prophet)"
     ]
    }
   ],
   "source": [
    "fit_prophet |>\n",
    "  components() |>\n",
    "  autoplot()"
   ]
  },
  {
   "cell_type": "code",
   "execution_count": null,
   "id": "9a6d0f34-cd60-46a7-841f-fd79e9b88f50",
   "metadata": {},
   "outputs": [],
   "source": [
    "components(fit_prophet)"
   ]
  },
  {
   "cell_type": "code",
   "execution_count": null,
   "id": "07d44134-bf6a-4994-875e-9370fbff7801",
   "metadata": {},
   "outputs": [],
   "source": [
    "fit_prophet = data %>% model(prophet(y ~ season(type = \"additive\")))\n",
    "\n",
    "fc <- fit_prophet %>% forecast(h = 25)\n",
    "fc %>% autoplot(data)"
   ]
  },
  {
   "cell_type": "code",
   "execution_count": null,
   "id": "1839ad9f-361e-4fb1-9c70-7a646c466e16",
   "metadata": {},
   "outputs": [],
   "source": [
    "fit_prophet = data %>% model(prophet(y ~ season(period = \"day\", order = 5) +\n",
    "                                        season(period = \"week\", order = 2) +\n",
    "                                        season(period = \"year\", order = 2)))\n",
    "\n",
    "\n",
    "{r}\n",
    "fc <- fit_prophet %>% forecast(h = 25)\n",
    "fc %>% autoplot(data)\n"
   ]
  },
  {
   "cell_type": "code",
   "execution_count": null,
   "id": "89f5a26b-dd81-45df-8d66-bdff70c119bb",
   "metadata": {},
   "outputs": [],
   "source": []
  }
 ],
 "metadata": {
  "kernelspec": {
   "display_name": "R",
   "language": "R",
   "name": "ir"
  },
  "language_info": {
   "codemirror_mode": "r",
   "file_extension": ".r",
   "mimetype": "text/x-r-source",
   "name": "R",
   "pygments_lexer": "r",
   "version": "4.1.3"
  }
 },
 "nbformat": 4,
 "nbformat_minor": 5
}
