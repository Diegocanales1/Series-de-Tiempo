{
 "cells": [
  {
   "cell_type": "code",
   "execution_count": 2,
   "id": "f3600c57-d2e1-4f50-9ca6-0eb4a0d35d84",
   "metadata": {},
   "outputs": [
    {
     "name": "stderr",
     "output_type": "stream",
     "text": [
      "also installing the dependencies 'cli', 'lifecycle', 'rlang', 'scales', 'vctrs', 'withr'\n",
      "\n"
     ]
    },
    {
     "name": "stdout",
     "output_type": "stream",
     "text": [
      "\n",
      "  There are binary versions available but the source versions are later:\n",
      "          binary source needs_compilation\n",
      "cli        2.5.0  3.6.2              TRUE\n",
      "lifecycle  1.0.0  1.0.4             FALSE\n",
      "rlang     0.4.11  1.1.3              TRUE\n",
      "scales     1.1.1  1.3.0              TRUE\n",
      "vctrs      0.3.8  0.6.5              TRUE\n",
      "withr      2.4.2  3.0.0             FALSE\n",
      "ggplot2    3.3.3  3.4.4             FALSE\n",
      "\n",
      "  Binaries will be installed\n",
      "package 'cli' successfully unpacked and MD5 sums checked\n",
      "package 'rlang' successfully unpacked and MD5 sums checked\n",
      "package 'scales' successfully unpacked and MD5 sums checked\n",
      "package 'vctrs' successfully unpacked and MD5 sums checked\n",
      "\n",
      "The downloaded binary packages are in\n",
      "\tC:\\Users\\David\\AppData\\Local\\Temp\\Rtmp4cUQ71\\downloaded_packages\n"
     ]
    },
    {
     "name": "stderr",
     "output_type": "stream",
     "text": [
      "installing the source packages 'lifecycle', 'withr', 'ggplot2'\n",
      "\n",
      "Warning message in install.packages(\"ggplot2\"):\n",
      "\"installation of package 'lifecycle' had non-zero exit status\"Warning message in install.packages(\"ggplot2\"):\n",
      "\"installation of package 'ggplot2' had non-zero exit status\""
     ]
    }
   ],
   "source": [
    "install.packages(\"ggplot2\")"
   ]
  },
  {
   "cell_type": "code",
   "execution_count": 2,
   "id": "3466e5bd-67e8-4584-a3e6-99c90c180250",
   "metadata": {},
   "outputs": [
    {
     "data": {
      "text/html": [
       "1"
      ],
      "text/latex": [
       "1"
      ],
      "text/markdown": [
       "1"
      ],
      "text/plain": [
       "[1] 1"
      ]
     },
     "metadata": {},
     "output_type": "display_data"
    }
   ],
   "source": [
    "1"
   ]
  },
  {
   "cell_type": "code",
   "execution_count": 3,
   "id": "4cd26284-d1b4-4a28-b56d-962ff605583c",
   "metadata": {},
   "outputs": [
    {
     "data": {
      "text/html": [
       "2"
      ],
      "text/latex": [
       "2"
      ],
      "text/markdown": [
       "2"
      ],
      "text/plain": [
       "[1] 2"
      ]
     },
     "metadata": {},
     "output_type": "display_data"
    }
   ],
   "source": [
    "1+1"
   ]
  },
  {
   "cell_type": "code",
   "execution_count": 3,
   "id": "594f36b3-130d-4f67-9e2d-61f5b396df25",
   "metadata": {},
   "outputs": [],
   "source": [
    "a <- 1"
   ]
  },
  {
   "cell_type": "code",
   "execution_count": 4,
   "id": "a1ec2106-8a23-4b2d-a652-a221adcf03d8",
   "metadata": {},
   "outputs": [],
   "source": [
    "b = 1"
   ]
  },
  {
   "cell_type": "code",
   "execution_count": 5,
   "id": "0126e992-3966-41eb-9736-1969920c2fbb",
   "metadata": {},
   "outputs": [
    {
     "data": {
      "text/html": [
       "TRUE"
      ],
      "text/latex": [
       "TRUE"
      ],
      "text/markdown": [
       "TRUE"
      ],
      "text/plain": [
       "[1] TRUE"
      ]
     },
     "metadata": {},
     "output_type": "display_data"
    }
   ],
   "source": [
    "a == b"
   ]
  },
  {
   "cell_type": "code",
   "execution_count": 6,
   "id": "e46715d7-881a-4974-8370-d48a0c2df86e",
   "metadata": {},
   "outputs": [
    {
     "data": {
      "text/html": [
       "'numeric'"
      ],
      "text/latex": [
       "'numeric'"
      ],
      "text/markdown": [
       "'numeric'"
      ],
      "text/plain": [
       "[1] \"numeric\""
      ]
     },
     "metadata": {},
     "output_type": "display_data"
    }
   ],
   "source": [
    "class(a)"
   ]
  },
  {
   "cell_type": "code",
   "execution_count": 7,
   "id": "463f1c57-60b5-458c-88c2-34b544f8451a",
   "metadata": {},
   "outputs": [
    {
     "data": {
      "text/html": [
       "'numeric'"
      ],
      "text/latex": [
       "'numeric'"
      ],
      "text/markdown": [
       "'numeric'"
      ],
      "text/plain": [
       "[1] \"numeric\""
      ]
     },
     "metadata": {},
     "output_type": "display_data"
    }
   ],
   "source": [
    "class(b)"
   ]
  },
  {
   "cell_type": "code",
   "execution_count": 8,
   "id": "696e379d-83af-4848-ab55-0b13bdc476b4",
   "metadata": {},
   "outputs": [
    {
     "data": {
      "text/html": [
       "'Mostrar valor'"
      ],
      "text/latex": [
       "'Mostrar valor'"
      ],
      "text/markdown": [
       "'Mostrar valor'"
      ],
      "text/plain": [
       "[1] \"Mostrar valor\""
      ]
     },
     "metadata": {},
     "output_type": "display_data"
    }
   ],
   "source": [
    "paste(\"Mostrar valor\")"
   ]
  },
  {
   "cell_type": "code",
   "execution_count": 9,
   "id": "6393e15e-44e6-43cc-9f13-63d8eb7295f2",
   "metadata": {},
   "outputs": [
    {
     "name": "stdout",
     "output_type": "stream",
     "text": [
      "[1] 1\n"
     ]
    }
   ],
   "source": [
    "print(a)"
   ]
  },
  {
   "cell_type": "code",
   "execution_count": 10,
   "id": "e9b46529-3b2b-4c6c-9d97-c7d233b87970",
   "metadata": {},
   "outputs": [
    {
     "data": {
      "text/html": [
       "'1'"
      ],
      "text/latex": [
       "'1'"
      ],
      "text/markdown": [
       "'1'"
      ],
      "text/plain": [
       "[1] \"1\""
      ]
     },
     "metadata": {},
     "output_type": "display_data"
    }
   ],
   "source": [
    "paste(a)"
   ]
  },
  {
   "cell_type": "code",
   "execution_count": 11,
   "id": "0512c6dd-e50b-4728-b2ab-ed2cef7f49cb",
   "metadata": {},
   "outputs": [
    {
     "data": {
      "text/html": [
       "'hola'"
      ],
      "text/latex": [
       "'hola'"
      ],
      "text/markdown": [
       "'hola'"
      ],
      "text/plain": [
       "[1] \"hola\""
      ]
     },
     "metadata": {},
     "output_type": "display_data"
    }
   ],
   "source": [
    "msg <- \"hola\"\n",
    "msg"
   ]
  },
  {
   "cell_type": "code",
   "execution_count": 12,
   "id": "e6f1c2c9-2032-4886-9159-0adc43e4926f",
   "metadata": {},
   "outputs": [
    {
     "data": {
      "text/html": [
       "15"
      ],
      "text/latex": [
       "15"
      ],
      "text/markdown": [
       "15"
      ],
      "text/plain": [
       "[1] 15"
      ]
     },
     "metadata": {},
     "output_type": "display_data"
    }
   ],
   "source": [
    "5*3"
   ]
  },
  {
   "cell_type": "code",
   "execution_count": 13,
   "id": "0866c9b2-7f7c-45ff-9e90-f59940564fbe",
   "metadata": {},
   "outputs": [
    {
     "data": {
      "text/html": [
       "5"
      ],
      "text/latex": [
       "5"
      ],
      "text/markdown": [
       "5"
      ],
      "text/plain": [
       "[1] 5"
      ]
     },
     "metadata": {},
     "output_type": "display_data"
    }
   ],
   "source": [
    "10/2"
   ]
  },
  {
   "cell_type": "code",
   "execution_count": 14,
   "id": "d78987ba-6062-4c1a-bccc-d4197d36a241",
   "metadata": {},
   "outputs": [],
   "source": [
    "x = c(0.5, 0.6)       ## numeric\n",
    "x = c(TRUE, FALSE)    ## Logical\n",
    "x = c(T,F)            ## Logical\n",
    "x = c(\"a\", \"b\", \"c\")  ## character\n",
    "x = 9:29              ## integer\n",
    "x = c(1+0i, 2+4i)     ## complex"
   ]
  },
  {
   "cell_type": "code",
   "execution_count": 15,
   "id": "478fd5f6-1d09-4f18-9c17-ecbac2060265",
   "metadata": {},
   "outputs": [
    {
     "data": {
      "text/html": [
       "<ol class=list-inline>\n",
       "\t<li>1+0i</li>\n",
       "\t<li>2+4i</li>\n",
       "</ol>\n"
      ],
      "text/latex": [
       "\\begin{enumerate*}\n",
       "\\item 1+0i\n",
       "\\item 2+4i\n",
       "\\end{enumerate*}\n"
      ],
      "text/markdown": [
       "1. 1+0i\n",
       "2. 2+4i\n",
       "\n",
       "\n"
      ],
      "text/plain": [
       "[1] 1+0i 2+4i"
      ]
     },
     "metadata": {},
     "output_type": "display_data"
    }
   ],
   "source": [
    "x"
   ]
  },
  {
   "cell_type": "code",
   "execution_count": 16,
   "id": "e6db365a-3196-4f13-9f20-0b8899f6e129",
   "metadata": {},
   "outputs": [
    {
     "data": {
      "text/html": [
       "'complex'"
      ],
      "text/latex": [
       "'complex'"
      ],
      "text/markdown": [
       "'complex'"
      ],
      "text/plain": [
       "[1] \"complex\""
      ]
     },
     "metadata": {},
     "output_type": "display_data"
    }
   ],
   "source": [
    "class(x)"
   ]
  },
  {
   "cell_type": "code",
   "execution_count": 17,
   "id": "d8ddf699-1794-4474-bc75-4edcc8ae7755",
   "metadata": {},
   "outputs": [
    {
     "data": {
      "text/html": [
       "<ol class=list-inline>\n",
       "\t<li>0</li>\n",
       "\t<li>0</li>\n",
       "\t<li>0</li>\n",
       "\t<li>0</li>\n",
       "\t<li>0</li>\n",
       "\t<li>0</li>\n",
       "\t<li>0</li>\n",
       "\t<li>0</li>\n",
       "\t<li>0</li>\n",
       "\t<li>0</li>\n",
       "</ol>\n"
      ],
      "text/latex": [
       "\\begin{enumerate*}\n",
       "\\item 0\n",
       "\\item 0\n",
       "\\item 0\n",
       "\\item 0\n",
       "\\item 0\n",
       "\\item 0\n",
       "\\item 0\n",
       "\\item 0\n",
       "\\item 0\n",
       "\\item 0\n",
       "\\end{enumerate*}\n"
      ],
      "text/markdown": [
       "1. 0\n",
       "2. 0\n",
       "3. 0\n",
       "4. 0\n",
       "5. 0\n",
       "6. 0\n",
       "7. 0\n",
       "8. 0\n",
       "9. 0\n",
       "10. 0\n",
       "\n",
       "\n"
      ],
      "text/plain": [
       " [1] 0 0 0 0 0 0 0 0 0 0"
      ]
     },
     "metadata": {},
     "output_type": "display_data"
    }
   ],
   "source": [
    "x = vector(\"numeric\" , length = 10)\n",
    "x"
   ]
  },
  {
   "cell_type": "code",
   "execution_count": 18,
   "id": "57ac0a7c-6c42-4c98-8ceb-f14c964dcdb7",
   "metadata": {},
   "outputs": [
    {
     "data": {
      "text/html": [
       "<ol class=list-inline>\n",
       "\t<li>'1.7'</li>\n",
       "\t<li>'a'</li>\n",
       "</ol>\n"
      ],
      "text/latex": [
       "\\begin{enumerate*}\n",
       "\\item '1.7'\n",
       "\\item 'a'\n",
       "\\end{enumerate*}\n"
      ],
      "text/markdown": [
       "1. '1.7'\n",
       "2. 'a'\n",
       "\n",
       "\n"
      ],
      "text/plain": [
       "[1] \"1.7\" \"a\"  "
      ]
     },
     "metadata": {},
     "output_type": "display_data"
    }
   ],
   "source": [
    "y = c(1.7, \"a\") ## character\n",
    "y"
   ]
  },
  {
   "cell_type": "code",
   "execution_count": 19,
   "id": "a085083e-0e06-4f5e-b0a1-e067d17c86cd",
   "metadata": {},
   "outputs": [
    {
     "data": {
      "text/html": [
       "'character'"
      ],
      "text/latex": [
       "'character'"
      ],
      "text/markdown": [
       "'character'"
      ],
      "text/plain": [
       "[1] \"character\""
      ]
     },
     "metadata": {},
     "output_type": "display_data"
    }
   ],
   "source": [
    "class(y)"
   ]
  },
  {
   "cell_type": "code",
   "execution_count": 20,
   "id": "ddfa3e1a-6fdd-4e28-9afb-ba6fb45e21cf",
   "metadata": {},
   "outputs": [
    {
     "data": {
      "text/html": [
       "'valor de y :'"
      ],
      "text/latex": [
       "'valor de y :'"
      ],
      "text/markdown": [
       "'valor de y :'"
      ],
      "text/plain": [
       "[1] \"valor de y :\""
      ]
     },
     "metadata": {},
     "output_type": "display_data"
    },
    {
     "data": {
      "text/html": [
       "<ol class=list-inline>\n",
       "\t<li>1</li>\n",
       "\t<li>2</li>\n",
       "</ol>\n"
      ],
      "text/latex": [
       "\\begin{enumerate*}\n",
       "\\item 1\n",
       "\\item 2\n",
       "\\end{enumerate*}\n"
      ],
      "text/markdown": [
       "1. 1\n",
       "2. 2\n",
       "\n",
       "\n"
      ],
      "text/plain": [
       "[1] 1 2"
      ]
     },
     "metadata": {},
     "output_type": "display_data"
    },
    {
     "data": {
      "text/html": [
       "'Clase de y :'"
      ],
      "text/latex": [
       "'Clase de y :'"
      ],
      "text/markdown": [
       "'Clase de y :'"
      ],
      "text/plain": [
       "[1] \"Clase de y :\""
      ]
     },
     "metadata": {},
     "output_type": "display_data"
    },
    {
     "data": {
      "text/html": [
       "'numeric'"
      ],
      "text/latex": [
       "'numeric'"
      ],
      "text/markdown": [
       "'numeric'"
      ],
      "text/plain": [
       "[1] \"numeric\""
      ]
     },
     "metadata": {},
     "output_type": "display_data"
    }
   ],
   "source": [
    "y = c(TRUE, 2)     ## numeric\n",
    "paste(\"valor de y :\")\n",
    "y\n",
    "paste(\"Clase de y :\")\n",
    "class(y)"
   ]
  },
  {
   "cell_type": "code",
   "execution_count": 21,
   "id": "abaa6cd7-0c34-4fb5-a616-b6331276b9d2",
   "metadata": {},
   "outputs": [
    {
     "data": {
      "text/html": [
       "<table>\n",
       "<tbody>\n",
       "\t<tr><td>NA</td><td>NA</td><td>NA</td></tr>\n",
       "\t<tr><td>NA</td><td>NA</td><td>NA</td></tr>\n",
       "</tbody>\n",
       "</table>\n"
      ],
      "text/latex": [
       "\\begin{tabular}{lll}\n",
       "\t NA & NA & NA\\\\\n",
       "\t NA & NA & NA\\\\\n",
       "\\end{tabular}\n"
      ],
      "text/markdown": [
       "\n",
       "| NA | NA | NA |\n",
       "| NA | NA | NA |\n",
       "\n"
      ],
      "text/plain": [
       "     [,1] [,2] [,3]\n",
       "[1,] NA   NA   NA  \n",
       "[2,] NA   NA   NA  "
      ]
     },
     "metadata": {},
     "output_type": "display_data"
    }
   ],
   "source": [
    "m = matrix(nrow = 2, ncol = 3)\n",
    "m"
   ]
  },
  {
   "cell_type": "code",
   "execution_count": 22,
   "id": "16ab5e5e-0c01-4933-8660-d68bf41a411a",
   "metadata": {},
   "outputs": [
    {
     "data": {
      "text/html": [
       "<ol class=list-inline>\n",
       "\t<li>2</li>\n",
       "\t<li>3</li>\n",
       "</ol>\n"
      ],
      "text/latex": [
       "\\begin{enumerate*}\n",
       "\\item 2\n",
       "\\item 3\n",
       "\\end{enumerate*}\n"
      ],
      "text/markdown": [
       "1. 2\n",
       "2. 3\n",
       "\n",
       "\n"
      ],
      "text/plain": [
       "[1] 2 3"
      ]
     },
     "metadata": {},
     "output_type": "display_data"
    }
   ],
   "source": [
    "dim(m)"
   ]
  },
  {
   "cell_type": "code",
   "execution_count": 23,
   "id": "4c4938ec-7d91-4ea8-b797-b88514c1cbf1",
   "metadata": {},
   "outputs": [
    {
     "data": {
      "text/html": [
       "<table>\n",
       "<tbody>\n",
       "\t<tr><td>1</td><td>3</td><td>5</td></tr>\n",
       "\t<tr><td>2</td><td>4</td><td>6</td></tr>\n",
       "</tbody>\n",
       "</table>\n"
      ],
      "text/latex": [
       "\\begin{tabular}{lll}\n",
       "\t 1 & 3 & 5\\\\\n",
       "\t 2 & 4 & 6\\\\\n",
       "\\end{tabular}\n"
      ],
      "text/markdown": [
       "\n",
       "| 1 | 3 | 5 |\n",
       "| 2 | 4 | 6 |\n",
       "\n"
      ],
      "text/plain": [
       "     [,1] [,2] [,3]\n",
       "[1,] 1    3    5   \n",
       "[2,] 2    4    6   "
      ]
     },
     "metadata": {},
     "output_type": "display_data"
    }
   ],
   "source": [
    "m = matrix(1:6, nrow = 2, ncol = 3)\n",
    "m"
   ]
  },
  {
   "cell_type": "code",
   "execution_count": 24,
   "id": "f8946e67-8262-459e-ade0-5f5d38587b9d",
   "metadata": {},
   "outputs": [
    {
     "data": {
      "text/html": [
       "<table>\n",
       "<thead><tr><th scope=col>x</th><th scope=col>y</th></tr></thead>\n",
       "<tbody>\n",
       "\t<tr><td>1 </td><td> 1</td></tr>\n",
       "\t<tr><td>2 </td><td> 2</td></tr>\n",
       "\t<tr><td>3 </td><td> 3</td></tr>\n",
       "\t<tr><td>1 </td><td> 4</td></tr>\n",
       "\t<tr><td>2 </td><td> 5</td></tr>\n",
       "\t<tr><td>3 </td><td> 6</td></tr>\n",
       "\t<tr><td>1 </td><td> 7</td></tr>\n",
       "\t<tr><td>2 </td><td> 8</td></tr>\n",
       "\t<tr><td>3 </td><td> 9</td></tr>\n",
       "\t<tr><td>1 </td><td>10</td></tr>\n",
       "\t<tr><td>2 </td><td>11</td></tr>\n",
       "\t<tr><td>3 </td><td>12</td></tr>\n",
       "</tbody>\n",
       "</table>\n"
      ],
      "text/latex": [
       "\\begin{tabular}{ll}\n",
       " x & y\\\\\n",
       "\\hline\n",
       "\t 1  &  1\\\\\n",
       "\t 2  &  2\\\\\n",
       "\t 3  &  3\\\\\n",
       "\t 1  &  4\\\\\n",
       "\t 2  &  5\\\\\n",
       "\t 3  &  6\\\\\n",
       "\t 1  &  7\\\\\n",
       "\t 2  &  8\\\\\n",
       "\t 3  &  9\\\\\n",
       "\t 1  & 10\\\\\n",
       "\t 2  & 11\\\\\n",
       "\t 3  & 12\\\\\n",
       "\\end{tabular}\n"
      ],
      "text/markdown": [
       "\n",
       "| x | y |\n",
       "|---|---|\n",
       "| 1  |  1 |\n",
       "| 2  |  2 |\n",
       "| 3  |  3 |\n",
       "| 1  |  4 |\n",
       "| 2  |  5 |\n",
       "| 3  |  6 |\n",
       "| 1  |  7 |\n",
       "| 2  |  8 |\n",
       "| 3  |  9 |\n",
       "| 1  | 10 |\n",
       "| 2  | 11 |\n",
       "| 3  | 12 |\n",
       "\n"
      ],
      "text/plain": [
       "      x y \n",
       " [1,] 1  1\n",
       " [2,] 2  2\n",
       " [3,] 3  3\n",
       " [4,] 1  4\n",
       " [5,] 2  5\n",
       " [6,] 3  6\n",
       " [7,] 1  7\n",
       " [8,] 2  8\n",
       " [9,] 3  9\n",
       "[10,] 1 10\n",
       "[11,] 2 11\n",
       "[12,] 3 12"
      ]
     },
     "metadata": {},
     "output_type": "display_data"
    }
   ],
   "source": [
    "x = 1:3\n",
    "y = 1:12\n",
    "cbind (x, y)"
   ]
  },
  {
   "cell_type": "code",
   "execution_count": 25,
   "id": "4089e575-b844-4213-bedd-1ec53aa092fe",
   "metadata": {},
   "outputs": [
    {
     "data": {
      "text/html": [
       "<table>\n",
       "<tbody>\n",
       "\t<tr><th scope=row>x</th><td>1 </td><td>2 </td><td>3 </td><td>1 </td><td>2 </td><td>3 </td><td>1 </td><td>2 </td><td>3 </td><td> 1</td><td> 2</td><td> 3</td></tr>\n",
       "\t<tr><th scope=row>y</th><td>1 </td><td>2 </td><td>3 </td><td>4 </td><td>5 </td><td>6 </td><td>7 </td><td>8 </td><td>9 </td><td>10</td><td>11</td><td>12</td></tr>\n",
       "</tbody>\n",
       "</table>\n"
      ],
      "text/latex": [
       "\\begin{tabular}{r|llllllllllll}\n",
       "\tx & 1  & 2  & 3  & 1  & 2  & 3  & 1  & 2  & 3  &  1 &  2 &  3\\\\\n",
       "\ty & 1  & 2  & 3  & 4  & 5  & 6  & 7  & 8  & 9  & 10 & 11 & 12\\\\\n",
       "\\end{tabular}\n"
      ],
      "text/markdown": [
       "\n",
       "| x | 1  | 2  | 3  | 1  | 2  | 3  | 1  | 2  | 3  |  1 |  2 |  3 |\n",
       "| y | 1  | 2  | 3  | 4  | 5  | 6  | 7  | 8  | 9  | 10 | 11 | 12 |\n",
       "\n"
      ],
      "text/plain": [
       "  [,1] [,2] [,3] [,4] [,5] [,6] [,7] [,8] [,9] [,10] [,11] [,12]\n",
       "x 1    2    3    1    2    3    1    2    3     1     2     3   \n",
       "y 1    2    3    4    5    6    7    8    9    10    11    12   "
      ]
     },
     "metadata": {},
     "output_type": "display_data"
    }
   ],
   "source": [
    "rbind(x,y)"
   ]
  },
  {
   "cell_type": "code",
   "execution_count": 26,
   "id": "5041ba0e-da6f-4ad4-a7fb-43f6555c0145",
   "metadata": {},
   "outputs": [
    {
     "data": {
      "text/html": [
       "<ol>\n",
       "\t<li>1</li>\n",
       "\t<li>'a'</li>\n",
       "\t<li>TRUE</li>\n",
       "\t<li>1+4i</li>\n",
       "</ol>\n"
      ],
      "text/latex": [
       "\\begin{enumerate}\n",
       "\\item 1\n",
       "\\item 'a'\n",
       "\\item TRUE\n",
       "\\item 1+4i\n",
       "\\end{enumerate}\n"
      ],
      "text/markdown": [
       "1. 1\n",
       "2. 'a'\n",
       "3. TRUE\n",
       "4. 1+4i\n",
       "\n",
       "\n"
      ],
      "text/plain": [
       "[[1]]\n",
       "[1] 1\n",
       "\n",
       "[[2]]\n",
       "[1] \"a\"\n",
       "\n",
       "[[3]]\n",
       "[1] TRUE\n",
       "\n",
       "[[4]]\n",
       "[1] 1+4i\n"
      ]
     },
     "metadata": {},
     "output_type": "display_data"
    }
   ],
   "source": [
    "x = list(1, \"a\", TRUE, 1 + 4i)\n",
    "x"
   ]
  },
  {
   "cell_type": "code",
   "execution_count": 27,
   "id": "746c193d-b2e5-45da-836b-551adbbd6cb8",
   "metadata": {},
   "outputs": [
    {
     "data": {
      "text/html": [
       "<ol class=list-inline>\n",
       "\t<li>yes</li>\n",
       "\t<li>yes</li>\n",
       "\t<li>no</li>\n",
       "\t<li>yes</li>\n",
       "\t<li>no</li>\n",
       "</ol>\n",
       "\n",
       "<details>\n",
       "\t<summary style=display:list-item;cursor:pointer>\n",
       "\t\t<strong>Levels</strong>:\n",
       "\t</summary>\n",
       "\t<ol class=list-inline>\n",
       "\t\t<li>'no'</li>\n",
       "\t\t<li>'yes'</li>\n",
       "\t</ol>\n",
       "</details>"
      ],
      "text/latex": [
       "\\begin{enumerate*}\n",
       "\\item yes\n",
       "\\item yes\n",
       "\\item no\n",
       "\\item yes\n",
       "\\item no\n",
       "\\end{enumerate*}\n",
       "\n",
       "\\emph{Levels}: \\begin{enumerate*}\n",
       "\\item 'no'\n",
       "\\item 'yes'\n",
       "\\end{enumerate*}\n"
      ],
      "text/markdown": [
       "1. yes\n",
       "2. yes\n",
       "3. no\n",
       "4. yes\n",
       "5. no\n",
       "\n",
       "\n",
       "\n",
       "**Levels**: 1. 'no'\n",
       "2. 'yes'\n",
       "\n",
       "\n"
      ],
      "text/plain": [
       "[1] yes yes no  yes no \n",
       "Levels: no yes"
      ]
     },
     "metadata": {},
     "output_type": "display_data"
    }
   ],
   "source": [
    "x = factor(c( 'yes', 'yes', 'no', 'yes', 'no'))\n",
    "x"
   ]
  },
  {
   "cell_type": "code",
   "execution_count": 28,
   "id": "50013c37-1c35-4a0b-9455-6e0c63f2f3ec",
   "metadata": {},
   "outputs": [
    {
     "data": {
      "text/html": [
       "<ol class=list-inline>\n",
       "\t<li>FALSE</li>\n",
       "\t<li>FALSE</li>\n",
       "\t<li>TRUE</li>\n",
       "\t<li>FALSE</li>\n",
       "\t<li>FALSE</li>\n",
       "</ol>\n"
      ],
      "text/latex": [
       "\\begin{enumerate*}\n",
       "\\item FALSE\n",
       "\\item FALSE\n",
       "\\item TRUE\n",
       "\\item FALSE\n",
       "\\item FALSE\n",
       "\\end{enumerate*}\n"
      ],
      "text/markdown": [
       "1. FALSE\n",
       "2. FALSE\n",
       "3. TRUE\n",
       "4. FALSE\n",
       "5. FALSE\n",
       "\n",
       "\n"
      ],
      "text/plain": [
       "[1] FALSE FALSE  TRUE FALSE FALSE"
      ]
     },
     "metadata": {},
     "output_type": "display_data"
    }
   ],
   "source": [
    "## Crea un vector con valores NA\n",
    "x = c(1, 2, NA, 10, 3)\n",
    "## Devuelve un vector lógico idicando que elementos son NA \n",
    "is.na(x)"
   ]
  },
  {
   "cell_type": "code",
   "execution_count": 29,
   "id": "10dddc8e-928c-487a-a579-5b8880e87467",
   "metadata": {},
   "outputs": [
    {
     "data": {
      "text/html": [
       "<table>\n",
       "<thead><tr><th scope=col>Sepal.Length</th><th scope=col>Sepal.Width</th><th scope=col>Petal.Length</th><th scope=col>Petal.Width</th><th scope=col>Species</th></tr></thead>\n",
       "<tbody>\n",
       "\t<tr><td>5.1   </td><td>3.5   </td><td>1.4   </td><td>0.2   </td><td>setosa</td></tr>\n",
       "\t<tr><td>4.9   </td><td>3.0   </td><td>1.4   </td><td>0.2   </td><td>setosa</td></tr>\n",
       "\t<tr><td>4.7   </td><td>3.2   </td><td>1.3   </td><td>0.2   </td><td>setosa</td></tr>\n",
       "\t<tr><td>4.6   </td><td>3.1   </td><td>1.5   </td><td>0.2   </td><td>setosa</td></tr>\n",
       "\t<tr><td>5.0   </td><td>3.6   </td><td>1.4   </td><td>0.2   </td><td>setosa</td></tr>\n",
       "\t<tr><td>5.4   </td><td>3.9   </td><td>1.7   </td><td>0.4   </td><td>setosa</td></tr>\n",
       "\t<tr><td>4.6   </td><td>3.4   </td><td>1.4   </td><td>0.3   </td><td>setosa</td></tr>\n",
       "\t<tr><td>5.0   </td><td>3.4   </td><td>1.5   </td><td>0.2   </td><td>setosa</td></tr>\n",
       "\t<tr><td>4.4   </td><td>2.9   </td><td>1.4   </td><td>0.2   </td><td>setosa</td></tr>\n",
       "\t<tr><td>4.9   </td><td>3.1   </td><td>1.5   </td><td>0.1   </td><td>setosa</td></tr>\n",
       "\t<tr><td>5.4   </td><td>3.7   </td><td>1.5   </td><td>0.2   </td><td>setosa</td></tr>\n",
       "\t<tr><td>4.8   </td><td>3.4   </td><td>1.6   </td><td>0.2   </td><td>setosa</td></tr>\n",
       "\t<tr><td>4.8   </td><td>3.0   </td><td>1.4   </td><td>0.1   </td><td>setosa</td></tr>\n",
       "\t<tr><td>4.3   </td><td>3.0   </td><td>1.1   </td><td>0.1   </td><td>setosa</td></tr>\n",
       "\t<tr><td>5.8   </td><td>4.0   </td><td>1.2   </td><td>0.2   </td><td>setosa</td></tr>\n",
       "\t<tr><td>5.7   </td><td>4.4   </td><td>1.5   </td><td>0.4   </td><td>setosa</td></tr>\n",
       "\t<tr><td>5.4   </td><td>3.9   </td><td>1.3   </td><td>0.4   </td><td>setosa</td></tr>\n",
       "\t<tr><td>5.1   </td><td>3.5   </td><td>1.4   </td><td>0.3   </td><td>setosa</td></tr>\n",
       "\t<tr><td>5.7   </td><td>3.8   </td><td>1.7   </td><td>0.3   </td><td>setosa</td></tr>\n",
       "\t<tr><td>5.1   </td><td>3.8   </td><td>1.5   </td><td>0.3   </td><td>setosa</td></tr>\n",
       "\t<tr><td>5.4   </td><td>3.4   </td><td>1.7   </td><td>0.2   </td><td>setosa</td></tr>\n",
       "\t<tr><td>5.1   </td><td>3.7   </td><td>1.5   </td><td>0.4   </td><td>setosa</td></tr>\n",
       "\t<tr><td>4.6   </td><td>3.6   </td><td>1.0   </td><td>0.2   </td><td>setosa</td></tr>\n",
       "\t<tr><td>5.1   </td><td>3.3   </td><td>1.7   </td><td>0.5   </td><td>setosa</td></tr>\n",
       "\t<tr><td>4.8   </td><td>3.4   </td><td>1.9   </td><td>0.2   </td><td>setosa</td></tr>\n",
       "\t<tr><td>5.0   </td><td>3.0   </td><td>1.6   </td><td>0.2   </td><td>setosa</td></tr>\n",
       "\t<tr><td>5.0   </td><td>3.4   </td><td>1.6   </td><td>0.4   </td><td>setosa</td></tr>\n",
       "\t<tr><td>5.2   </td><td>3.5   </td><td>1.5   </td><td>0.2   </td><td>setosa</td></tr>\n",
       "\t<tr><td>5.2   </td><td>3.4   </td><td>1.4   </td><td>0.2   </td><td>setosa</td></tr>\n",
       "\t<tr><td>4.7   </td><td>3.2   </td><td>1.6   </td><td>0.2   </td><td>setosa</td></tr>\n",
       "\t<tr><td>...</td><td>...</td><td>...</td><td>...</td><td>...</td></tr>\n",
       "\t<tr><td>6.9      </td><td>3.2      </td><td>5.7      </td><td>2.3      </td><td>virginica</td></tr>\n",
       "\t<tr><td>5.6      </td><td>2.8      </td><td>4.9      </td><td>2.0      </td><td>virginica</td></tr>\n",
       "\t<tr><td>7.7      </td><td>2.8      </td><td>6.7      </td><td>2.0      </td><td>virginica</td></tr>\n",
       "\t<tr><td>6.3      </td><td>2.7      </td><td>4.9      </td><td>1.8      </td><td>virginica</td></tr>\n",
       "\t<tr><td>6.7      </td><td>3.3      </td><td>5.7      </td><td>2.1      </td><td>virginica</td></tr>\n",
       "\t<tr><td>7.2      </td><td>3.2      </td><td>6.0      </td><td>1.8      </td><td>virginica</td></tr>\n",
       "\t<tr><td>6.2      </td><td>2.8      </td><td>4.8      </td><td>1.8      </td><td>virginica</td></tr>\n",
       "\t<tr><td>6.1      </td><td>3.0      </td><td>4.9      </td><td>1.8      </td><td>virginica</td></tr>\n",
       "\t<tr><td>6.4      </td><td>2.8      </td><td>5.6      </td><td>2.1      </td><td>virginica</td></tr>\n",
       "\t<tr><td>7.2      </td><td>3.0      </td><td>5.8      </td><td>1.6      </td><td>virginica</td></tr>\n",
       "\t<tr><td>7.4      </td><td>2.8      </td><td>6.1      </td><td>1.9      </td><td>virginica</td></tr>\n",
       "\t<tr><td>7.9      </td><td>3.8      </td><td>6.4      </td><td>2.0      </td><td>virginica</td></tr>\n",
       "\t<tr><td>6.4      </td><td>2.8      </td><td>5.6      </td><td>2.2      </td><td>virginica</td></tr>\n",
       "\t<tr><td>6.3      </td><td>2.8      </td><td>5.1      </td><td>1.5      </td><td>virginica</td></tr>\n",
       "\t<tr><td>6.1      </td><td>2.6      </td><td>5.6      </td><td>1.4      </td><td>virginica</td></tr>\n",
       "\t<tr><td>7.7      </td><td>3.0      </td><td>6.1      </td><td>2.3      </td><td>virginica</td></tr>\n",
       "\t<tr><td>6.3      </td><td>3.4      </td><td>5.6      </td><td>2.4      </td><td>virginica</td></tr>\n",
       "\t<tr><td>6.4      </td><td>3.1      </td><td>5.5      </td><td>1.8      </td><td>virginica</td></tr>\n",
       "\t<tr><td>6.0      </td><td>3.0      </td><td>4.8      </td><td>1.8      </td><td>virginica</td></tr>\n",
       "\t<tr><td>6.9      </td><td>3.1      </td><td>5.4      </td><td>2.1      </td><td>virginica</td></tr>\n",
       "\t<tr><td>6.7      </td><td>3.1      </td><td>5.6      </td><td>2.4      </td><td>virginica</td></tr>\n",
       "\t<tr><td>6.9      </td><td>3.1      </td><td>5.1      </td><td>2.3      </td><td>virginica</td></tr>\n",
       "\t<tr><td>5.8      </td><td>2.7      </td><td>5.1      </td><td>1.9      </td><td>virginica</td></tr>\n",
       "\t<tr><td>6.8      </td><td>3.2      </td><td>5.9      </td><td>2.3      </td><td>virginica</td></tr>\n",
       "\t<tr><td>6.7      </td><td>3.3      </td><td>5.7      </td><td>2.5      </td><td>virginica</td></tr>\n",
       "\t<tr><td>6.7      </td><td>3.0      </td><td>5.2      </td><td>2.3      </td><td>virginica</td></tr>\n",
       "\t<tr><td>6.3      </td><td>2.5      </td><td>5.0      </td><td>1.9      </td><td>virginica</td></tr>\n",
       "\t<tr><td>6.5      </td><td>3.0      </td><td>5.2      </td><td>2.0      </td><td>virginica</td></tr>\n",
       "\t<tr><td>6.2      </td><td>3.4      </td><td>5.4      </td><td>2.3      </td><td>virginica</td></tr>\n",
       "\t<tr><td>5.9      </td><td>3.0      </td><td>5.1      </td><td>1.8      </td><td>virginica</td></tr>\n",
       "</tbody>\n",
       "</table>\n"
      ],
      "text/latex": [
       "\\begin{tabular}{r|lllll}\n",
       " Sepal.Length & Sepal.Width & Petal.Length & Petal.Width & Species\\\\\n",
       "\\hline\n",
       "\t 5.1    & 3.5    & 1.4    & 0.2    & setosa\\\\\n",
       "\t 4.9    & 3.0    & 1.4    & 0.2    & setosa\\\\\n",
       "\t 4.7    & 3.2    & 1.3    & 0.2    & setosa\\\\\n",
       "\t 4.6    & 3.1    & 1.5    & 0.2    & setosa\\\\\n",
       "\t 5.0    & 3.6    & 1.4    & 0.2    & setosa\\\\\n",
       "\t 5.4    & 3.9    & 1.7    & 0.4    & setosa\\\\\n",
       "\t 4.6    & 3.4    & 1.4    & 0.3    & setosa\\\\\n",
       "\t 5.0    & 3.4    & 1.5    & 0.2    & setosa\\\\\n",
       "\t 4.4    & 2.9    & 1.4    & 0.2    & setosa\\\\\n",
       "\t 4.9    & 3.1    & 1.5    & 0.1    & setosa\\\\\n",
       "\t 5.4    & 3.7    & 1.5    & 0.2    & setosa\\\\\n",
       "\t 4.8    & 3.4    & 1.6    & 0.2    & setosa\\\\\n",
       "\t 4.8    & 3.0    & 1.4    & 0.1    & setosa\\\\\n",
       "\t 4.3    & 3.0    & 1.1    & 0.1    & setosa\\\\\n",
       "\t 5.8    & 4.0    & 1.2    & 0.2    & setosa\\\\\n",
       "\t 5.7    & 4.4    & 1.5    & 0.4    & setosa\\\\\n",
       "\t 5.4    & 3.9    & 1.3    & 0.4    & setosa\\\\\n",
       "\t 5.1    & 3.5    & 1.4    & 0.3    & setosa\\\\\n",
       "\t 5.7    & 3.8    & 1.7    & 0.3    & setosa\\\\\n",
       "\t 5.1    & 3.8    & 1.5    & 0.3    & setosa\\\\\n",
       "\t 5.4    & 3.4    & 1.7    & 0.2    & setosa\\\\\n",
       "\t 5.1    & 3.7    & 1.5    & 0.4    & setosa\\\\\n",
       "\t 4.6    & 3.6    & 1.0    & 0.2    & setosa\\\\\n",
       "\t 5.1    & 3.3    & 1.7    & 0.5    & setosa\\\\\n",
       "\t 4.8    & 3.4    & 1.9    & 0.2    & setosa\\\\\n",
       "\t 5.0    & 3.0    & 1.6    & 0.2    & setosa\\\\\n",
       "\t 5.0    & 3.4    & 1.6    & 0.4    & setosa\\\\\n",
       "\t 5.2    & 3.5    & 1.5    & 0.2    & setosa\\\\\n",
       "\t 5.2    & 3.4    & 1.4    & 0.2    & setosa\\\\\n",
       "\t 4.7    & 3.2    & 1.6    & 0.2    & setosa\\\\\n",
       "\t ... & ... & ... & ... & ...\\\\\n",
       "\t 6.9       & 3.2       & 5.7       & 2.3       & virginica\\\\\n",
       "\t 5.6       & 2.8       & 4.9       & 2.0       & virginica\\\\\n",
       "\t 7.7       & 2.8       & 6.7       & 2.0       & virginica\\\\\n",
       "\t 6.3       & 2.7       & 4.9       & 1.8       & virginica\\\\\n",
       "\t 6.7       & 3.3       & 5.7       & 2.1       & virginica\\\\\n",
       "\t 7.2       & 3.2       & 6.0       & 1.8       & virginica\\\\\n",
       "\t 6.2       & 2.8       & 4.8       & 1.8       & virginica\\\\\n",
       "\t 6.1       & 3.0       & 4.9       & 1.8       & virginica\\\\\n",
       "\t 6.4       & 2.8       & 5.6       & 2.1       & virginica\\\\\n",
       "\t 7.2       & 3.0       & 5.8       & 1.6       & virginica\\\\\n",
       "\t 7.4       & 2.8       & 6.1       & 1.9       & virginica\\\\\n",
       "\t 7.9       & 3.8       & 6.4       & 2.0       & virginica\\\\\n",
       "\t 6.4       & 2.8       & 5.6       & 2.2       & virginica\\\\\n",
       "\t 6.3       & 2.8       & 5.1       & 1.5       & virginica\\\\\n",
       "\t 6.1       & 2.6       & 5.6       & 1.4       & virginica\\\\\n",
       "\t 7.7       & 3.0       & 6.1       & 2.3       & virginica\\\\\n",
       "\t 6.3       & 3.4       & 5.6       & 2.4       & virginica\\\\\n",
       "\t 6.4       & 3.1       & 5.5       & 1.8       & virginica\\\\\n",
       "\t 6.0       & 3.0       & 4.8       & 1.8       & virginica\\\\\n",
       "\t 6.9       & 3.1       & 5.4       & 2.1       & virginica\\\\\n",
       "\t 6.7       & 3.1       & 5.6       & 2.4       & virginica\\\\\n",
       "\t 6.9       & 3.1       & 5.1       & 2.3       & virginica\\\\\n",
       "\t 5.8       & 2.7       & 5.1       & 1.9       & virginica\\\\\n",
       "\t 6.8       & 3.2       & 5.9       & 2.3       & virginica\\\\\n",
       "\t 6.7       & 3.3       & 5.7       & 2.5       & virginica\\\\\n",
       "\t 6.7       & 3.0       & 5.2       & 2.3       & virginica\\\\\n",
       "\t 6.3       & 2.5       & 5.0       & 1.9       & virginica\\\\\n",
       "\t 6.5       & 3.0       & 5.2       & 2.0       & virginica\\\\\n",
       "\t 6.2       & 3.4       & 5.4       & 2.3       & virginica\\\\\n",
       "\t 5.9       & 3.0       & 5.1       & 1.8       & virginica\\\\\n",
       "\\end{tabular}\n"
      ],
      "text/markdown": [
       "\n",
       "| Sepal.Length | Sepal.Width | Petal.Length | Petal.Width | Species |\n",
       "|---|---|---|---|---|\n",
       "| 5.1    | 3.5    | 1.4    | 0.2    | setosa |\n",
       "| 4.9    | 3.0    | 1.4    | 0.2    | setosa |\n",
       "| 4.7    | 3.2    | 1.3    | 0.2    | setosa |\n",
       "| 4.6    | 3.1    | 1.5    | 0.2    | setosa |\n",
       "| 5.0    | 3.6    | 1.4    | 0.2    | setosa |\n",
       "| 5.4    | 3.9    | 1.7    | 0.4    | setosa |\n",
       "| 4.6    | 3.4    | 1.4    | 0.3    | setosa |\n",
       "| 5.0    | 3.4    | 1.5    | 0.2    | setosa |\n",
       "| 4.4    | 2.9    | 1.4    | 0.2    | setosa |\n",
       "| 4.9    | 3.1    | 1.5    | 0.1    | setosa |\n",
       "| 5.4    | 3.7    | 1.5    | 0.2    | setosa |\n",
       "| 4.8    | 3.4    | 1.6    | 0.2    | setosa |\n",
       "| 4.8    | 3.0    | 1.4    | 0.1    | setosa |\n",
       "| 4.3    | 3.0    | 1.1    | 0.1    | setosa |\n",
       "| 5.8    | 4.0    | 1.2    | 0.2    | setosa |\n",
       "| 5.7    | 4.4    | 1.5    | 0.4    | setosa |\n",
       "| 5.4    | 3.9    | 1.3    | 0.4    | setosa |\n",
       "| 5.1    | 3.5    | 1.4    | 0.3    | setosa |\n",
       "| 5.7    | 3.8    | 1.7    | 0.3    | setosa |\n",
       "| 5.1    | 3.8    | 1.5    | 0.3    | setosa |\n",
       "| 5.4    | 3.4    | 1.7    | 0.2    | setosa |\n",
       "| 5.1    | 3.7    | 1.5    | 0.4    | setosa |\n",
       "| 4.6    | 3.6    | 1.0    | 0.2    | setosa |\n",
       "| 5.1    | 3.3    | 1.7    | 0.5    | setosa |\n",
       "| 4.8    | 3.4    | 1.9    | 0.2    | setosa |\n",
       "| 5.0    | 3.0    | 1.6    | 0.2    | setosa |\n",
       "| 5.0    | 3.4    | 1.6    | 0.4    | setosa |\n",
       "| 5.2    | 3.5    | 1.5    | 0.2    | setosa |\n",
       "| 5.2    | 3.4    | 1.4    | 0.2    | setosa |\n",
       "| 4.7    | 3.2    | 1.6    | 0.2    | setosa |\n",
       "| ... | ... | ... | ... | ... |\n",
       "| 6.9       | 3.2       | 5.7       | 2.3       | virginica |\n",
       "| 5.6       | 2.8       | 4.9       | 2.0       | virginica |\n",
       "| 7.7       | 2.8       | 6.7       | 2.0       | virginica |\n",
       "| 6.3       | 2.7       | 4.9       | 1.8       | virginica |\n",
       "| 6.7       | 3.3       | 5.7       | 2.1       | virginica |\n",
       "| 7.2       | 3.2       | 6.0       | 1.8       | virginica |\n",
       "| 6.2       | 2.8       | 4.8       | 1.8       | virginica |\n",
       "| 6.1       | 3.0       | 4.9       | 1.8       | virginica |\n",
       "| 6.4       | 2.8       | 5.6       | 2.1       | virginica |\n",
       "| 7.2       | 3.0       | 5.8       | 1.6       | virginica |\n",
       "| 7.4       | 2.8       | 6.1       | 1.9       | virginica |\n",
       "| 7.9       | 3.8       | 6.4       | 2.0       | virginica |\n",
       "| 6.4       | 2.8       | 5.6       | 2.2       | virginica |\n",
       "| 6.3       | 2.8       | 5.1       | 1.5       | virginica |\n",
       "| 6.1       | 2.6       | 5.6       | 1.4       | virginica |\n",
       "| 7.7       | 3.0       | 6.1       | 2.3       | virginica |\n",
       "| 6.3       | 3.4       | 5.6       | 2.4       | virginica |\n",
       "| 6.4       | 3.1       | 5.5       | 1.8       | virginica |\n",
       "| 6.0       | 3.0       | 4.8       | 1.8       | virginica |\n",
       "| 6.9       | 3.1       | 5.4       | 2.1       | virginica |\n",
       "| 6.7       | 3.1       | 5.6       | 2.4       | virginica |\n",
       "| 6.9       | 3.1       | 5.1       | 2.3       | virginica |\n",
       "| 5.8       | 2.7       | 5.1       | 1.9       | virginica |\n",
       "| 6.8       | 3.2       | 5.9       | 2.3       | virginica |\n",
       "| 6.7       | 3.3       | 5.7       | 2.5       | virginica |\n",
       "| 6.7       | 3.0       | 5.2       | 2.3       | virginica |\n",
       "| 6.3       | 2.5       | 5.0       | 1.9       | virginica |\n",
       "| 6.5       | 3.0       | 5.2       | 2.0       | virginica |\n",
       "| 6.2       | 3.4       | 5.4       | 2.3       | virginica |\n",
       "| 5.9       | 3.0       | 5.1       | 1.8       | virginica |\n",
       "\n"
      ],
      "text/plain": [
       "    Sepal.Length Sepal.Width Petal.Length Petal.Width Species  \n",
       "1   5.1          3.5         1.4          0.2         setosa   \n",
       "2   4.9          3.0         1.4          0.2         setosa   \n",
       "3   4.7          3.2         1.3          0.2         setosa   \n",
       "4   4.6          3.1         1.5          0.2         setosa   \n",
       "5   5.0          3.6         1.4          0.2         setosa   \n",
       "6   5.4          3.9         1.7          0.4         setosa   \n",
       "7   4.6          3.4         1.4          0.3         setosa   \n",
       "8   5.0          3.4         1.5          0.2         setosa   \n",
       "9   4.4          2.9         1.4          0.2         setosa   \n",
       "10  4.9          3.1         1.5          0.1         setosa   \n",
       "11  5.4          3.7         1.5          0.2         setosa   \n",
       "12  4.8          3.4         1.6          0.2         setosa   \n",
       "13  4.8          3.0         1.4          0.1         setosa   \n",
       "14  4.3          3.0         1.1          0.1         setosa   \n",
       "15  5.8          4.0         1.2          0.2         setosa   \n",
       "16  5.7          4.4         1.5          0.4         setosa   \n",
       "17  5.4          3.9         1.3          0.4         setosa   \n",
       "18  5.1          3.5         1.4          0.3         setosa   \n",
       "19  5.7          3.8         1.7          0.3         setosa   \n",
       "20  5.1          3.8         1.5          0.3         setosa   \n",
       "21  5.4          3.4         1.7          0.2         setosa   \n",
       "22  5.1          3.7         1.5          0.4         setosa   \n",
       "23  4.6          3.6         1.0          0.2         setosa   \n",
       "24  5.1          3.3         1.7          0.5         setosa   \n",
       "25  4.8          3.4         1.9          0.2         setosa   \n",
       "26  5.0          3.0         1.6          0.2         setosa   \n",
       "27  5.0          3.4         1.6          0.4         setosa   \n",
       "28  5.2          3.5         1.5          0.2         setosa   \n",
       "29  5.2          3.4         1.4          0.2         setosa   \n",
       "30  4.7          3.2         1.6          0.2         setosa   \n",
       "... ...          ...         ...          ...         ...      \n",
       "121 6.9          3.2         5.7          2.3         virginica\n",
       "122 5.6          2.8         4.9          2.0         virginica\n",
       "123 7.7          2.8         6.7          2.0         virginica\n",
       "124 6.3          2.7         4.9          1.8         virginica\n",
       "125 6.7          3.3         5.7          2.1         virginica\n",
       "126 7.2          3.2         6.0          1.8         virginica\n",
       "127 6.2          2.8         4.8          1.8         virginica\n",
       "128 6.1          3.0         4.9          1.8         virginica\n",
       "129 6.4          2.8         5.6          2.1         virginica\n",
       "130 7.2          3.0         5.8          1.6         virginica\n",
       "131 7.4          2.8         6.1          1.9         virginica\n",
       "132 7.9          3.8         6.4          2.0         virginica\n",
       "133 6.4          2.8         5.6          2.2         virginica\n",
       "134 6.3          2.8         5.1          1.5         virginica\n",
       "135 6.1          2.6         5.6          1.4         virginica\n",
       "136 7.7          3.0         6.1          2.3         virginica\n",
       "137 6.3          3.4         5.6          2.4         virginica\n",
       "138 6.4          3.1         5.5          1.8         virginica\n",
       "139 6.0          3.0         4.8          1.8         virginica\n",
       "140 6.9          3.1         5.4          2.1         virginica\n",
       "141 6.7          3.1         5.6          2.4         virginica\n",
       "142 6.9          3.1         5.1          2.3         virginica\n",
       "143 5.8          2.7         5.1          1.9         virginica\n",
       "144 6.8          3.2         5.9          2.3         virginica\n",
       "145 6.7          3.3         5.7          2.5         virginica\n",
       "146 6.7          3.0         5.2          2.3         virginica\n",
       "147 6.3          2.5         5.0          1.9         virginica\n",
       "148 6.5          3.0         5.2          2.0         virginica\n",
       "149 6.2          3.4         5.4          2.3         virginica\n",
       "150 5.9          3.0         5.1          1.8         virginica"
      ]
     },
     "metadata": {},
     "output_type": "display_data"
    }
   ],
   "source": [
    "iris"
   ]
  },
  {
   "cell_type": "code",
   "execution_count": 30,
   "id": "c6ef0cf4-b683-4214-af04-afa4ba8620ea",
   "metadata": {},
   "outputs": [
    {
     "data": {
      "text/html": [
       "'data.frame'"
      ],
      "text/latex": [
       "'data.frame'"
      ],
      "text/markdown": [
       "'data.frame'"
      ],
      "text/plain": [
       "[1] \"data.frame\""
      ]
     },
     "metadata": {},
     "output_type": "display_data"
    }
   ],
   "source": [
    "class(iris)"
   ]
  },
  {
   "cell_type": "code",
   "execution_count": 31,
   "id": "c5ab6860-60d2-464a-b81e-5db9aa08078f",
   "metadata": {},
   "outputs": [
    {
     "data": {
      "text/html": [
       "\n",
       "<table width=\"100%\" summary=\"page for iris {datasets}\"><tr><td>iris {datasets}</td><td style=\"text-align: right;\">R Documentation</td></tr></table>\n",
       "\n",
       "<h2>Edgar Anderson's Iris Data</h2>\n",
       "\n",
       "<h3>Description</h3>\n",
       "\n",
       "<p>This famous (Fisher's or Anderson's) iris data set gives the\n",
       "measurements in centimeters of the variables sepal length and width\n",
       "and petal length and width, respectively, for 50 flowers from each\n",
       "of 3 species of iris.  The species are <em>Iris setosa</em>,\n",
       "<em>versicolor</em>, and <em>virginica</em>.\n",
       "</p>\n",
       "\n",
       "\n",
       "<h3>Usage</h3>\n",
       "\n",
       "<pre>\n",
       "iris\n",
       "iris3\n",
       "</pre>\n",
       "\n",
       "\n",
       "<h3>Format</h3>\n",
       "\n",
       "<p><code>iris</code> is a data frame with 150 cases (rows) and 5 variables\n",
       "(columns) named <code>Sepal.Length</code>, <code>Sepal.Width</code>,\n",
       "<code>Petal.Length</code>, <code>Petal.Width</code>, and <code>Species</code>.\n",
       "</p>\n",
       "<p><code>iris3</code> gives the same data arranged as a 3-dimensional array\n",
       "of size 50 by 4 by 3, as represented by S-PLUS.  The first dimension\n",
       "gives the case number within the species subsample, the second the\n",
       "measurements with names <code>Sepal L.</code>, <code>Sepal W.</code>,\n",
       "<code>Petal L.</code>, and <code>Petal W.</code>, and the third the species.\n",
       "</p>\n",
       "\n",
       "\n",
       "<h3>Source</h3>\n",
       "\n",
       "<p>Fisher, R. A. (1936)\n",
       "The use of multiple measurements in taxonomic problems.\n",
       "<em>Annals of Eugenics</em>,\n",
       "<b>7</b>, Part II, 179&ndash;188.\n",
       "</p>\n",
       "<p>The data were collected by\n",
       "Anderson, Edgar (1935).\n",
       "The irises of the Gaspe Peninsula,\n",
       "<em>Bulletin of the American Iris Society</em>,\n",
       "<b>59</b>, 2&ndash;5.\n",
       "</p>\n",
       "\n",
       "\n",
       "<h3>References</h3>\n",
       "\n",
       "<p>Becker, R. A., Chambers, J. M. and Wilks, A. R. (1988)\n",
       "<em>The New S Language</em>.\n",
       "Wadsworth &amp; Brooks/Cole. (has <code>iris3</code> as <code>iris</code>.)\n",
       "</p>\n",
       "\n",
       "\n",
       "<h3>See Also</h3>\n",
       "\n",
       "<p><code>matplot</code> some examples of which use\n",
       "<code>iris</code>.\n",
       "</p>\n",
       "\n",
       "\n",
       "<h3>Examples</h3>\n",
       "\n",
       "<pre>\n",
       "dni3 &lt;- dimnames(iris3)\n",
       "ii &lt;- data.frame(matrix(aperm(iris3, c(1,3,2)), ncol = 4,\n",
       "                        dimnames = list(NULL, sub(\" L.\",\".Length\",\n",
       "                                        sub(\" W.\",\".Width\", dni3[[2]])))),\n",
       "    Species = gl(3, 50, labels = sub(\"S\", \"s\", sub(\"V\", \"v\", dni3[[3]]))))\n",
       "all.equal(ii, iris) # TRUE\n",
       "</pre>\n",
       "\n",
       "<hr /><div style=\"text-align: center;\">[Package <em>datasets</em> version 3.6.1 ]</div>"
      ],
      "text/latex": [
       "\\inputencoding{utf8}\n",
       "\\HeaderA{iris}{Edgar Anderson's Iris Data}{iris}\n",
       "\\aliasA{iris3}{iris}{iris3}\n",
       "\\keyword{datasets}{iris}\n",
       "%\n",
       "\\begin{Description}\\relax\n",
       "This famous (Fisher's or Anderson's) iris data set gives the\n",
       "measurements in centimeters of the variables sepal length and width\n",
       "and petal length and width, respectively, for 50 flowers from each\n",
       "of 3 species of iris.  The species are \\emph{Iris setosa},\n",
       "\\emph{versicolor}, and \\emph{virginica}.\n",
       "\\end{Description}\n",
       "%\n",
       "\\begin{Usage}\n",
       "\\begin{verbatim}\n",
       "iris\n",
       "iris3\n",
       "\\end{verbatim}\n",
       "\\end{Usage}\n",
       "%\n",
       "\\begin{Format}\n",
       "\\code{iris} is a data frame with 150 cases (rows) and 5 variables\n",
       "(columns) named \\code{Sepal.Length}, \\code{Sepal.Width},\n",
       "\\code{Petal.Length}, \\code{Petal.Width}, and \\code{Species}.\n",
       "\n",
       "\\code{iris3} gives the same data arranged as a 3-dimensional array\n",
       "of size 50 by 4 by 3, as represented by S-PLUS.  The first dimension\n",
       "gives the case number within the species subsample, the second the\n",
       "measurements with names \\code{Sepal L.}, \\code{Sepal W.},\n",
       "\\code{Petal L.}, and \\code{Petal W.}, and the third the species.\n",
       "\\end{Format}\n",
       "%\n",
       "\\begin{Source}\\relax\n",
       "Fisher, R. A. (1936)\n",
       "The use of multiple measurements in taxonomic problems.\n",
       "\\emph{Annals of Eugenics},\n",
       "\\bold{7}, Part II, 179--188.\n",
       "\n",
       "The data were collected by\n",
       "Anderson, Edgar (1935).\n",
       "The irises of the Gaspe Peninsula,\n",
       "\\emph{Bulletin of the American Iris Society},\n",
       "\\bold{59}, 2--5.\n",
       "\\end{Source}\n",
       "%\n",
       "\\begin{References}\\relax\n",
       "Becker, R. A., Chambers, J. M. and Wilks, A. R. (1988)\n",
       "\\emph{The New S Language}.\n",
       "Wadsworth \\& Brooks/Cole. (has \\code{iris3} as \\code{iris}.)\n",
       "\\end{References}\n",
       "%\n",
       "\\begin{SeeAlso}\\relax\n",
       "\\code{\\LinkA{matplot}{matplot}} some examples of which use\n",
       "\\code{iris}.\n",
       "\\end{SeeAlso}\n",
       "%\n",
       "\\begin{Examples}\n",
       "\\begin{ExampleCode}\n",
       "dni3 <- dimnames(iris3)\n",
       "ii <- data.frame(matrix(aperm(iris3, c(1,3,2)), ncol = 4,\n",
       "                        dimnames = list(NULL, sub(\" L.\",\".Length\",\n",
       "                                        sub(\" W.\",\".Width\", dni3[[2]])))),\n",
       "    Species = gl(3, 50, labels = sub(\"S\", \"s\", sub(\"V\", \"v\", dni3[[3]]))))\n",
       "all.equal(ii, iris) # TRUE\n",
       "\\end{ExampleCode}\n",
       "\\end{Examples}"
      ],
      "text/plain": [
       "iris                 package:datasets                  R Documentation\n",
       "\n",
       "_\bE_\bd_\bg_\ba_\br _\bA_\bn_\bd_\be_\br_\bs_\bo_\bn'_\bs _\bI_\br_\bi_\bs _\bD_\ba_\bt_\ba\n",
       "\n",
       "_\bD_\be_\bs_\bc_\br_\bi_\bp_\bt_\bi_\bo_\bn:\n",
       "\n",
       "     This famous (Fisher's or Anderson's) iris data set gives the\n",
       "     measurements in centimeters of the variables sepal length and\n",
       "     width and petal length and width, respectively, for 50 flowers\n",
       "     from each of 3 species of iris.  The species are _Iris setosa_,\n",
       "     _versicolor_, and _virginica_.\n",
       "\n",
       "_\bU_\bs_\ba_\bg_\be:\n",
       "\n",
       "     iris\n",
       "     iris3\n",
       "     \n",
       "_\bF_\bo_\br_\bm_\ba_\bt:\n",
       "\n",
       "     'iris' is a data frame with 150 cases (rows) and 5 variables\n",
       "     (columns) named 'Sepal.Length', 'Sepal.Width', 'Petal.Length',\n",
       "     'Petal.Width', and 'Species'.\n",
       "\n",
       "     'iris3' gives the same data arranged as a 3-dimensional array of\n",
       "     size 50 by 4 by 3, as represented by S-PLUS.  The first dimension\n",
       "     gives the case number within the species subsample, the second the\n",
       "     measurements with names 'Sepal L.', 'Sepal W.', 'Petal L.', and\n",
       "     'Petal W.', and the third the species.\n",
       "\n",
       "_\bS_\bo_\bu_\br_\bc_\be:\n",
       "\n",
       "     Fisher, R. A. (1936) The use of multiple measurements in taxonomic\n",
       "     problems.  _Annals of Eugenics_, *7*, Part II, 179-188.\n",
       "\n",
       "     The data were collected by Anderson, Edgar (1935).  The irises of\n",
       "     the Gaspe Peninsula, _Bulletin of the American Iris Society_,\n",
       "     *59*, 2-5.\n",
       "\n",
       "_\bR_\be_\bf_\be_\br_\be_\bn_\bc_\be_\bs:\n",
       "\n",
       "     Becker, R. A., Chambers, J. M. and Wilks, A. R. (1988) _The New S\n",
       "     Language_.  Wadsworth & Brooks/Cole. (has 'iris3' as 'iris'.)\n",
       "\n",
       "_\bS_\be_\be _\bA_\bl_\bs_\bo:\n",
       "\n",
       "     'matplot' some examples of which use 'iris'.\n",
       "\n",
       "_\bE_\bx_\ba_\bm_\bp_\bl_\be_\bs:\n",
       "\n",
       "     dni3 <- dimnames(iris3)\n",
       "     ii <- data.frame(matrix(aperm(iris3, c(1,3,2)), ncol = 4,\n",
       "                             dimnames = list(NULL, sub(\" L.\",\".Length\",\n",
       "                                             sub(\" W.\",\".Width\", dni3[[2]])))),\n",
       "         Species = gl(3, 50, labels = sub(\"S\", \"s\", sub(\"V\", \"v\", dni3[[3]]))))\n",
       "     all.equal(ii, iris) # TRUE\n",
       "     "
      ]
     },
     "metadata": {},
     "output_type": "display_data"
    }
   ],
   "source": [
    "?iris"
   ]
  },
  {
   "cell_type": "markdown",
   "id": "fb4859a6-87cd-4635-96e4-0a0d84606c54",
   "metadata": {},
   "source": [
    "install.packages(\"tidyverse\")"
   ]
  },
  {
   "cell_type": "markdown",
   "id": "ca9881ad-769e-461b-bb09-7b7829f6f87c",
   "metadata": {},
   "source": [
    "### Profe a mi no me funciono usar el install.packages(), lo instale directamente desde el anaconda prompt con esto: conda install -c r r-tidyverse"
   ]
  },
  {
   "cell_type": "code",
   "execution_count": 1,
   "id": "70516123-2bf2-4559-bf3f-0298ee48f863",
   "metadata": {},
   "outputs": [
    {
     "name": "stderr",
     "output_type": "stream",
     "text": [
      "Registered S3 methods overwritten by 'ggplot2':\n",
      "  method         from \n",
      "  [.quosures     rlang\n",
      "  c.quosures     rlang\n",
      "  print.quosures rlang\n",
      "Registered S3 method overwritten by 'rvest':\n",
      "  method            from\n",
      "  read_xml.response xml2\n",
      "-- Attaching packages --------------------------------------- tidyverse 1.2.1 --\n",
      "v ggplot2 3.1.1       v purrr   0.3.2  \n",
      "v tibble  2.1.1       v dplyr   0.8.0.1\n",
      "v tidyr   0.8.3       v stringr 1.4.0  \n",
      "v readr   1.3.1       v forcats 0.4.0  \n",
      "-- Conflicts ------------------------------------------ tidyverse_conflicts() --\n",
      "x dplyr::filter() masks stats::filter()\n",
      "x dplyr::lag()    masks stats::lag()\n"
     ]
    }
   ],
   "source": [
    "library(tidyverse)"
   ]
  },
  {
   "cell_type": "markdown",
   "id": "0f3c9178-aee0-4996-a13e-66245cfa02a6",
   "metadata": {},
   "source": [
    "# Hola"
   ]
  },
  {
   "cell_type": "markdown",
   "id": "793e8467-8168-46c7-b032-82d772956e6a",
   "metadata": {},
   "source": [
    "## Hola"
   ]
  },
  {
   "cell_type": "markdown",
   "id": "3e6ce9c3-45cc-4e82-b280-dafa2406767f",
   "metadata": {},
   "source": [
    "Hola"
   ]
  },
  {
   "cell_type": "code",
   "execution_count": 2,
   "id": "b46cb91a-38ce-458d-a560-57f9e3b4e396",
   "metadata": {},
   "outputs": [
    {
     "data": {
      "text/html": [
       "<table>\n",
       "<thead><tr><th scope=col>manufacturer</th><th scope=col>model</th><th scope=col>displ</th><th scope=col>year</th><th scope=col>cyl</th><th scope=col>trans</th><th scope=col>drv</th><th scope=col>cty</th><th scope=col>hwy</th><th scope=col>fl</th><th scope=col>class</th></tr></thead>\n",
       "<tbody>\n",
       "\t<tr><td>audi              </td><td>a4                </td><td>1.8               </td><td>1999              </td><td>4                 </td><td>auto(l5)          </td><td>f                 </td><td>18                </td><td>29                </td><td>p                 </td><td>compact           </td></tr>\n",
       "\t<tr><td>audi              </td><td>a4                </td><td>1.8               </td><td>1999              </td><td>4                 </td><td>manual(m5)        </td><td>f                 </td><td>21                </td><td>29                </td><td>p                 </td><td>compact           </td></tr>\n",
       "\t<tr><td>audi              </td><td>a4                </td><td>2.0               </td><td>2008              </td><td>4                 </td><td>manual(m6)        </td><td>f                 </td><td>20                </td><td>31                </td><td>p                 </td><td>compact           </td></tr>\n",
       "\t<tr><td>audi              </td><td>a4                </td><td>2.0               </td><td>2008              </td><td>4                 </td><td>auto(av)          </td><td>f                 </td><td>21                </td><td>30                </td><td>p                 </td><td>compact           </td></tr>\n",
       "\t<tr><td>audi              </td><td>a4                </td><td>2.8               </td><td>1999              </td><td>6                 </td><td>auto(l5)          </td><td>f                 </td><td>16                </td><td>26                </td><td>p                 </td><td>compact           </td></tr>\n",
       "\t<tr><td>audi              </td><td>a4                </td><td>2.8               </td><td>1999              </td><td>6                 </td><td>manual(m5)        </td><td>f                 </td><td>18                </td><td>26                </td><td>p                 </td><td>compact           </td></tr>\n",
       "\t<tr><td>audi              </td><td>a4                </td><td>3.1               </td><td>2008              </td><td>6                 </td><td>auto(av)          </td><td>f                 </td><td>18                </td><td>27                </td><td>p                 </td><td>compact           </td></tr>\n",
       "\t<tr><td>audi              </td><td>a4 quattro        </td><td>1.8               </td><td>1999              </td><td>4                 </td><td>manual(m5)        </td><td>4                 </td><td>18                </td><td>26                </td><td>p                 </td><td>compact           </td></tr>\n",
       "\t<tr><td>audi              </td><td>a4 quattro        </td><td>1.8               </td><td>1999              </td><td>4                 </td><td>auto(l5)          </td><td>4                 </td><td>16                </td><td>25                </td><td>p                 </td><td>compact           </td></tr>\n",
       "\t<tr><td>audi              </td><td>a4 quattro        </td><td>2.0               </td><td>2008              </td><td>4                 </td><td>manual(m6)        </td><td>4                 </td><td>20                </td><td>28                </td><td>p                 </td><td>compact           </td></tr>\n",
       "\t<tr><td>audi              </td><td>a4 quattro        </td><td>2.0               </td><td>2008              </td><td>4                 </td><td>auto(s6)          </td><td>4                 </td><td>19                </td><td>27                </td><td>p                 </td><td>compact           </td></tr>\n",
       "\t<tr><td>audi              </td><td>a4 quattro        </td><td>2.8               </td><td>1999              </td><td>6                 </td><td>auto(l5)          </td><td>4                 </td><td>15                </td><td>25                </td><td>p                 </td><td>compact           </td></tr>\n",
       "\t<tr><td>audi              </td><td>a4 quattro        </td><td>2.8               </td><td>1999              </td><td>6                 </td><td>manual(m5)        </td><td>4                 </td><td>17                </td><td>25                </td><td>p                 </td><td>compact           </td></tr>\n",
       "\t<tr><td>audi              </td><td>a4 quattro        </td><td>3.1               </td><td>2008              </td><td>6                 </td><td>auto(s6)          </td><td>4                 </td><td>17                </td><td>25                </td><td>p                 </td><td>compact           </td></tr>\n",
       "\t<tr><td>audi              </td><td>a4 quattro        </td><td>3.1               </td><td>2008              </td><td>6                 </td><td>manual(m6)        </td><td>4                 </td><td>15                </td><td>25                </td><td>p                 </td><td>compact           </td></tr>\n",
       "\t<tr><td>audi              </td><td>a6 quattro        </td><td>2.8               </td><td>1999              </td><td>6                 </td><td>auto(l5)          </td><td>4                 </td><td>15                </td><td>24                </td><td>p                 </td><td>midsize           </td></tr>\n",
       "\t<tr><td>audi              </td><td>a6 quattro        </td><td>3.1               </td><td>2008              </td><td>6                 </td><td>auto(s6)          </td><td>4                 </td><td>17                </td><td>25                </td><td>p                 </td><td>midsize           </td></tr>\n",
       "\t<tr><td>audi              </td><td>a6 quattro        </td><td>4.2               </td><td>2008              </td><td>8                 </td><td>auto(s6)          </td><td>4                 </td><td>16                </td><td>23                </td><td>p                 </td><td>midsize           </td></tr>\n",
       "\t<tr><td>chevrolet         </td><td>c1500 suburban 2wd</td><td>5.3               </td><td>2008              </td><td>8                 </td><td>auto(l4)          </td><td>r                 </td><td>14                </td><td>20                </td><td>r                 </td><td>suv               </td></tr>\n",
       "\t<tr><td>chevrolet         </td><td>c1500 suburban 2wd</td><td>5.3               </td><td>2008              </td><td>8                 </td><td>auto(l4)          </td><td>r                 </td><td>11                </td><td>15                </td><td>e                 </td><td>suv               </td></tr>\n",
       "\t<tr><td>chevrolet         </td><td>c1500 suburban 2wd</td><td>5.3               </td><td>2008              </td><td>8                 </td><td>auto(l4)          </td><td>r                 </td><td>14                </td><td>20                </td><td>r                 </td><td>suv               </td></tr>\n",
       "\t<tr><td>chevrolet         </td><td>c1500 suburban 2wd</td><td>5.7               </td><td>1999              </td><td>8                 </td><td>auto(l4)          </td><td>r                 </td><td>13                </td><td>17                </td><td>r                 </td><td>suv               </td></tr>\n",
       "\t<tr><td>chevrolet         </td><td>c1500 suburban 2wd</td><td>6.0               </td><td>2008              </td><td>8                 </td><td>auto(l4)          </td><td>r                 </td><td>12                </td><td>17                </td><td>r                 </td><td>suv               </td></tr>\n",
       "\t<tr><td>chevrolet         </td><td>corvette          </td><td>5.7               </td><td>1999              </td><td>8                 </td><td>manual(m6)        </td><td>r                 </td><td>16                </td><td>26                </td><td>p                 </td><td>2seater           </td></tr>\n",
       "\t<tr><td>chevrolet         </td><td>corvette          </td><td>5.7               </td><td>1999              </td><td>8                 </td><td>auto(l4)          </td><td>r                 </td><td>15                </td><td>23                </td><td>p                 </td><td>2seater           </td></tr>\n",
       "\t<tr><td>chevrolet         </td><td>corvette          </td><td>6.2               </td><td>2008              </td><td>8                 </td><td>manual(m6)        </td><td>r                 </td><td>16                </td><td>26                </td><td>p                 </td><td>2seater           </td></tr>\n",
       "\t<tr><td>chevrolet         </td><td>corvette          </td><td>6.2               </td><td>2008              </td><td>8                 </td><td>auto(s6)          </td><td>r                 </td><td>15                </td><td>25                </td><td>p                 </td><td>2seater           </td></tr>\n",
       "\t<tr><td>chevrolet         </td><td>corvette          </td><td>7.0               </td><td>2008              </td><td>8                 </td><td>manual(m6)        </td><td>r                 </td><td>15                </td><td>24                </td><td>p                 </td><td>2seater           </td></tr>\n",
       "\t<tr><td>chevrolet         </td><td>k1500 tahoe 4wd   </td><td>5.3               </td><td>2008              </td><td>8                 </td><td>auto(l4)          </td><td>4                 </td><td>14                </td><td>19                </td><td>r                 </td><td>suv               </td></tr>\n",
       "\t<tr><td>chevrolet         </td><td>k1500 tahoe 4wd   </td><td>5.3               </td><td>2008              </td><td>8                 </td><td>auto(l4)          </td><td>4                 </td><td>11                </td><td>14                </td><td>e                 </td><td>suv               </td></tr>\n",
       "\t<tr><td>...</td><td>...</td><td>...</td><td>...</td><td>...</td><td>...</td><td>...</td><td>...</td><td>...</td><td>...</td><td>...</td></tr>\n",
       "\t<tr><td>toyota           </td><td>toyota tacoma 4wd</td><td>3.4              </td><td>1999             </td><td>6                </td><td>auto(l4)         </td><td>4                </td><td>15               </td><td>19               </td><td>r                </td><td>pickup           </td></tr>\n",
       "\t<tr><td>toyota           </td><td>toyota tacoma 4wd</td><td>4.0              </td><td>2008             </td><td>6                </td><td>manual(m6)       </td><td>4                </td><td>15               </td><td>18               </td><td>r                </td><td>pickup           </td></tr>\n",
       "\t<tr><td>toyota           </td><td>toyota tacoma 4wd</td><td>4.0              </td><td>2008             </td><td>6                </td><td>auto(l5)         </td><td>4                </td><td>16               </td><td>20               </td><td>r                </td><td>pickup           </td></tr>\n",
       "\t<tr><td>volkswagen       </td><td>gti              </td><td>2.0              </td><td>1999             </td><td>4                </td><td>manual(m5)       </td><td>f                </td><td>21               </td><td>29               </td><td>r                </td><td>compact          </td></tr>\n",
       "\t<tr><td>volkswagen       </td><td>gti              </td><td>2.0              </td><td>1999             </td><td>4                </td><td>auto(l4)         </td><td>f                </td><td>19               </td><td>26               </td><td>r                </td><td>compact          </td></tr>\n",
       "\t<tr><td>volkswagen       </td><td>gti              </td><td>2.0              </td><td>2008             </td><td>4                </td><td>manual(m6)       </td><td>f                </td><td>21               </td><td>29               </td><td>p                </td><td>compact          </td></tr>\n",
       "\t<tr><td>volkswagen       </td><td>gti              </td><td>2.0              </td><td>2008             </td><td>4                </td><td>auto(s6)         </td><td>f                </td><td>22               </td><td>29               </td><td>p                </td><td>compact          </td></tr>\n",
       "\t<tr><td>volkswagen       </td><td>gti              </td><td>2.8              </td><td>1999             </td><td>6                </td><td>manual(m5)       </td><td>f                </td><td>17               </td><td>24               </td><td>r                </td><td>compact          </td></tr>\n",
       "\t<tr><td>volkswagen       </td><td>jetta            </td><td>1.9              </td><td>1999             </td><td>4                </td><td>manual(m5)       </td><td>f                </td><td>33               </td><td>44               </td><td>d                </td><td>compact          </td></tr>\n",
       "\t<tr><td>volkswagen       </td><td>jetta            </td><td>2.0              </td><td>1999             </td><td>4                </td><td>manual(m5)       </td><td>f                </td><td>21               </td><td>29               </td><td>r                </td><td>compact          </td></tr>\n",
       "\t<tr><td>volkswagen       </td><td>jetta            </td><td>2.0              </td><td>1999             </td><td>4                </td><td>auto(l4)         </td><td>f                </td><td>19               </td><td>26               </td><td>r                </td><td>compact          </td></tr>\n",
       "\t<tr><td>volkswagen       </td><td>jetta            </td><td>2.0              </td><td>2008             </td><td>4                </td><td>auto(s6)         </td><td>f                </td><td>22               </td><td>29               </td><td>p                </td><td>compact          </td></tr>\n",
       "\t<tr><td>volkswagen       </td><td>jetta            </td><td>2.0              </td><td>2008             </td><td>4                </td><td>manual(m6)       </td><td>f                </td><td>21               </td><td>29               </td><td>p                </td><td>compact          </td></tr>\n",
       "\t<tr><td>volkswagen       </td><td>jetta            </td><td>2.5              </td><td>2008             </td><td>5                </td><td>auto(s6)         </td><td>f                </td><td>21               </td><td>29               </td><td>r                </td><td>compact          </td></tr>\n",
       "\t<tr><td>volkswagen       </td><td>jetta            </td><td>2.5              </td><td>2008             </td><td>5                </td><td>manual(m5)       </td><td>f                </td><td>21               </td><td>29               </td><td>r                </td><td>compact          </td></tr>\n",
       "\t<tr><td>volkswagen       </td><td>jetta            </td><td>2.8              </td><td>1999             </td><td>6                </td><td>auto(l4)         </td><td>f                </td><td>16               </td><td>23               </td><td>r                </td><td>compact          </td></tr>\n",
       "\t<tr><td>volkswagen       </td><td>jetta            </td><td>2.8              </td><td>1999             </td><td>6                </td><td>manual(m5)       </td><td>f                </td><td>17               </td><td>24               </td><td>r                </td><td>compact          </td></tr>\n",
       "\t<tr><td>volkswagen       </td><td>new beetle       </td><td>1.9              </td><td>1999             </td><td>4                </td><td>manual(m5)       </td><td>f                </td><td>35               </td><td>44               </td><td>d                </td><td>subcompact       </td></tr>\n",
       "\t<tr><td>volkswagen       </td><td>new beetle       </td><td>1.9              </td><td>1999             </td><td>4                </td><td>auto(l4)         </td><td>f                </td><td>29               </td><td>41               </td><td>d                </td><td>subcompact       </td></tr>\n",
       "\t<tr><td>volkswagen       </td><td>new beetle       </td><td>2.0              </td><td>1999             </td><td>4                </td><td>manual(m5)       </td><td>f                </td><td>21               </td><td>29               </td><td>r                </td><td>subcompact       </td></tr>\n",
       "\t<tr><td>volkswagen       </td><td>new beetle       </td><td>2.0              </td><td>1999             </td><td>4                </td><td>auto(l4)         </td><td>f                </td><td>19               </td><td>26               </td><td>r                </td><td>subcompact       </td></tr>\n",
       "\t<tr><td>volkswagen       </td><td>new beetle       </td><td>2.5              </td><td>2008             </td><td>5                </td><td>manual(m5)       </td><td>f                </td><td>20               </td><td>28               </td><td>r                </td><td>subcompact       </td></tr>\n",
       "\t<tr><td>volkswagen       </td><td>new beetle       </td><td>2.5              </td><td>2008             </td><td>5                </td><td>auto(s6)         </td><td>f                </td><td>20               </td><td>29               </td><td>r                </td><td>subcompact       </td></tr>\n",
       "\t<tr><td>volkswagen       </td><td>passat           </td><td>1.8              </td><td>1999             </td><td>4                </td><td>manual(m5)       </td><td>f                </td><td>21               </td><td>29               </td><td>p                </td><td>midsize          </td></tr>\n",
       "\t<tr><td>volkswagen       </td><td>passat           </td><td>1.8              </td><td>1999             </td><td>4                </td><td>auto(l5)         </td><td>f                </td><td>18               </td><td>29               </td><td>p                </td><td>midsize          </td></tr>\n",
       "\t<tr><td>volkswagen       </td><td>passat           </td><td>2.0              </td><td>2008             </td><td>4                </td><td>auto(s6)         </td><td>f                </td><td>19               </td><td>28               </td><td>p                </td><td>midsize          </td></tr>\n",
       "\t<tr><td>volkswagen       </td><td>passat           </td><td>2.0              </td><td>2008             </td><td>4                </td><td>manual(m6)       </td><td>f                </td><td>21               </td><td>29               </td><td>p                </td><td>midsize          </td></tr>\n",
       "\t<tr><td>volkswagen       </td><td>passat           </td><td>2.8              </td><td>1999             </td><td>6                </td><td>auto(l5)         </td><td>f                </td><td>16               </td><td>26               </td><td>p                </td><td>midsize          </td></tr>\n",
       "\t<tr><td>volkswagen       </td><td>passat           </td><td>2.8              </td><td>1999             </td><td>6                </td><td>manual(m5)       </td><td>f                </td><td>18               </td><td>26               </td><td>p                </td><td>midsize          </td></tr>\n",
       "\t<tr><td>volkswagen       </td><td>passat           </td><td>3.6              </td><td>2008             </td><td>6                </td><td>auto(s6)         </td><td>f                </td><td>17               </td><td>26               </td><td>p                </td><td>midsize          </td></tr>\n",
       "</tbody>\n",
       "</table>\n"
      ],
      "text/latex": [
       "\\begin{tabular}{r|lllllllllll}\n",
       " manufacturer & model & displ & year & cyl & trans & drv & cty & hwy & fl & class\\\\\n",
       "\\hline\n",
       "\t audi               & a4                 & 1.8                & 1999               & 4                  & auto(l5)           & f                  & 18                 & 29                 & p                  & compact           \\\\\n",
       "\t audi               & a4                 & 1.8                & 1999               & 4                  & manual(m5)         & f                  & 21                 & 29                 & p                  & compact           \\\\\n",
       "\t audi               & a4                 & 2.0                & 2008               & 4                  & manual(m6)         & f                  & 20                 & 31                 & p                  & compact           \\\\\n",
       "\t audi               & a4                 & 2.0                & 2008               & 4                  & auto(av)           & f                  & 21                 & 30                 & p                  & compact           \\\\\n",
       "\t audi               & a4                 & 2.8                & 1999               & 6                  & auto(l5)           & f                  & 16                 & 26                 & p                  & compact           \\\\\n",
       "\t audi               & a4                 & 2.8                & 1999               & 6                  & manual(m5)         & f                  & 18                 & 26                 & p                  & compact           \\\\\n",
       "\t audi               & a4                 & 3.1                & 2008               & 6                  & auto(av)           & f                  & 18                 & 27                 & p                  & compact           \\\\\n",
       "\t audi               & a4 quattro         & 1.8                & 1999               & 4                  & manual(m5)         & 4                  & 18                 & 26                 & p                  & compact           \\\\\n",
       "\t audi               & a4 quattro         & 1.8                & 1999               & 4                  & auto(l5)           & 4                  & 16                 & 25                 & p                  & compact           \\\\\n",
       "\t audi               & a4 quattro         & 2.0                & 2008               & 4                  & manual(m6)         & 4                  & 20                 & 28                 & p                  & compact           \\\\\n",
       "\t audi               & a4 quattro         & 2.0                & 2008               & 4                  & auto(s6)           & 4                  & 19                 & 27                 & p                  & compact           \\\\\n",
       "\t audi               & a4 quattro         & 2.8                & 1999               & 6                  & auto(l5)           & 4                  & 15                 & 25                 & p                  & compact           \\\\\n",
       "\t audi               & a4 quattro         & 2.8                & 1999               & 6                  & manual(m5)         & 4                  & 17                 & 25                 & p                  & compact           \\\\\n",
       "\t audi               & a4 quattro         & 3.1                & 2008               & 6                  & auto(s6)           & 4                  & 17                 & 25                 & p                  & compact           \\\\\n",
       "\t audi               & a4 quattro         & 3.1                & 2008               & 6                  & manual(m6)         & 4                  & 15                 & 25                 & p                  & compact           \\\\\n",
       "\t audi               & a6 quattro         & 2.8                & 1999               & 6                  & auto(l5)           & 4                  & 15                 & 24                 & p                  & midsize           \\\\\n",
       "\t audi               & a6 quattro         & 3.1                & 2008               & 6                  & auto(s6)           & 4                  & 17                 & 25                 & p                  & midsize           \\\\\n",
       "\t audi               & a6 quattro         & 4.2                & 2008               & 8                  & auto(s6)           & 4                  & 16                 & 23                 & p                  & midsize           \\\\\n",
       "\t chevrolet          & c1500 suburban 2wd & 5.3                & 2008               & 8                  & auto(l4)           & r                  & 14                 & 20                 & r                  & suv               \\\\\n",
       "\t chevrolet          & c1500 suburban 2wd & 5.3                & 2008               & 8                  & auto(l4)           & r                  & 11                 & 15                 & e                  & suv               \\\\\n",
       "\t chevrolet          & c1500 suburban 2wd & 5.3                & 2008               & 8                  & auto(l4)           & r                  & 14                 & 20                 & r                  & suv               \\\\\n",
       "\t chevrolet          & c1500 suburban 2wd & 5.7                & 1999               & 8                  & auto(l4)           & r                  & 13                 & 17                 & r                  & suv               \\\\\n",
       "\t chevrolet          & c1500 suburban 2wd & 6.0                & 2008               & 8                  & auto(l4)           & r                  & 12                 & 17                 & r                  & suv               \\\\\n",
       "\t chevrolet          & corvette           & 5.7                & 1999               & 8                  & manual(m6)         & r                  & 16                 & 26                 & p                  & 2seater           \\\\\n",
       "\t chevrolet          & corvette           & 5.7                & 1999               & 8                  & auto(l4)           & r                  & 15                 & 23                 & p                  & 2seater           \\\\\n",
       "\t chevrolet          & corvette           & 6.2                & 2008               & 8                  & manual(m6)         & r                  & 16                 & 26                 & p                  & 2seater           \\\\\n",
       "\t chevrolet          & corvette           & 6.2                & 2008               & 8                  & auto(s6)           & r                  & 15                 & 25                 & p                  & 2seater           \\\\\n",
       "\t chevrolet          & corvette           & 7.0                & 2008               & 8                  & manual(m6)         & r                  & 15                 & 24                 & p                  & 2seater           \\\\\n",
       "\t chevrolet          & k1500 tahoe 4wd    & 5.3                & 2008               & 8                  & auto(l4)           & 4                  & 14                 & 19                 & r                  & suv               \\\\\n",
       "\t chevrolet          & k1500 tahoe 4wd    & 5.3                & 2008               & 8                  & auto(l4)           & 4                  & 11                 & 14                 & e                  & suv               \\\\\n",
       "\t ... & ... & ... & ... & ... & ... & ... & ... & ... & ... & ...\\\\\n",
       "\t toyota            & toyota tacoma 4wd & 3.4               & 1999              & 6                 & auto(l4)          & 4                 & 15                & 19                & r                 & pickup           \\\\\n",
       "\t toyota            & toyota tacoma 4wd & 4.0               & 2008              & 6                 & manual(m6)        & 4                 & 15                & 18                & r                 & pickup           \\\\\n",
       "\t toyota            & toyota tacoma 4wd & 4.0               & 2008              & 6                 & auto(l5)          & 4                 & 16                & 20                & r                 & pickup           \\\\\n",
       "\t volkswagen        & gti               & 2.0               & 1999              & 4                 & manual(m5)        & f                 & 21                & 29                & r                 & compact          \\\\\n",
       "\t volkswagen        & gti               & 2.0               & 1999              & 4                 & auto(l4)          & f                 & 19                & 26                & r                 & compact          \\\\\n",
       "\t volkswagen        & gti               & 2.0               & 2008              & 4                 & manual(m6)        & f                 & 21                & 29                & p                 & compact          \\\\\n",
       "\t volkswagen        & gti               & 2.0               & 2008              & 4                 & auto(s6)          & f                 & 22                & 29                & p                 & compact          \\\\\n",
       "\t volkswagen        & gti               & 2.8               & 1999              & 6                 & manual(m5)        & f                 & 17                & 24                & r                 & compact          \\\\\n",
       "\t volkswagen        & jetta             & 1.9               & 1999              & 4                 & manual(m5)        & f                 & 33                & 44                & d                 & compact          \\\\\n",
       "\t volkswagen        & jetta             & 2.0               & 1999              & 4                 & manual(m5)        & f                 & 21                & 29                & r                 & compact          \\\\\n",
       "\t volkswagen        & jetta             & 2.0               & 1999              & 4                 & auto(l4)          & f                 & 19                & 26                & r                 & compact          \\\\\n",
       "\t volkswagen        & jetta             & 2.0               & 2008              & 4                 & auto(s6)          & f                 & 22                & 29                & p                 & compact          \\\\\n",
       "\t volkswagen        & jetta             & 2.0               & 2008              & 4                 & manual(m6)        & f                 & 21                & 29                & p                 & compact          \\\\\n",
       "\t volkswagen        & jetta             & 2.5               & 2008              & 5                 & auto(s6)          & f                 & 21                & 29                & r                 & compact          \\\\\n",
       "\t volkswagen        & jetta             & 2.5               & 2008              & 5                 & manual(m5)        & f                 & 21                & 29                & r                 & compact          \\\\\n",
       "\t volkswagen        & jetta             & 2.8               & 1999              & 6                 & auto(l4)          & f                 & 16                & 23                & r                 & compact          \\\\\n",
       "\t volkswagen        & jetta             & 2.8               & 1999              & 6                 & manual(m5)        & f                 & 17                & 24                & r                 & compact          \\\\\n",
       "\t volkswagen        & new beetle        & 1.9               & 1999              & 4                 & manual(m5)        & f                 & 35                & 44                & d                 & subcompact       \\\\\n",
       "\t volkswagen        & new beetle        & 1.9               & 1999              & 4                 & auto(l4)          & f                 & 29                & 41                & d                 & subcompact       \\\\\n",
       "\t volkswagen        & new beetle        & 2.0               & 1999              & 4                 & manual(m5)        & f                 & 21                & 29                & r                 & subcompact       \\\\\n",
       "\t volkswagen        & new beetle        & 2.0               & 1999              & 4                 & auto(l4)          & f                 & 19                & 26                & r                 & subcompact       \\\\\n",
       "\t volkswagen        & new beetle        & 2.5               & 2008              & 5                 & manual(m5)        & f                 & 20                & 28                & r                 & subcompact       \\\\\n",
       "\t volkswagen        & new beetle        & 2.5               & 2008              & 5                 & auto(s6)          & f                 & 20                & 29                & r                 & subcompact       \\\\\n",
       "\t volkswagen        & passat            & 1.8               & 1999              & 4                 & manual(m5)        & f                 & 21                & 29                & p                 & midsize          \\\\\n",
       "\t volkswagen        & passat            & 1.8               & 1999              & 4                 & auto(l5)          & f                 & 18                & 29                & p                 & midsize          \\\\\n",
       "\t volkswagen        & passat            & 2.0               & 2008              & 4                 & auto(s6)          & f                 & 19                & 28                & p                 & midsize          \\\\\n",
       "\t volkswagen        & passat            & 2.0               & 2008              & 4                 & manual(m6)        & f                 & 21                & 29                & p                 & midsize          \\\\\n",
       "\t volkswagen        & passat            & 2.8               & 1999              & 6                 & auto(l5)          & f                 & 16                & 26                & p                 & midsize          \\\\\n",
       "\t volkswagen        & passat            & 2.8               & 1999              & 6                 & manual(m5)        & f                 & 18                & 26                & p                 & midsize          \\\\\n",
       "\t volkswagen        & passat            & 3.6               & 2008              & 6                 & auto(s6)          & f                 & 17                & 26                & p                 & midsize          \\\\\n",
       "\\end{tabular}\n"
      ],
      "text/markdown": [
       "\n",
       "| manufacturer | model | displ | year | cyl | trans | drv | cty | hwy | fl | class |\n",
       "|---|---|---|---|---|---|---|---|---|---|---|\n",
       "| audi               | a4                 | 1.8                | 1999               | 4                  | auto(l5)           | f                  | 18                 | 29                 | p                  | compact            |\n",
       "| audi               | a4                 | 1.8                | 1999               | 4                  | manual(m5)         | f                  | 21                 | 29                 | p                  | compact            |\n",
       "| audi               | a4                 | 2.0                | 2008               | 4                  | manual(m6)         | f                  | 20                 | 31                 | p                  | compact            |\n",
       "| audi               | a4                 | 2.0                | 2008               | 4                  | auto(av)           | f                  | 21                 | 30                 | p                  | compact            |\n",
       "| audi               | a4                 | 2.8                | 1999               | 6                  | auto(l5)           | f                  | 16                 | 26                 | p                  | compact            |\n",
       "| audi               | a4                 | 2.8                | 1999               | 6                  | manual(m5)         | f                  | 18                 | 26                 | p                  | compact            |\n",
       "| audi               | a4                 | 3.1                | 2008               | 6                  | auto(av)           | f                  | 18                 | 27                 | p                  | compact            |\n",
       "| audi               | a4 quattro         | 1.8                | 1999               | 4                  | manual(m5)         | 4                  | 18                 | 26                 | p                  | compact            |\n",
       "| audi               | a4 quattro         | 1.8                | 1999               | 4                  | auto(l5)           | 4                  | 16                 | 25                 | p                  | compact            |\n",
       "| audi               | a4 quattro         | 2.0                | 2008               | 4                  | manual(m6)         | 4                  | 20                 | 28                 | p                  | compact            |\n",
       "| audi               | a4 quattro         | 2.0                | 2008               | 4                  | auto(s6)           | 4                  | 19                 | 27                 | p                  | compact            |\n",
       "| audi               | a4 quattro         | 2.8                | 1999               | 6                  | auto(l5)           | 4                  | 15                 | 25                 | p                  | compact            |\n",
       "| audi               | a4 quattro         | 2.8                | 1999               | 6                  | manual(m5)         | 4                  | 17                 | 25                 | p                  | compact            |\n",
       "| audi               | a4 quattro         | 3.1                | 2008               | 6                  | auto(s6)           | 4                  | 17                 | 25                 | p                  | compact            |\n",
       "| audi               | a4 quattro         | 3.1                | 2008               | 6                  | manual(m6)         | 4                  | 15                 | 25                 | p                  | compact            |\n",
       "| audi               | a6 quattro         | 2.8                | 1999               | 6                  | auto(l5)           | 4                  | 15                 | 24                 | p                  | midsize            |\n",
       "| audi               | a6 quattro         | 3.1                | 2008               | 6                  | auto(s6)           | 4                  | 17                 | 25                 | p                  | midsize            |\n",
       "| audi               | a6 quattro         | 4.2                | 2008               | 8                  | auto(s6)           | 4                  | 16                 | 23                 | p                  | midsize            |\n",
       "| chevrolet          | c1500 suburban 2wd | 5.3                | 2008               | 8                  | auto(l4)           | r                  | 14                 | 20                 | r                  | suv                |\n",
       "| chevrolet          | c1500 suburban 2wd | 5.3                | 2008               | 8                  | auto(l4)           | r                  | 11                 | 15                 | e                  | suv                |\n",
       "| chevrolet          | c1500 suburban 2wd | 5.3                | 2008               | 8                  | auto(l4)           | r                  | 14                 | 20                 | r                  | suv                |\n",
       "| chevrolet          | c1500 suburban 2wd | 5.7                | 1999               | 8                  | auto(l4)           | r                  | 13                 | 17                 | r                  | suv                |\n",
       "| chevrolet          | c1500 suburban 2wd | 6.0                | 2008               | 8                  | auto(l4)           | r                  | 12                 | 17                 | r                  | suv                |\n",
       "| chevrolet          | corvette           | 5.7                | 1999               | 8                  | manual(m6)         | r                  | 16                 | 26                 | p                  | 2seater            |\n",
       "| chevrolet          | corvette           | 5.7                | 1999               | 8                  | auto(l4)           | r                  | 15                 | 23                 | p                  | 2seater            |\n",
       "| chevrolet          | corvette           | 6.2                | 2008               | 8                  | manual(m6)         | r                  | 16                 | 26                 | p                  | 2seater            |\n",
       "| chevrolet          | corvette           | 6.2                | 2008               | 8                  | auto(s6)           | r                  | 15                 | 25                 | p                  | 2seater            |\n",
       "| chevrolet          | corvette           | 7.0                | 2008               | 8                  | manual(m6)         | r                  | 15                 | 24                 | p                  | 2seater            |\n",
       "| chevrolet          | k1500 tahoe 4wd    | 5.3                | 2008               | 8                  | auto(l4)           | 4                  | 14                 | 19                 | r                  | suv                |\n",
       "| chevrolet          | k1500 tahoe 4wd    | 5.3                | 2008               | 8                  | auto(l4)           | 4                  | 11                 | 14                 | e                  | suv                |\n",
       "| ... | ... | ... | ... | ... | ... | ... | ... | ... | ... | ... |\n",
       "| toyota            | toyota tacoma 4wd | 3.4               | 1999              | 6                 | auto(l4)          | 4                 | 15                | 19                | r                 | pickup            |\n",
       "| toyota            | toyota tacoma 4wd | 4.0               | 2008              | 6                 | manual(m6)        | 4                 | 15                | 18                | r                 | pickup            |\n",
       "| toyota            | toyota tacoma 4wd | 4.0               | 2008              | 6                 | auto(l5)          | 4                 | 16                | 20                | r                 | pickup            |\n",
       "| volkswagen        | gti               | 2.0               | 1999              | 4                 | manual(m5)        | f                 | 21                | 29                | r                 | compact           |\n",
       "| volkswagen        | gti               | 2.0               | 1999              | 4                 | auto(l4)          | f                 | 19                | 26                | r                 | compact           |\n",
       "| volkswagen        | gti               | 2.0               | 2008              | 4                 | manual(m6)        | f                 | 21                | 29                | p                 | compact           |\n",
       "| volkswagen        | gti               | 2.0               | 2008              | 4                 | auto(s6)          | f                 | 22                | 29                | p                 | compact           |\n",
       "| volkswagen        | gti               | 2.8               | 1999              | 6                 | manual(m5)        | f                 | 17                | 24                | r                 | compact           |\n",
       "| volkswagen        | jetta             | 1.9               | 1999              | 4                 | manual(m5)        | f                 | 33                | 44                | d                 | compact           |\n",
       "| volkswagen        | jetta             | 2.0               | 1999              | 4                 | manual(m5)        | f                 | 21                | 29                | r                 | compact           |\n",
       "| volkswagen        | jetta             | 2.0               | 1999              | 4                 | auto(l4)          | f                 | 19                | 26                | r                 | compact           |\n",
       "| volkswagen        | jetta             | 2.0               | 2008              | 4                 | auto(s6)          | f                 | 22                | 29                | p                 | compact           |\n",
       "| volkswagen        | jetta             | 2.0               | 2008              | 4                 | manual(m6)        | f                 | 21                | 29                | p                 | compact           |\n",
       "| volkswagen        | jetta             | 2.5               | 2008              | 5                 | auto(s6)          | f                 | 21                | 29                | r                 | compact           |\n",
       "| volkswagen        | jetta             | 2.5               | 2008              | 5                 | manual(m5)        | f                 | 21                | 29                | r                 | compact           |\n",
       "| volkswagen        | jetta             | 2.8               | 1999              | 6                 | auto(l4)          | f                 | 16                | 23                | r                 | compact           |\n",
       "| volkswagen        | jetta             | 2.8               | 1999              | 6                 | manual(m5)        | f                 | 17                | 24                | r                 | compact           |\n",
       "| volkswagen        | new beetle        | 1.9               | 1999              | 4                 | manual(m5)        | f                 | 35                | 44                | d                 | subcompact        |\n",
       "| volkswagen        | new beetle        | 1.9               | 1999              | 4                 | auto(l4)          | f                 | 29                | 41                | d                 | subcompact        |\n",
       "| volkswagen        | new beetle        | 2.0               | 1999              | 4                 | manual(m5)        | f                 | 21                | 29                | r                 | subcompact        |\n",
       "| volkswagen        | new beetle        | 2.0               | 1999              | 4                 | auto(l4)          | f                 | 19                | 26                | r                 | subcompact        |\n",
       "| volkswagen        | new beetle        | 2.5               | 2008              | 5                 | manual(m5)        | f                 | 20                | 28                | r                 | subcompact        |\n",
       "| volkswagen        | new beetle        | 2.5               | 2008              | 5                 | auto(s6)          | f                 | 20                | 29                | r                 | subcompact        |\n",
       "| volkswagen        | passat            | 1.8               | 1999              | 4                 | manual(m5)        | f                 | 21                | 29                | p                 | midsize           |\n",
       "| volkswagen        | passat            | 1.8               | 1999              | 4                 | auto(l5)          | f                 | 18                | 29                | p                 | midsize           |\n",
       "| volkswagen        | passat            | 2.0               | 2008              | 4                 | auto(s6)          | f                 | 19                | 28                | p                 | midsize           |\n",
       "| volkswagen        | passat            | 2.0               | 2008              | 4                 | manual(m6)        | f                 | 21                | 29                | p                 | midsize           |\n",
       "| volkswagen        | passat            | 2.8               | 1999              | 6                 | auto(l5)          | f                 | 16                | 26                | p                 | midsize           |\n",
       "| volkswagen        | passat            | 2.8               | 1999              | 6                 | manual(m5)        | f                 | 18                | 26                | p                 | midsize           |\n",
       "| volkswagen        | passat            | 3.6               | 2008              | 6                 | auto(s6)          | f                 | 17                | 26                | p                 | midsize           |\n",
       "\n"
      ],
      "text/plain": [
       "    manufacturer model              displ year cyl trans      drv cty hwy fl \n",
       "1   audi         a4                 1.8   1999 4   auto(l5)   f   18  29  p  \n",
       "2   audi         a4                 1.8   1999 4   manual(m5) f   21  29  p  \n",
       "3   audi         a4                 2.0   2008 4   manual(m6) f   20  31  p  \n",
       "4   audi         a4                 2.0   2008 4   auto(av)   f   21  30  p  \n",
       "5   audi         a4                 2.8   1999 6   auto(l5)   f   16  26  p  \n",
       "6   audi         a4                 2.8   1999 6   manual(m5) f   18  26  p  \n",
       "7   audi         a4                 3.1   2008 6   auto(av)   f   18  27  p  \n",
       "8   audi         a4 quattro         1.8   1999 4   manual(m5) 4   18  26  p  \n",
       "9   audi         a4 quattro         1.8   1999 4   auto(l5)   4   16  25  p  \n",
       "10  audi         a4 quattro         2.0   2008 4   manual(m6) 4   20  28  p  \n",
       "11  audi         a4 quattro         2.0   2008 4   auto(s6)   4   19  27  p  \n",
       "12  audi         a4 quattro         2.8   1999 6   auto(l5)   4   15  25  p  \n",
       "13  audi         a4 quattro         2.8   1999 6   manual(m5) 4   17  25  p  \n",
       "14  audi         a4 quattro         3.1   2008 6   auto(s6)   4   17  25  p  \n",
       "15  audi         a4 quattro         3.1   2008 6   manual(m6) 4   15  25  p  \n",
       "16  audi         a6 quattro         2.8   1999 6   auto(l5)   4   15  24  p  \n",
       "17  audi         a6 quattro         3.1   2008 6   auto(s6)   4   17  25  p  \n",
       "18  audi         a6 quattro         4.2   2008 8   auto(s6)   4   16  23  p  \n",
       "19  chevrolet    c1500 suburban 2wd 5.3   2008 8   auto(l4)   r   14  20  r  \n",
       "20  chevrolet    c1500 suburban 2wd 5.3   2008 8   auto(l4)   r   11  15  e  \n",
       "21  chevrolet    c1500 suburban 2wd 5.3   2008 8   auto(l4)   r   14  20  r  \n",
       "22  chevrolet    c1500 suburban 2wd 5.7   1999 8   auto(l4)   r   13  17  r  \n",
       "23  chevrolet    c1500 suburban 2wd 6.0   2008 8   auto(l4)   r   12  17  r  \n",
       "24  chevrolet    corvette           5.7   1999 8   manual(m6) r   16  26  p  \n",
       "25  chevrolet    corvette           5.7   1999 8   auto(l4)   r   15  23  p  \n",
       "26  chevrolet    corvette           6.2   2008 8   manual(m6) r   16  26  p  \n",
       "27  chevrolet    corvette           6.2   2008 8   auto(s6)   r   15  25  p  \n",
       "28  chevrolet    corvette           7.0   2008 8   manual(m6) r   15  24  p  \n",
       "29  chevrolet    k1500 tahoe 4wd    5.3   2008 8   auto(l4)   4   14  19  r  \n",
       "30  chevrolet    k1500 tahoe 4wd    5.3   2008 8   auto(l4)   4   11  14  e  \n",
       "... ...          ...                ...   ...  ... ...        ... ... ... ...\n",
       "205 toyota       toyota tacoma 4wd  3.4   1999 6   auto(l4)   4   15  19  r  \n",
       "206 toyota       toyota tacoma 4wd  4.0   2008 6   manual(m6) 4   15  18  r  \n",
       "207 toyota       toyota tacoma 4wd  4.0   2008 6   auto(l5)   4   16  20  r  \n",
       "208 volkswagen   gti                2.0   1999 4   manual(m5) f   21  29  r  \n",
       "209 volkswagen   gti                2.0   1999 4   auto(l4)   f   19  26  r  \n",
       "210 volkswagen   gti                2.0   2008 4   manual(m6) f   21  29  p  \n",
       "211 volkswagen   gti                2.0   2008 4   auto(s6)   f   22  29  p  \n",
       "212 volkswagen   gti                2.8   1999 6   manual(m5) f   17  24  r  \n",
       "213 volkswagen   jetta              1.9   1999 4   manual(m5) f   33  44  d  \n",
       "214 volkswagen   jetta              2.0   1999 4   manual(m5) f   21  29  r  \n",
       "215 volkswagen   jetta              2.0   1999 4   auto(l4)   f   19  26  r  \n",
       "216 volkswagen   jetta              2.0   2008 4   auto(s6)   f   22  29  p  \n",
       "217 volkswagen   jetta              2.0   2008 4   manual(m6) f   21  29  p  \n",
       "218 volkswagen   jetta              2.5   2008 5   auto(s6)   f   21  29  r  \n",
       "219 volkswagen   jetta              2.5   2008 5   manual(m5) f   21  29  r  \n",
       "220 volkswagen   jetta              2.8   1999 6   auto(l4)   f   16  23  r  \n",
       "221 volkswagen   jetta              2.8   1999 6   manual(m5) f   17  24  r  \n",
       "222 volkswagen   new beetle         1.9   1999 4   manual(m5) f   35  44  d  \n",
       "223 volkswagen   new beetle         1.9   1999 4   auto(l4)   f   29  41  d  \n",
       "224 volkswagen   new beetle         2.0   1999 4   manual(m5) f   21  29  r  \n",
       "225 volkswagen   new beetle         2.0   1999 4   auto(l4)   f   19  26  r  \n",
       "226 volkswagen   new beetle         2.5   2008 5   manual(m5) f   20  28  r  \n",
       "227 volkswagen   new beetle         2.5   2008 5   auto(s6)   f   20  29  r  \n",
       "228 volkswagen   passat             1.8   1999 4   manual(m5) f   21  29  p  \n",
       "229 volkswagen   passat             1.8   1999 4   auto(l5)   f   18  29  p  \n",
       "230 volkswagen   passat             2.0   2008 4   auto(s6)   f   19  28  p  \n",
       "231 volkswagen   passat             2.0   2008 4   manual(m6) f   21  29  p  \n",
       "232 volkswagen   passat             2.8   1999 6   auto(l5)   f   16  26  p  \n",
       "233 volkswagen   passat             2.8   1999 6   manual(m5) f   18  26  p  \n",
       "234 volkswagen   passat             3.6   2008 6   auto(s6)   f   17  26  p  \n",
       "    class     \n",
       "1   compact   \n",
       "2   compact   \n",
       "3   compact   \n",
       "4   compact   \n",
       "5   compact   \n",
       "6   compact   \n",
       "7   compact   \n",
       "8   compact   \n",
       "9   compact   \n",
       "10  compact   \n",
       "11  compact   \n",
       "12  compact   \n",
       "13  compact   \n",
       "14  compact   \n",
       "15  compact   \n",
       "16  midsize   \n",
       "17  midsize   \n",
       "18  midsize   \n",
       "19  suv       \n",
       "20  suv       \n",
       "21  suv       \n",
       "22  suv       \n",
       "23  suv       \n",
       "24  2seater   \n",
       "25  2seater   \n",
       "26  2seater   \n",
       "27  2seater   \n",
       "28  2seater   \n",
       "29  suv       \n",
       "30  suv       \n",
       "... ...       \n",
       "205 pickup    \n",
       "206 pickup    \n",
       "207 pickup    \n",
       "208 compact   \n",
       "209 compact   \n",
       "210 compact   \n",
       "211 compact   \n",
       "212 compact   \n",
       "213 compact   \n",
       "214 compact   \n",
       "215 compact   \n",
       "216 compact   \n",
       "217 compact   \n",
       "218 compact   \n",
       "219 compact   \n",
       "220 compact   \n",
       "221 compact   \n",
       "222 subcompact\n",
       "223 subcompact\n",
       "224 subcompact\n",
       "225 subcompact\n",
       "226 subcompact\n",
       "227 subcompact\n",
       "228 midsize   \n",
       "229 midsize   \n",
       "230 midsize   \n",
       "231 midsize   \n",
       "232 midsize   \n",
       "233 midsize   \n",
       "234 midsize   "
      ]
     },
     "metadata": {},
     "output_type": "display_data"
    }
   ],
   "source": [
    "data(mpg)\n",
    "mpg"
   ]
  },
  {
   "cell_type": "code",
   "execution_count": 3,
   "id": "9a8465ad-5035-4f64-8980-60ec648fe14b",
   "metadata": {},
   "outputs": [
    {
     "data": {
      "text/html": [
       "<table>\n",
       "<thead><tr><th scope=col>manufacturer</th><th scope=col>model</th><th scope=col>displ</th><th scope=col>year</th><th scope=col>cyl</th><th scope=col>trans</th><th scope=col>drv</th><th scope=col>cty</th><th scope=col>hwy</th><th scope=col>fl</th><th scope=col>class</th></tr></thead>\n",
       "<tbody>\n",
       "\t<tr><td>audi              </td><td>a4                </td><td>1.8               </td><td>1999              </td><td>4                 </td><td>auto(l5)          </td><td>f                 </td><td>18                </td><td>29                </td><td>p                 </td><td>compact           </td></tr>\n",
       "\t<tr><td>audi              </td><td>a4                </td><td>1.8               </td><td>1999              </td><td>4                 </td><td>manual(m5)        </td><td>f                 </td><td>21                </td><td>29                </td><td>p                 </td><td>compact           </td></tr>\n",
       "\t<tr><td>audi              </td><td>a4                </td><td>2.0               </td><td>2008              </td><td>4                 </td><td>manual(m6)        </td><td>f                 </td><td>20                </td><td>31                </td><td>p                 </td><td>compact           </td></tr>\n",
       "\t<tr><td>audi              </td><td>a4                </td><td>2.0               </td><td>2008              </td><td>4                 </td><td>auto(av)          </td><td>f                 </td><td>21                </td><td>30                </td><td>p                 </td><td>compact           </td></tr>\n",
       "\t<tr><td>audi              </td><td>a4                </td><td>2.8               </td><td>1999              </td><td>6                 </td><td>auto(l5)          </td><td>f                 </td><td>16                </td><td>26                </td><td>p                 </td><td>compact           </td></tr>\n",
       "\t<tr><td>audi              </td><td>a4                </td><td>2.8               </td><td>1999              </td><td>6                 </td><td>manual(m5)        </td><td>f                 </td><td>18                </td><td>26                </td><td>p                 </td><td>compact           </td></tr>\n",
       "\t<tr><td>audi              </td><td>a4                </td><td>3.1               </td><td>2008              </td><td>6                 </td><td>auto(av)          </td><td>f                 </td><td>18                </td><td>27                </td><td>p                 </td><td>compact           </td></tr>\n",
       "\t<tr><td>audi              </td><td>a4 quattro        </td><td>1.8               </td><td>1999              </td><td>4                 </td><td>manual(m5)        </td><td>4                 </td><td>18                </td><td>26                </td><td>p                 </td><td>compact           </td></tr>\n",
       "\t<tr><td>audi              </td><td>a4 quattro        </td><td>1.8               </td><td>1999              </td><td>4                 </td><td>auto(l5)          </td><td>4                 </td><td>16                </td><td>25                </td><td>p                 </td><td>compact           </td></tr>\n",
       "\t<tr><td>audi              </td><td>a4 quattro        </td><td>2.0               </td><td>2008              </td><td>4                 </td><td>manual(m6)        </td><td>4                 </td><td>20                </td><td>28                </td><td>p                 </td><td>compact           </td></tr>\n",
       "\t<tr><td>audi              </td><td>a4 quattro        </td><td>2.0               </td><td>2008              </td><td>4                 </td><td>auto(s6)          </td><td>4                 </td><td>19                </td><td>27                </td><td>p                 </td><td>compact           </td></tr>\n",
       "\t<tr><td>audi              </td><td>a4 quattro        </td><td>2.8               </td><td>1999              </td><td>6                 </td><td>auto(l5)          </td><td>4                 </td><td>15                </td><td>25                </td><td>p                 </td><td>compact           </td></tr>\n",
       "\t<tr><td>audi              </td><td>a4 quattro        </td><td>2.8               </td><td>1999              </td><td>6                 </td><td>manual(m5)        </td><td>4                 </td><td>17                </td><td>25                </td><td>p                 </td><td>compact           </td></tr>\n",
       "\t<tr><td>audi              </td><td>a4 quattro        </td><td>3.1               </td><td>2008              </td><td>6                 </td><td>auto(s6)          </td><td>4                 </td><td>17                </td><td>25                </td><td>p                 </td><td>compact           </td></tr>\n",
       "\t<tr><td>audi              </td><td>a4 quattro        </td><td>3.1               </td><td>2008              </td><td>6                 </td><td>manual(m6)        </td><td>4                 </td><td>15                </td><td>25                </td><td>p                 </td><td>compact           </td></tr>\n",
       "\t<tr><td>audi              </td><td>a6 quattro        </td><td>2.8               </td><td>1999              </td><td>6                 </td><td>auto(l5)          </td><td>4                 </td><td>15                </td><td>24                </td><td>p                 </td><td>midsize           </td></tr>\n",
       "\t<tr><td>audi              </td><td>a6 quattro        </td><td>3.1               </td><td>2008              </td><td>6                 </td><td>auto(s6)          </td><td>4                 </td><td>17                </td><td>25                </td><td>p                 </td><td>midsize           </td></tr>\n",
       "\t<tr><td>audi              </td><td>a6 quattro        </td><td>4.2               </td><td>2008              </td><td>8                 </td><td>auto(s6)          </td><td>4                 </td><td>16                </td><td>23                </td><td>p                 </td><td>midsize           </td></tr>\n",
       "\t<tr><td>chevrolet         </td><td>c1500 suburban 2wd</td><td>5.3               </td><td>2008              </td><td>8                 </td><td>auto(l4)          </td><td>r                 </td><td>14                </td><td>20                </td><td>r                 </td><td>suv               </td></tr>\n",
       "\t<tr><td>chevrolet         </td><td>c1500 suburban 2wd</td><td>5.3               </td><td>2008              </td><td>8                 </td><td>auto(l4)          </td><td>r                 </td><td>11                </td><td>15                </td><td>e                 </td><td>suv               </td></tr>\n",
       "\t<tr><td>chevrolet         </td><td>c1500 suburban 2wd</td><td>5.3               </td><td>2008              </td><td>8                 </td><td>auto(l4)          </td><td>r                 </td><td>14                </td><td>20                </td><td>r                 </td><td>suv               </td></tr>\n",
       "\t<tr><td>chevrolet         </td><td>c1500 suburban 2wd</td><td>5.7               </td><td>1999              </td><td>8                 </td><td>auto(l4)          </td><td>r                 </td><td>13                </td><td>17                </td><td>r                 </td><td>suv               </td></tr>\n",
       "\t<tr><td>chevrolet         </td><td>c1500 suburban 2wd</td><td>6.0               </td><td>2008              </td><td>8                 </td><td>auto(l4)          </td><td>r                 </td><td>12                </td><td>17                </td><td>r                 </td><td>suv               </td></tr>\n",
       "\t<tr><td>chevrolet         </td><td>corvette          </td><td>5.7               </td><td>1999              </td><td>8                 </td><td>manual(m6)        </td><td>r                 </td><td>16                </td><td>26                </td><td>p                 </td><td>2seater           </td></tr>\n",
       "\t<tr><td>chevrolet         </td><td>corvette          </td><td>5.7               </td><td>1999              </td><td>8                 </td><td>auto(l4)          </td><td>r                 </td><td>15                </td><td>23                </td><td>p                 </td><td>2seater           </td></tr>\n",
       "\t<tr><td>chevrolet         </td><td>corvette          </td><td>6.2               </td><td>2008              </td><td>8                 </td><td>manual(m6)        </td><td>r                 </td><td>16                </td><td>26                </td><td>p                 </td><td>2seater           </td></tr>\n",
       "\t<tr><td>chevrolet         </td><td>corvette          </td><td>6.2               </td><td>2008              </td><td>8                 </td><td>auto(s6)          </td><td>r                 </td><td>15                </td><td>25                </td><td>p                 </td><td>2seater           </td></tr>\n",
       "\t<tr><td>chevrolet         </td><td>corvette          </td><td>7.0               </td><td>2008              </td><td>8                 </td><td>manual(m6)        </td><td>r                 </td><td>15                </td><td>24                </td><td>p                 </td><td>2seater           </td></tr>\n",
       "\t<tr><td>chevrolet         </td><td>k1500 tahoe 4wd   </td><td>5.3               </td><td>2008              </td><td>8                 </td><td>auto(l4)          </td><td>4                 </td><td>14                </td><td>19                </td><td>r                 </td><td>suv               </td></tr>\n",
       "\t<tr><td>chevrolet         </td><td>k1500 tahoe 4wd   </td><td>5.3               </td><td>2008              </td><td>8                 </td><td>auto(l4)          </td><td>4                 </td><td>11                </td><td>14                </td><td>e                 </td><td>suv               </td></tr>\n",
       "\t<tr><td>...</td><td>...</td><td>...</td><td>...</td><td>...</td><td>...</td><td>...</td><td>...</td><td>...</td><td>...</td><td>...</td></tr>\n",
       "\t<tr><td>toyota           </td><td>toyota tacoma 4wd</td><td>4.0              </td><td>2008             </td><td>6                </td><td>manual(m6)       </td><td>4                </td><td>15               </td><td>18               </td><td>r                </td><td>pickup           </td></tr>\n",
       "\t<tr><td>toyota           </td><td>toyota tacoma 4wd</td><td>4.0              </td><td>2008             </td><td>6                </td><td>auto(l5)         </td><td>4                </td><td>16               </td><td>20               </td><td>r                </td><td>pickup           </td></tr>\n",
       "\t<tr><td>volkswagen       </td><td>gti              </td><td>2.0              </td><td>1999             </td><td>4                </td><td>manual(m5)       </td><td>f                </td><td>21               </td><td>29               </td><td>r                </td><td>compact          </td></tr>\n",
       "\t<tr><td>volkswagen       </td><td>gti              </td><td>2.0              </td><td>1999             </td><td>4                </td><td>auto(l4)         </td><td>f                </td><td>19               </td><td>26               </td><td>r                </td><td>compact          </td></tr>\n",
       "\t<tr><td>volkswagen       </td><td>gti              </td><td>2.0              </td><td>2008             </td><td>4                </td><td>manual(m6)       </td><td>f                </td><td>21               </td><td>29               </td><td>p                </td><td>compact          </td></tr>\n",
       "\t<tr><td>volkswagen       </td><td>gti              </td><td>2.0              </td><td>2008             </td><td>4                </td><td>auto(s6)         </td><td>f                </td><td>22               </td><td>29               </td><td>p                </td><td>compact          </td></tr>\n",
       "\t<tr><td>volkswagen       </td><td>gti              </td><td>2.8              </td><td>1999             </td><td>6                </td><td>manual(m5)       </td><td>f                </td><td>17               </td><td>24               </td><td>r                </td><td>compact          </td></tr>\n",
       "\t<tr><td>volkswagen       </td><td>jetta            </td><td>1.9              </td><td>1999             </td><td>4                </td><td>manual(m5)       </td><td>f                </td><td>33               </td><td>44               </td><td>d                </td><td>compact          </td></tr>\n",
       "\t<tr><td>volkswagen       </td><td>jetta            </td><td>2.0              </td><td>1999             </td><td>4                </td><td>manual(m5)       </td><td>f                </td><td>21               </td><td>29               </td><td>r                </td><td>compact          </td></tr>\n",
       "\t<tr><td>volkswagen       </td><td>jetta            </td><td>2.0              </td><td>1999             </td><td>4                </td><td>auto(l4)         </td><td>f                </td><td>19               </td><td>26               </td><td>r                </td><td>compact          </td></tr>\n",
       "\t<tr><td>volkswagen       </td><td>jetta            </td><td>2.0              </td><td>2008             </td><td>4                </td><td>auto(s6)         </td><td>f                </td><td>22               </td><td>29               </td><td>p                </td><td>compact          </td></tr>\n",
       "\t<tr><td>volkswagen       </td><td>jetta            </td><td>2.0              </td><td>2008             </td><td>4                </td><td>manual(m6)       </td><td>f                </td><td>21               </td><td>29               </td><td>p                </td><td>compact          </td></tr>\n",
       "\t<tr><td>volkswagen       </td><td>jetta            </td><td>2.5              </td><td>2008             </td><td>5                </td><td>auto(s6)         </td><td>f                </td><td>21               </td><td>29               </td><td>r                </td><td>compact          </td></tr>\n",
       "\t<tr><td>volkswagen       </td><td>jetta            </td><td>2.5              </td><td>2008             </td><td>5                </td><td>manual(m5)       </td><td>f                </td><td>21               </td><td>29               </td><td>r                </td><td>compact          </td></tr>\n",
       "\t<tr><td>volkswagen       </td><td>jetta            </td><td>2.8              </td><td>1999             </td><td>6                </td><td>auto(l4)         </td><td>f                </td><td>16               </td><td>23               </td><td>r                </td><td>compact          </td></tr>\n",
       "\t<tr><td>volkswagen       </td><td>jetta            </td><td>2.8              </td><td>1999             </td><td>6                </td><td>manual(m5)       </td><td>f                </td><td>17               </td><td>24               </td><td>r                </td><td>compact          </td></tr>\n",
       "\t<tr><td>volkswagen       </td><td>new beetle       </td><td>1.9              </td><td>1999             </td><td>4                </td><td>manual(m5)       </td><td>f                </td><td>35               </td><td>44               </td><td>d                </td><td>subcompact       </td></tr>\n",
       "\t<tr><td>volkswagen       </td><td>new beetle       </td><td>1.9              </td><td>1999             </td><td>4                </td><td>auto(l4)         </td><td>f                </td><td>29               </td><td>41               </td><td>d                </td><td>subcompact       </td></tr>\n",
       "\t<tr><td>volkswagen       </td><td>new beetle       </td><td>2.0              </td><td>1999             </td><td>4                </td><td>manual(m5)       </td><td>f                </td><td>21               </td><td>29               </td><td>r                </td><td>subcompact       </td></tr>\n",
       "\t<tr><td>volkswagen       </td><td>new beetle       </td><td>2.0              </td><td>1999             </td><td>4                </td><td>auto(l4)         </td><td>f                </td><td>19               </td><td>26               </td><td>r                </td><td>subcompact       </td></tr>\n",
       "\t<tr><td>volkswagen       </td><td>new beetle       </td><td>2.5              </td><td>2008             </td><td>5                </td><td>manual(m5)       </td><td>f                </td><td>20               </td><td>28               </td><td>r                </td><td>subcompact       </td></tr>\n",
       "\t<tr><td>volkswagen       </td><td>new beetle       </td><td>2.5              </td><td>2008             </td><td>5                </td><td>auto(s6)         </td><td>f                </td><td>20               </td><td>29               </td><td>r                </td><td>subcompact       </td></tr>\n",
       "\t<tr><td>volkswagen       </td><td>passat           </td><td>1.8              </td><td>1999             </td><td>4                </td><td>manual(m5)       </td><td>f                </td><td>21               </td><td>29               </td><td>p                </td><td>midsize          </td></tr>\n",
       "\t<tr><td>volkswagen       </td><td>passat           </td><td>1.8              </td><td>1999             </td><td>4                </td><td>auto(l5)         </td><td>f                </td><td>18               </td><td>29               </td><td>p                </td><td>midsize          </td></tr>\n",
       "\t<tr><td>volkswagen       </td><td>passat           </td><td>2.0              </td><td>2008             </td><td>4                </td><td>auto(s6)         </td><td>f                </td><td>19               </td><td>28               </td><td>p                </td><td>midsize          </td></tr>\n",
       "\t<tr><td>volkswagen       </td><td>passat           </td><td>2.0              </td><td>2008             </td><td>4                </td><td>manual(m6)       </td><td>f                </td><td>21               </td><td>29               </td><td>p                </td><td>midsize          </td></tr>\n",
       "\t<tr><td>volkswagen       </td><td>passat           </td><td>2.8              </td><td>1999             </td><td>6                </td><td>auto(l5)         </td><td>f                </td><td>16               </td><td>26               </td><td>p                </td><td>midsize          </td></tr>\n",
       "\t<tr><td>volkswagen       </td><td>passat           </td><td>2.8              </td><td>1999             </td><td>6                </td><td>manual(m5)       </td><td>f                </td><td>18               </td><td>26               </td><td>p                </td><td>midsize          </td></tr>\n",
       "\t<tr><td>volkswagen       </td><td>passat           </td><td>3.6              </td><td>2008             </td><td>6                </td><td>auto(s6)         </td><td>f                </td><td>17               </td><td>26               </td><td>p                </td><td>midsize          </td></tr>\n",
       "\t<tr><td>jeep             </td><td>NA               </td><td>2.0              </td><td>2008             </td><td>4                </td><td>manual(m6)       </td><td>NA               </td><td>15               </td><td>24               </td><td>p                </td><td>suv              </td></tr>\n",
       "</tbody>\n",
       "</table>\n"
      ],
      "text/latex": [
       "\\begin{tabular}{r|lllllllllll}\n",
       " manufacturer & model & displ & year & cyl & trans & drv & cty & hwy & fl & class\\\\\n",
       "\\hline\n",
       "\t audi               & a4                 & 1.8                & 1999               & 4                  & auto(l5)           & f                  & 18                 & 29                 & p                  & compact           \\\\\n",
       "\t audi               & a4                 & 1.8                & 1999               & 4                  & manual(m5)         & f                  & 21                 & 29                 & p                  & compact           \\\\\n",
       "\t audi               & a4                 & 2.0                & 2008               & 4                  & manual(m6)         & f                  & 20                 & 31                 & p                  & compact           \\\\\n",
       "\t audi               & a4                 & 2.0                & 2008               & 4                  & auto(av)           & f                  & 21                 & 30                 & p                  & compact           \\\\\n",
       "\t audi               & a4                 & 2.8                & 1999               & 6                  & auto(l5)           & f                  & 16                 & 26                 & p                  & compact           \\\\\n",
       "\t audi               & a4                 & 2.8                & 1999               & 6                  & manual(m5)         & f                  & 18                 & 26                 & p                  & compact           \\\\\n",
       "\t audi               & a4                 & 3.1                & 2008               & 6                  & auto(av)           & f                  & 18                 & 27                 & p                  & compact           \\\\\n",
       "\t audi               & a4 quattro         & 1.8                & 1999               & 4                  & manual(m5)         & 4                  & 18                 & 26                 & p                  & compact           \\\\\n",
       "\t audi               & a4 quattro         & 1.8                & 1999               & 4                  & auto(l5)           & 4                  & 16                 & 25                 & p                  & compact           \\\\\n",
       "\t audi               & a4 quattro         & 2.0                & 2008               & 4                  & manual(m6)         & 4                  & 20                 & 28                 & p                  & compact           \\\\\n",
       "\t audi               & a4 quattro         & 2.0                & 2008               & 4                  & auto(s6)           & 4                  & 19                 & 27                 & p                  & compact           \\\\\n",
       "\t audi               & a4 quattro         & 2.8                & 1999               & 6                  & auto(l5)           & 4                  & 15                 & 25                 & p                  & compact           \\\\\n",
       "\t audi               & a4 quattro         & 2.8                & 1999               & 6                  & manual(m5)         & 4                  & 17                 & 25                 & p                  & compact           \\\\\n",
       "\t audi               & a4 quattro         & 3.1                & 2008               & 6                  & auto(s6)           & 4                  & 17                 & 25                 & p                  & compact           \\\\\n",
       "\t audi               & a4 quattro         & 3.1                & 2008               & 6                  & manual(m6)         & 4                  & 15                 & 25                 & p                  & compact           \\\\\n",
       "\t audi               & a6 quattro         & 2.8                & 1999               & 6                  & auto(l5)           & 4                  & 15                 & 24                 & p                  & midsize           \\\\\n",
       "\t audi               & a6 quattro         & 3.1                & 2008               & 6                  & auto(s6)           & 4                  & 17                 & 25                 & p                  & midsize           \\\\\n",
       "\t audi               & a6 quattro         & 4.2                & 2008               & 8                  & auto(s6)           & 4                  & 16                 & 23                 & p                  & midsize           \\\\\n",
       "\t chevrolet          & c1500 suburban 2wd & 5.3                & 2008               & 8                  & auto(l4)           & r                  & 14                 & 20                 & r                  & suv               \\\\\n",
       "\t chevrolet          & c1500 suburban 2wd & 5.3                & 2008               & 8                  & auto(l4)           & r                  & 11                 & 15                 & e                  & suv               \\\\\n",
       "\t chevrolet          & c1500 suburban 2wd & 5.3                & 2008               & 8                  & auto(l4)           & r                  & 14                 & 20                 & r                  & suv               \\\\\n",
       "\t chevrolet          & c1500 suburban 2wd & 5.7                & 1999               & 8                  & auto(l4)           & r                  & 13                 & 17                 & r                  & suv               \\\\\n",
       "\t chevrolet          & c1500 suburban 2wd & 6.0                & 2008               & 8                  & auto(l4)           & r                  & 12                 & 17                 & r                  & suv               \\\\\n",
       "\t chevrolet          & corvette           & 5.7                & 1999               & 8                  & manual(m6)         & r                  & 16                 & 26                 & p                  & 2seater           \\\\\n",
       "\t chevrolet          & corvette           & 5.7                & 1999               & 8                  & auto(l4)           & r                  & 15                 & 23                 & p                  & 2seater           \\\\\n",
       "\t chevrolet          & corvette           & 6.2                & 2008               & 8                  & manual(m6)         & r                  & 16                 & 26                 & p                  & 2seater           \\\\\n",
       "\t chevrolet          & corvette           & 6.2                & 2008               & 8                  & auto(s6)           & r                  & 15                 & 25                 & p                  & 2seater           \\\\\n",
       "\t chevrolet          & corvette           & 7.0                & 2008               & 8                  & manual(m6)         & r                  & 15                 & 24                 & p                  & 2seater           \\\\\n",
       "\t chevrolet          & k1500 tahoe 4wd    & 5.3                & 2008               & 8                  & auto(l4)           & 4                  & 14                 & 19                 & r                  & suv               \\\\\n",
       "\t chevrolet          & k1500 tahoe 4wd    & 5.3                & 2008               & 8                  & auto(l4)           & 4                  & 11                 & 14                 & e                  & suv               \\\\\n",
       "\t ... & ... & ... & ... & ... & ... & ... & ... & ... & ... & ...\\\\\n",
       "\t toyota            & toyota tacoma 4wd & 4.0               & 2008              & 6                 & manual(m6)        & 4                 & 15                & 18                & r                 & pickup           \\\\\n",
       "\t toyota            & toyota tacoma 4wd & 4.0               & 2008              & 6                 & auto(l5)          & 4                 & 16                & 20                & r                 & pickup           \\\\\n",
       "\t volkswagen        & gti               & 2.0               & 1999              & 4                 & manual(m5)        & f                 & 21                & 29                & r                 & compact          \\\\\n",
       "\t volkswagen        & gti               & 2.0               & 1999              & 4                 & auto(l4)          & f                 & 19                & 26                & r                 & compact          \\\\\n",
       "\t volkswagen        & gti               & 2.0               & 2008              & 4                 & manual(m6)        & f                 & 21                & 29                & p                 & compact          \\\\\n",
       "\t volkswagen        & gti               & 2.0               & 2008              & 4                 & auto(s6)          & f                 & 22                & 29                & p                 & compact          \\\\\n",
       "\t volkswagen        & gti               & 2.8               & 1999              & 6                 & manual(m5)        & f                 & 17                & 24                & r                 & compact          \\\\\n",
       "\t volkswagen        & jetta             & 1.9               & 1999              & 4                 & manual(m5)        & f                 & 33                & 44                & d                 & compact          \\\\\n",
       "\t volkswagen        & jetta             & 2.0               & 1999              & 4                 & manual(m5)        & f                 & 21                & 29                & r                 & compact          \\\\\n",
       "\t volkswagen        & jetta             & 2.0               & 1999              & 4                 & auto(l4)          & f                 & 19                & 26                & r                 & compact          \\\\\n",
       "\t volkswagen        & jetta             & 2.0               & 2008              & 4                 & auto(s6)          & f                 & 22                & 29                & p                 & compact          \\\\\n",
       "\t volkswagen        & jetta             & 2.0               & 2008              & 4                 & manual(m6)        & f                 & 21                & 29                & p                 & compact          \\\\\n",
       "\t volkswagen        & jetta             & 2.5               & 2008              & 5                 & auto(s6)          & f                 & 21                & 29                & r                 & compact          \\\\\n",
       "\t volkswagen        & jetta             & 2.5               & 2008              & 5                 & manual(m5)        & f                 & 21                & 29                & r                 & compact          \\\\\n",
       "\t volkswagen        & jetta             & 2.8               & 1999              & 6                 & auto(l4)          & f                 & 16                & 23                & r                 & compact          \\\\\n",
       "\t volkswagen        & jetta             & 2.8               & 1999              & 6                 & manual(m5)        & f                 & 17                & 24                & r                 & compact          \\\\\n",
       "\t volkswagen        & new beetle        & 1.9               & 1999              & 4                 & manual(m5)        & f                 & 35                & 44                & d                 & subcompact       \\\\\n",
       "\t volkswagen        & new beetle        & 1.9               & 1999              & 4                 & auto(l4)          & f                 & 29                & 41                & d                 & subcompact       \\\\\n",
       "\t volkswagen        & new beetle        & 2.0               & 1999              & 4                 & manual(m5)        & f                 & 21                & 29                & r                 & subcompact       \\\\\n",
       "\t volkswagen        & new beetle        & 2.0               & 1999              & 4                 & auto(l4)          & f                 & 19                & 26                & r                 & subcompact       \\\\\n",
       "\t volkswagen        & new beetle        & 2.5               & 2008              & 5                 & manual(m5)        & f                 & 20                & 28                & r                 & subcompact       \\\\\n",
       "\t volkswagen        & new beetle        & 2.5               & 2008              & 5                 & auto(s6)          & f                 & 20                & 29                & r                 & subcompact       \\\\\n",
       "\t volkswagen        & passat            & 1.8               & 1999              & 4                 & manual(m5)        & f                 & 21                & 29                & p                 & midsize          \\\\\n",
       "\t volkswagen        & passat            & 1.8               & 1999              & 4                 & auto(l5)          & f                 & 18                & 29                & p                 & midsize          \\\\\n",
       "\t volkswagen        & passat            & 2.0               & 2008              & 4                 & auto(s6)          & f                 & 19                & 28                & p                 & midsize          \\\\\n",
       "\t volkswagen        & passat            & 2.0               & 2008              & 4                 & manual(m6)        & f                 & 21                & 29                & p                 & midsize          \\\\\n",
       "\t volkswagen        & passat            & 2.8               & 1999              & 6                 & auto(l5)          & f                 & 16                & 26                & p                 & midsize          \\\\\n",
       "\t volkswagen        & passat            & 2.8               & 1999              & 6                 & manual(m5)        & f                 & 18                & 26                & p                 & midsize          \\\\\n",
       "\t volkswagen        & passat            & 3.6               & 2008              & 6                 & auto(s6)          & f                 & 17                & 26                & p                 & midsize          \\\\\n",
       "\t jeep              & NA                & 2.0               & 2008              & 4                 & manual(m6)        & NA                & 15                & 24                & p                 & suv              \\\\\n",
       "\\end{tabular}\n"
      ],
      "text/markdown": [
       "\n",
       "| manufacturer | model | displ | year | cyl | trans | drv | cty | hwy | fl | class |\n",
       "|---|---|---|---|---|---|---|---|---|---|---|\n",
       "| audi               | a4                 | 1.8                | 1999               | 4                  | auto(l5)           | f                  | 18                 | 29                 | p                  | compact            |\n",
       "| audi               | a4                 | 1.8                | 1999               | 4                  | manual(m5)         | f                  | 21                 | 29                 | p                  | compact            |\n",
       "| audi               | a4                 | 2.0                | 2008               | 4                  | manual(m6)         | f                  | 20                 | 31                 | p                  | compact            |\n",
       "| audi               | a4                 | 2.0                | 2008               | 4                  | auto(av)           | f                  | 21                 | 30                 | p                  | compact            |\n",
       "| audi               | a4                 | 2.8                | 1999               | 6                  | auto(l5)           | f                  | 16                 | 26                 | p                  | compact            |\n",
       "| audi               | a4                 | 2.8                | 1999               | 6                  | manual(m5)         | f                  | 18                 | 26                 | p                  | compact            |\n",
       "| audi               | a4                 | 3.1                | 2008               | 6                  | auto(av)           | f                  | 18                 | 27                 | p                  | compact            |\n",
       "| audi               | a4 quattro         | 1.8                | 1999               | 4                  | manual(m5)         | 4                  | 18                 | 26                 | p                  | compact            |\n",
       "| audi               | a4 quattro         | 1.8                | 1999               | 4                  | auto(l5)           | 4                  | 16                 | 25                 | p                  | compact            |\n",
       "| audi               | a4 quattro         | 2.0                | 2008               | 4                  | manual(m6)         | 4                  | 20                 | 28                 | p                  | compact            |\n",
       "| audi               | a4 quattro         | 2.0                | 2008               | 4                  | auto(s6)           | 4                  | 19                 | 27                 | p                  | compact            |\n",
       "| audi               | a4 quattro         | 2.8                | 1999               | 6                  | auto(l5)           | 4                  | 15                 | 25                 | p                  | compact            |\n",
       "| audi               | a4 quattro         | 2.8                | 1999               | 6                  | manual(m5)         | 4                  | 17                 | 25                 | p                  | compact            |\n",
       "| audi               | a4 quattro         | 3.1                | 2008               | 6                  | auto(s6)           | 4                  | 17                 | 25                 | p                  | compact            |\n",
       "| audi               | a4 quattro         | 3.1                | 2008               | 6                  | manual(m6)         | 4                  | 15                 | 25                 | p                  | compact            |\n",
       "| audi               | a6 quattro         | 2.8                | 1999               | 6                  | auto(l5)           | 4                  | 15                 | 24                 | p                  | midsize            |\n",
       "| audi               | a6 quattro         | 3.1                | 2008               | 6                  | auto(s6)           | 4                  | 17                 | 25                 | p                  | midsize            |\n",
       "| audi               | a6 quattro         | 4.2                | 2008               | 8                  | auto(s6)           | 4                  | 16                 | 23                 | p                  | midsize            |\n",
       "| chevrolet          | c1500 suburban 2wd | 5.3                | 2008               | 8                  | auto(l4)           | r                  | 14                 | 20                 | r                  | suv                |\n",
       "| chevrolet          | c1500 suburban 2wd | 5.3                | 2008               | 8                  | auto(l4)           | r                  | 11                 | 15                 | e                  | suv                |\n",
       "| chevrolet          | c1500 suburban 2wd | 5.3                | 2008               | 8                  | auto(l4)           | r                  | 14                 | 20                 | r                  | suv                |\n",
       "| chevrolet          | c1500 suburban 2wd | 5.7                | 1999               | 8                  | auto(l4)           | r                  | 13                 | 17                 | r                  | suv                |\n",
       "| chevrolet          | c1500 suburban 2wd | 6.0                | 2008               | 8                  | auto(l4)           | r                  | 12                 | 17                 | r                  | suv                |\n",
       "| chevrolet          | corvette           | 5.7                | 1999               | 8                  | manual(m6)         | r                  | 16                 | 26                 | p                  | 2seater            |\n",
       "| chevrolet          | corvette           | 5.7                | 1999               | 8                  | auto(l4)           | r                  | 15                 | 23                 | p                  | 2seater            |\n",
       "| chevrolet          | corvette           | 6.2                | 2008               | 8                  | manual(m6)         | r                  | 16                 | 26                 | p                  | 2seater            |\n",
       "| chevrolet          | corvette           | 6.2                | 2008               | 8                  | auto(s6)           | r                  | 15                 | 25                 | p                  | 2seater            |\n",
       "| chevrolet          | corvette           | 7.0                | 2008               | 8                  | manual(m6)         | r                  | 15                 | 24                 | p                  | 2seater            |\n",
       "| chevrolet          | k1500 tahoe 4wd    | 5.3                | 2008               | 8                  | auto(l4)           | 4                  | 14                 | 19                 | r                  | suv                |\n",
       "| chevrolet          | k1500 tahoe 4wd    | 5.3                | 2008               | 8                  | auto(l4)           | 4                  | 11                 | 14                 | e                  | suv                |\n",
       "| ... | ... | ... | ... | ... | ... | ... | ... | ... | ... | ... |\n",
       "| toyota            | toyota tacoma 4wd | 4.0               | 2008              | 6                 | manual(m6)        | 4                 | 15                | 18                | r                 | pickup            |\n",
       "| toyota            | toyota tacoma 4wd | 4.0               | 2008              | 6                 | auto(l5)          | 4                 | 16                | 20                | r                 | pickup            |\n",
       "| volkswagen        | gti               | 2.0               | 1999              | 4                 | manual(m5)        | f                 | 21                | 29                | r                 | compact           |\n",
       "| volkswagen        | gti               | 2.0               | 1999              | 4                 | auto(l4)          | f                 | 19                | 26                | r                 | compact           |\n",
       "| volkswagen        | gti               | 2.0               | 2008              | 4                 | manual(m6)        | f                 | 21                | 29                | p                 | compact           |\n",
       "| volkswagen        | gti               | 2.0               | 2008              | 4                 | auto(s6)          | f                 | 22                | 29                | p                 | compact           |\n",
       "| volkswagen        | gti               | 2.8               | 1999              | 6                 | manual(m5)        | f                 | 17                | 24                | r                 | compact           |\n",
       "| volkswagen        | jetta             | 1.9               | 1999              | 4                 | manual(m5)        | f                 | 33                | 44                | d                 | compact           |\n",
       "| volkswagen        | jetta             | 2.0               | 1999              | 4                 | manual(m5)        | f                 | 21                | 29                | r                 | compact           |\n",
       "| volkswagen        | jetta             | 2.0               | 1999              | 4                 | auto(l4)          | f                 | 19                | 26                | r                 | compact           |\n",
       "| volkswagen        | jetta             | 2.0               | 2008              | 4                 | auto(s6)          | f                 | 22                | 29                | p                 | compact           |\n",
       "| volkswagen        | jetta             | 2.0               | 2008              | 4                 | manual(m6)        | f                 | 21                | 29                | p                 | compact           |\n",
       "| volkswagen        | jetta             | 2.5               | 2008              | 5                 | auto(s6)          | f                 | 21                | 29                | r                 | compact           |\n",
       "| volkswagen        | jetta             | 2.5               | 2008              | 5                 | manual(m5)        | f                 | 21                | 29                | r                 | compact           |\n",
       "| volkswagen        | jetta             | 2.8               | 1999              | 6                 | auto(l4)          | f                 | 16                | 23                | r                 | compact           |\n",
       "| volkswagen        | jetta             | 2.8               | 1999              | 6                 | manual(m5)        | f                 | 17                | 24                | r                 | compact           |\n",
       "| volkswagen        | new beetle        | 1.9               | 1999              | 4                 | manual(m5)        | f                 | 35                | 44                | d                 | subcompact        |\n",
       "| volkswagen        | new beetle        | 1.9               | 1999              | 4                 | auto(l4)          | f                 | 29                | 41                | d                 | subcompact        |\n",
       "| volkswagen        | new beetle        | 2.0               | 1999              | 4                 | manual(m5)        | f                 | 21                | 29                | r                 | subcompact        |\n",
       "| volkswagen        | new beetle        | 2.0               | 1999              | 4                 | auto(l4)          | f                 | 19                | 26                | r                 | subcompact        |\n",
       "| volkswagen        | new beetle        | 2.5               | 2008              | 5                 | manual(m5)        | f                 | 20                | 28                | r                 | subcompact        |\n",
       "| volkswagen        | new beetle        | 2.5               | 2008              | 5                 | auto(s6)          | f                 | 20                | 29                | r                 | subcompact        |\n",
       "| volkswagen        | passat            | 1.8               | 1999              | 4                 | manual(m5)        | f                 | 21                | 29                | p                 | midsize           |\n",
       "| volkswagen        | passat            | 1.8               | 1999              | 4                 | auto(l5)          | f                 | 18                | 29                | p                 | midsize           |\n",
       "| volkswagen        | passat            | 2.0               | 2008              | 4                 | auto(s6)          | f                 | 19                | 28                | p                 | midsize           |\n",
       "| volkswagen        | passat            | 2.0               | 2008              | 4                 | manual(m6)        | f                 | 21                | 29                | p                 | midsize           |\n",
       "| volkswagen        | passat            | 2.8               | 1999              | 6                 | auto(l5)          | f                 | 16                | 26                | p                 | midsize           |\n",
       "| volkswagen        | passat            | 2.8               | 1999              | 6                 | manual(m5)        | f                 | 18                | 26                | p                 | midsize           |\n",
       "| volkswagen        | passat            | 3.6               | 2008              | 6                 | auto(s6)          | f                 | 17                | 26                | p                 | midsize           |\n",
       "| jeep              | NA                | 2.0               | 2008              | 4                 | manual(m6)        | NA                | 15                | 24                | p                 | suv               |\n",
       "\n"
      ],
      "text/plain": [
       "    manufacturer model              displ year cyl trans      drv cty hwy fl \n",
       "1   audi         a4                 1.8   1999 4   auto(l5)   f   18  29  p  \n",
       "2   audi         a4                 1.8   1999 4   manual(m5) f   21  29  p  \n",
       "3   audi         a4                 2.0   2008 4   manual(m6) f   20  31  p  \n",
       "4   audi         a4                 2.0   2008 4   auto(av)   f   21  30  p  \n",
       "5   audi         a4                 2.8   1999 6   auto(l5)   f   16  26  p  \n",
       "6   audi         a4                 2.8   1999 6   manual(m5) f   18  26  p  \n",
       "7   audi         a4                 3.1   2008 6   auto(av)   f   18  27  p  \n",
       "8   audi         a4 quattro         1.8   1999 4   manual(m5) 4   18  26  p  \n",
       "9   audi         a4 quattro         1.8   1999 4   auto(l5)   4   16  25  p  \n",
       "10  audi         a4 quattro         2.0   2008 4   manual(m6) 4   20  28  p  \n",
       "11  audi         a4 quattro         2.0   2008 4   auto(s6)   4   19  27  p  \n",
       "12  audi         a4 quattro         2.8   1999 6   auto(l5)   4   15  25  p  \n",
       "13  audi         a4 quattro         2.8   1999 6   manual(m5) 4   17  25  p  \n",
       "14  audi         a4 quattro         3.1   2008 6   auto(s6)   4   17  25  p  \n",
       "15  audi         a4 quattro         3.1   2008 6   manual(m6) 4   15  25  p  \n",
       "16  audi         a6 quattro         2.8   1999 6   auto(l5)   4   15  24  p  \n",
       "17  audi         a6 quattro         3.1   2008 6   auto(s6)   4   17  25  p  \n",
       "18  audi         a6 quattro         4.2   2008 8   auto(s6)   4   16  23  p  \n",
       "19  chevrolet    c1500 suburban 2wd 5.3   2008 8   auto(l4)   r   14  20  r  \n",
       "20  chevrolet    c1500 suburban 2wd 5.3   2008 8   auto(l4)   r   11  15  e  \n",
       "21  chevrolet    c1500 suburban 2wd 5.3   2008 8   auto(l4)   r   14  20  r  \n",
       "22  chevrolet    c1500 suburban 2wd 5.7   1999 8   auto(l4)   r   13  17  r  \n",
       "23  chevrolet    c1500 suburban 2wd 6.0   2008 8   auto(l4)   r   12  17  r  \n",
       "24  chevrolet    corvette           5.7   1999 8   manual(m6) r   16  26  p  \n",
       "25  chevrolet    corvette           5.7   1999 8   auto(l4)   r   15  23  p  \n",
       "26  chevrolet    corvette           6.2   2008 8   manual(m6) r   16  26  p  \n",
       "27  chevrolet    corvette           6.2   2008 8   auto(s6)   r   15  25  p  \n",
       "28  chevrolet    corvette           7.0   2008 8   manual(m6) r   15  24  p  \n",
       "29  chevrolet    k1500 tahoe 4wd    5.3   2008 8   auto(l4)   4   14  19  r  \n",
       "30  chevrolet    k1500 tahoe 4wd    5.3   2008 8   auto(l4)   4   11  14  e  \n",
       "... ...          ...                ...   ...  ... ...        ... ... ... ...\n",
       "206 toyota       toyota tacoma 4wd  4.0   2008 6   manual(m6) 4   15  18  r  \n",
       "207 toyota       toyota tacoma 4wd  4.0   2008 6   auto(l5)   4   16  20  r  \n",
       "208 volkswagen   gti                2.0   1999 4   manual(m5) f   21  29  r  \n",
       "209 volkswagen   gti                2.0   1999 4   auto(l4)   f   19  26  r  \n",
       "210 volkswagen   gti                2.0   2008 4   manual(m6) f   21  29  p  \n",
       "211 volkswagen   gti                2.0   2008 4   auto(s6)   f   22  29  p  \n",
       "212 volkswagen   gti                2.8   1999 6   manual(m5) f   17  24  r  \n",
       "213 volkswagen   jetta              1.9   1999 4   manual(m5) f   33  44  d  \n",
       "214 volkswagen   jetta              2.0   1999 4   manual(m5) f   21  29  r  \n",
       "215 volkswagen   jetta              2.0   1999 4   auto(l4)   f   19  26  r  \n",
       "216 volkswagen   jetta              2.0   2008 4   auto(s6)   f   22  29  p  \n",
       "217 volkswagen   jetta              2.0   2008 4   manual(m6) f   21  29  p  \n",
       "218 volkswagen   jetta              2.5   2008 5   auto(s6)   f   21  29  r  \n",
       "219 volkswagen   jetta              2.5   2008 5   manual(m5) f   21  29  r  \n",
       "220 volkswagen   jetta              2.8   1999 6   auto(l4)   f   16  23  r  \n",
       "221 volkswagen   jetta              2.8   1999 6   manual(m5) f   17  24  r  \n",
       "222 volkswagen   new beetle         1.9   1999 4   manual(m5) f   35  44  d  \n",
       "223 volkswagen   new beetle         1.9   1999 4   auto(l4)   f   29  41  d  \n",
       "224 volkswagen   new beetle         2.0   1999 4   manual(m5) f   21  29  r  \n",
       "225 volkswagen   new beetle         2.0   1999 4   auto(l4)   f   19  26  r  \n",
       "226 volkswagen   new beetle         2.5   2008 5   manual(m5) f   20  28  r  \n",
       "227 volkswagen   new beetle         2.5   2008 5   auto(s6)   f   20  29  r  \n",
       "228 volkswagen   passat             1.8   1999 4   manual(m5) f   21  29  p  \n",
       "229 volkswagen   passat             1.8   1999 4   auto(l5)   f   18  29  p  \n",
       "230 volkswagen   passat             2.0   2008 4   auto(s6)   f   19  28  p  \n",
       "231 volkswagen   passat             2.0   2008 4   manual(m6) f   21  29  p  \n",
       "232 volkswagen   passat             2.8   1999 6   auto(l5)   f   16  26  p  \n",
       "233 volkswagen   passat             2.8   1999 6   manual(m5) f   18  26  p  \n",
       "234 volkswagen   passat             3.6   2008 6   auto(s6)   f   17  26  p  \n",
       "235 jeep         NA                 2.0   2008 4   manual(m6) NA  15  24  p  \n",
       "    class     \n",
       "1   compact   \n",
       "2   compact   \n",
       "3   compact   \n",
       "4   compact   \n",
       "5   compact   \n",
       "6   compact   \n",
       "7   compact   \n",
       "8   compact   \n",
       "9   compact   \n",
       "10  compact   \n",
       "11  compact   \n",
       "12  compact   \n",
       "13  compact   \n",
       "14  compact   \n",
       "15  compact   \n",
       "16  midsize   \n",
       "17  midsize   \n",
       "18  midsize   \n",
       "19  suv       \n",
       "20  suv       \n",
       "21  suv       \n",
       "22  suv       \n",
       "23  suv       \n",
       "24  2seater   \n",
       "25  2seater   \n",
       "26  2seater   \n",
       "27  2seater   \n",
       "28  2seater   \n",
       "29  suv       \n",
       "30  suv       \n",
       "... ...       \n",
       "206 pickup    \n",
       "207 pickup    \n",
       "208 compact   \n",
       "209 compact   \n",
       "210 compact   \n",
       "211 compact   \n",
       "212 compact   \n",
       "213 compact   \n",
       "214 compact   \n",
       "215 compact   \n",
       "216 compact   \n",
       "217 compact   \n",
       "218 compact   \n",
       "219 compact   \n",
       "220 compact   \n",
       "221 compact   \n",
       "222 subcompact\n",
       "223 subcompact\n",
       "224 subcompact\n",
       "225 subcompact\n",
       "226 subcompact\n",
       "227 subcompact\n",
       "228 midsize   \n",
       "229 midsize   \n",
       "230 midsize   \n",
       "231 midsize   \n",
       "232 midsize   \n",
       "233 midsize   \n",
       "234 midsize   \n",
       "235 suv       "
      ]
     },
     "metadata": {},
     "output_type": "display_data"
    }
   ],
   "source": [
    "mpg %>%\n",
    "  add_row(manufacturer = \"jeep\",\n",
    "          displ        = 2,\n",
    "          year         = 2008,\n",
    "          cyl          = 4,\n",
    "          trans        = \"manual(m6)\",\n",
    "          cty          = 15,\n",
    "          hwy          = 24,\n",
    "          fl           = \"p\",\n",
    "          class        = \"suv\"\n",
    "          )"
   ]
  },
  {
   "cell_type": "code",
   "execution_count": 4,
   "id": "6a39c91a-fcaa-4022-8be5-1d115d6b812a",
   "metadata": {},
   "outputs": [
    {
     "data": {
      "text/html": [
       "<table>\n",
       "<thead><tr><th scope=col>manufacturer</th><th scope=col>model</th><th scope=col>displ</th><th scope=col>year</th><th scope=col>cyl</th><th scope=col>trans</th><th scope=col>drv</th><th scope=col>cty</th><th scope=col>hwy</th><th scope=col>fl</th><th scope=col>class</th></tr></thead>\n",
       "<tbody>\n",
       "\t<tr><td>audi              </td><td>a4                </td><td>1.8               </td><td>1999              </td><td>4                 </td><td>auto(l5)          </td><td>f                 </td><td>7.651783          </td><td>12.327873         </td><td>p                 </td><td>compact           </td></tr>\n",
       "\t<tr><td>audi              </td><td>a4                </td><td>1.8               </td><td>1999              </td><td>4                 </td><td>manual(m5)        </td><td>f                 </td><td>8.927081          </td><td>12.327873         </td><td>p                 </td><td>compact           </td></tr>\n",
       "\t<tr><td>audi              </td><td>a4                </td><td>2.0               </td><td>2008              </td><td>4                 </td><td>manual(m6)        </td><td>f                 </td><td>8.501982          </td><td>13.178071         </td><td>p                 </td><td>compact           </td></tr>\n",
       "\t<tr><td>audi              </td><td>a4                </td><td>2.0               </td><td>2008              </td><td>4                 </td><td>auto(av)          </td><td>f                 </td><td>8.927081          </td><td>12.752972         </td><td>p                 </td><td>compact           </td></tr>\n",
       "\t<tr><td>audi              </td><td>a4                </td><td>2.8               </td><td>1999              </td><td>6                 </td><td>auto(l5)          </td><td>f                 </td><td>6.801585          </td><td>11.052576         </td><td>p                 </td><td>compact           </td></tr>\n",
       "\t<tr><td>audi              </td><td>a4                </td><td>2.8               </td><td>1999              </td><td>6                 </td><td>manual(m5)        </td><td>f                 </td><td>7.651783          </td><td>11.052576         </td><td>p                 </td><td>compact           </td></tr>\n",
       "\t<tr><td>audi              </td><td>a4                </td><td>3.1               </td><td>2008              </td><td>6                 </td><td>auto(av)          </td><td>f                 </td><td>7.651783          </td><td>11.477675         </td><td>p                 </td><td>compact           </td></tr>\n",
       "\t<tr><td>audi              </td><td>a4 quattro        </td><td>1.8               </td><td>1999              </td><td>4                 </td><td>manual(m5)        </td><td>4                 </td><td>7.651783          </td><td>11.052576         </td><td>p                 </td><td>compact           </td></tr>\n",
       "\t<tr><td>audi              </td><td>a4 quattro        </td><td>1.8               </td><td>1999              </td><td>4                 </td><td>auto(l5)          </td><td>4                 </td><td>6.801585          </td><td>10.627477         </td><td>p                 </td><td>compact           </td></tr>\n",
       "\t<tr><td>audi              </td><td>a4 quattro        </td><td>2.0               </td><td>2008              </td><td>4                 </td><td>manual(m6)        </td><td>4                 </td><td>8.501982          </td><td>11.902774         </td><td>p                 </td><td>compact           </td></tr>\n",
       "\t<tr><td>audi              </td><td>a4 quattro        </td><td>2.0               </td><td>2008              </td><td>4                 </td><td>auto(s6)          </td><td>4                 </td><td>8.076882          </td><td>11.477675         </td><td>p                 </td><td>compact           </td></tr>\n",
       "\t<tr><td>audi              </td><td>a4 quattro        </td><td>2.8               </td><td>1999              </td><td>6                 </td><td>auto(l5)          </td><td>4                 </td><td>6.376486          </td><td>10.627477         </td><td>p                 </td><td>compact           </td></tr>\n",
       "\t<tr><td>audi              </td><td>a4 quattro        </td><td>2.8               </td><td>1999              </td><td>6                 </td><td>manual(m5)        </td><td>4                 </td><td>7.226684          </td><td>10.627477         </td><td>p                 </td><td>compact           </td></tr>\n",
       "\t<tr><td>audi              </td><td>a4 quattro        </td><td>3.1               </td><td>2008              </td><td>6                 </td><td>auto(s6)          </td><td>4                 </td><td>7.226684          </td><td>10.627477         </td><td>p                 </td><td>compact           </td></tr>\n",
       "\t<tr><td>audi              </td><td>a4 quattro        </td><td>3.1               </td><td>2008              </td><td>6                 </td><td>manual(m6)        </td><td>4                 </td><td>6.376486          </td><td>10.627477         </td><td>p                 </td><td>compact           </td></tr>\n",
       "\t<tr><td>audi              </td><td>a6 quattro        </td><td>2.8               </td><td>1999              </td><td>6                 </td><td>auto(l5)          </td><td>4                 </td><td>6.376486          </td><td>10.202378         </td><td>p                 </td><td>midsize           </td></tr>\n",
       "\t<tr><td>audi              </td><td>a6 quattro        </td><td>3.1               </td><td>2008              </td><td>6                 </td><td>auto(s6)          </td><td>4                 </td><td>7.226684          </td><td>10.627477         </td><td>p                 </td><td>midsize           </td></tr>\n",
       "\t<tr><td>audi              </td><td>a6 quattro        </td><td>4.2               </td><td>2008              </td><td>8                 </td><td>auto(s6)          </td><td>4                 </td><td>6.801585          </td><td> 9.777279         </td><td>p                 </td><td>midsize           </td></tr>\n",
       "\t<tr><td>chevrolet         </td><td>c1500 suburban 2wd</td><td>5.3               </td><td>2008              </td><td>8                 </td><td>auto(l4)          </td><td>r                 </td><td>5.951387          </td><td> 8.501982         </td><td>r                 </td><td>suv               </td></tr>\n",
       "\t<tr><td>chevrolet         </td><td>c1500 suburban 2wd</td><td>5.3               </td><td>2008              </td><td>8                 </td><td>auto(l4)          </td><td>r                 </td><td>4.676090          </td><td> 6.376486         </td><td>e                 </td><td>suv               </td></tr>\n",
       "\t<tr><td>chevrolet         </td><td>c1500 suburban 2wd</td><td>5.3               </td><td>2008              </td><td>8                 </td><td>auto(l4)          </td><td>r                 </td><td>5.951387          </td><td> 8.501982         </td><td>r                 </td><td>suv               </td></tr>\n",
       "\t<tr><td>chevrolet         </td><td>c1500 suburban 2wd</td><td>5.7               </td><td>1999              </td><td>8                 </td><td>auto(l4)          </td><td>r                 </td><td>5.526288          </td><td> 7.226684         </td><td>r                 </td><td>suv               </td></tr>\n",
       "\t<tr><td>chevrolet         </td><td>c1500 suburban 2wd</td><td>6.0               </td><td>2008              </td><td>8                 </td><td>auto(l4)          </td><td>r                 </td><td>5.101189          </td><td> 7.226684         </td><td>r                 </td><td>suv               </td></tr>\n",
       "\t<tr><td>chevrolet         </td><td>corvette          </td><td>5.7               </td><td>1999              </td><td>8                 </td><td>manual(m6)        </td><td>r                 </td><td>6.801585          </td><td>11.052576         </td><td>p                 </td><td>2seater           </td></tr>\n",
       "\t<tr><td>chevrolet         </td><td>corvette          </td><td>5.7               </td><td>1999              </td><td>8                 </td><td>auto(l4)          </td><td>r                 </td><td>6.376486          </td><td> 9.777279         </td><td>p                 </td><td>2seater           </td></tr>\n",
       "\t<tr><td>chevrolet         </td><td>corvette          </td><td>6.2               </td><td>2008              </td><td>8                 </td><td>manual(m6)        </td><td>r                 </td><td>6.801585          </td><td>11.052576         </td><td>p                 </td><td>2seater           </td></tr>\n",
       "\t<tr><td>chevrolet         </td><td>corvette          </td><td>6.2               </td><td>2008              </td><td>8                 </td><td>auto(s6)          </td><td>r                 </td><td>6.376486          </td><td>10.627477         </td><td>p                 </td><td>2seater           </td></tr>\n",
       "\t<tr><td>chevrolet         </td><td>corvette          </td><td>7.0               </td><td>2008              </td><td>8                 </td><td>manual(m6)        </td><td>r                 </td><td>6.376486          </td><td>10.202378         </td><td>p                 </td><td>2seater           </td></tr>\n",
       "\t<tr><td>chevrolet         </td><td>k1500 tahoe 4wd   </td><td>5.3               </td><td>2008              </td><td>8                 </td><td>auto(l4)          </td><td>4                 </td><td>5.951387          </td><td> 8.076882         </td><td>r                 </td><td>suv               </td></tr>\n",
       "\t<tr><td>chevrolet         </td><td>k1500 tahoe 4wd   </td><td>5.3               </td><td>2008              </td><td>8                 </td><td>auto(l4)          </td><td>4                 </td><td>4.676090          </td><td> 5.951387         </td><td>e                 </td><td>suv               </td></tr>\n",
       "\t<tr><td>...</td><td>...</td><td>...</td><td>...</td><td>...</td><td>...</td><td>...</td><td>...</td><td>...</td><td>...</td><td>...</td></tr>\n",
       "\t<tr><td>toyota           </td><td>toyota tacoma 4wd</td><td>3.4              </td><td>1999             </td><td>6                </td><td>auto(l4)         </td><td>4                </td><td> 6.376486        </td><td> 8.076882        </td><td>r                </td><td>pickup           </td></tr>\n",
       "\t<tr><td>toyota           </td><td>toyota tacoma 4wd</td><td>4.0              </td><td>2008             </td><td>6                </td><td>manual(m6)       </td><td>4                </td><td> 6.376486        </td><td> 7.651783        </td><td>r                </td><td>pickup           </td></tr>\n",
       "\t<tr><td>toyota           </td><td>toyota tacoma 4wd</td><td>4.0              </td><td>2008             </td><td>6                </td><td>auto(l5)         </td><td>4                </td><td> 6.801585        </td><td> 8.501982        </td><td>r                </td><td>pickup           </td></tr>\n",
       "\t<tr><td>volkswagen       </td><td>gti              </td><td>2.0              </td><td>1999             </td><td>4                </td><td>manual(m5)       </td><td>f                </td><td> 8.927081        </td><td>12.327873        </td><td>r                </td><td>compact          </td></tr>\n",
       "\t<tr><td>volkswagen       </td><td>gti              </td><td>2.0              </td><td>1999             </td><td>4                </td><td>auto(l4)         </td><td>f                </td><td> 8.076882        </td><td>11.052576        </td><td>r                </td><td>compact          </td></tr>\n",
       "\t<tr><td>volkswagen       </td><td>gti              </td><td>2.0              </td><td>2008             </td><td>4                </td><td>manual(m6)       </td><td>f                </td><td> 8.927081        </td><td>12.327873        </td><td>p                </td><td>compact          </td></tr>\n",
       "\t<tr><td>volkswagen       </td><td>gti              </td><td>2.0              </td><td>2008             </td><td>4                </td><td>auto(s6)         </td><td>f                </td><td> 9.352180        </td><td>12.327873        </td><td>p                </td><td>compact          </td></tr>\n",
       "\t<tr><td>volkswagen       </td><td>gti              </td><td>2.8              </td><td>1999             </td><td>6                </td><td>manual(m5)       </td><td>f                </td><td> 7.226684        </td><td>10.202378        </td><td>r                </td><td>compact          </td></tr>\n",
       "\t<tr><td>volkswagen       </td><td>jetta            </td><td>1.9              </td><td>1999             </td><td>4                </td><td>manual(m5)       </td><td>f                </td><td>14.028269        </td><td>18.704359        </td><td>d                </td><td>compact          </td></tr>\n",
       "\t<tr><td>volkswagen       </td><td>jetta            </td><td>2.0              </td><td>1999             </td><td>4                </td><td>manual(m5)       </td><td>f                </td><td> 8.927081        </td><td>12.327873        </td><td>r                </td><td>compact          </td></tr>\n",
       "\t<tr><td>volkswagen       </td><td>jetta            </td><td>2.0              </td><td>1999             </td><td>4                </td><td>auto(l4)         </td><td>f                </td><td> 8.076882        </td><td>11.052576        </td><td>r                </td><td>compact          </td></tr>\n",
       "\t<tr><td>volkswagen       </td><td>jetta            </td><td>2.0              </td><td>2008             </td><td>4                </td><td>auto(s6)         </td><td>f                </td><td> 9.352180        </td><td>12.327873        </td><td>p                </td><td>compact          </td></tr>\n",
       "\t<tr><td>volkswagen       </td><td>jetta            </td><td>2.0              </td><td>2008             </td><td>4                </td><td>manual(m6)       </td><td>f                </td><td> 8.927081        </td><td>12.327873        </td><td>p                </td><td>compact          </td></tr>\n",
       "\t<tr><td>volkswagen       </td><td>jetta            </td><td>2.5              </td><td>2008             </td><td>5                </td><td>auto(s6)         </td><td>f                </td><td> 8.927081        </td><td>12.327873        </td><td>r                </td><td>compact          </td></tr>\n",
       "\t<tr><td>volkswagen       </td><td>jetta            </td><td>2.5              </td><td>2008             </td><td>5                </td><td>manual(m5)       </td><td>f                </td><td> 8.927081        </td><td>12.327873        </td><td>r                </td><td>compact          </td></tr>\n",
       "\t<tr><td>volkswagen       </td><td>jetta            </td><td>2.8              </td><td>1999             </td><td>6                </td><td>auto(l4)         </td><td>f                </td><td> 6.801585        </td><td> 9.777279        </td><td>r                </td><td>compact          </td></tr>\n",
       "\t<tr><td>volkswagen       </td><td>jetta            </td><td>2.8              </td><td>1999             </td><td>6                </td><td>manual(m5)       </td><td>f                </td><td> 7.226684        </td><td>10.202378        </td><td>r                </td><td>compact          </td></tr>\n",
       "\t<tr><td>volkswagen       </td><td>new beetle       </td><td>1.9              </td><td>1999             </td><td>4                </td><td>manual(m5)       </td><td>f                </td><td>14.878468        </td><td>18.704359        </td><td>d                </td><td>subcompact       </td></tr>\n",
       "\t<tr><td>volkswagen       </td><td>new beetle       </td><td>1.9              </td><td>1999             </td><td>4                </td><td>auto(l4)         </td><td>f                </td><td>12.327873        </td><td>17.429062        </td><td>d                </td><td>subcompact       </td></tr>\n",
       "\t<tr><td>volkswagen       </td><td>new beetle       </td><td>2.0              </td><td>1999             </td><td>4                </td><td>manual(m5)       </td><td>f                </td><td> 8.927081        </td><td>12.327873        </td><td>r                </td><td>subcompact       </td></tr>\n",
       "\t<tr><td>volkswagen       </td><td>new beetle       </td><td>2.0              </td><td>1999             </td><td>4                </td><td>auto(l4)         </td><td>f                </td><td> 8.076882        </td><td>11.052576        </td><td>r                </td><td>subcompact       </td></tr>\n",
       "\t<tr><td>volkswagen       </td><td>new beetle       </td><td>2.5              </td><td>2008             </td><td>5                </td><td>manual(m5)       </td><td>f                </td><td> 8.501982        </td><td>11.902774        </td><td>r                </td><td>subcompact       </td></tr>\n",
       "\t<tr><td>volkswagen       </td><td>new beetle       </td><td>2.5              </td><td>2008             </td><td>5                </td><td>auto(s6)         </td><td>f                </td><td> 8.501982        </td><td>12.327873        </td><td>r                </td><td>subcompact       </td></tr>\n",
       "\t<tr><td>volkswagen       </td><td>passat           </td><td>1.8              </td><td>1999             </td><td>4                </td><td>manual(m5)       </td><td>f                </td><td> 8.927081        </td><td>12.327873        </td><td>p                </td><td>midsize          </td></tr>\n",
       "\t<tr><td>volkswagen       </td><td>passat           </td><td>1.8              </td><td>1999             </td><td>4                </td><td>auto(l5)         </td><td>f                </td><td> 7.651783        </td><td>12.327873        </td><td>p                </td><td>midsize          </td></tr>\n",
       "\t<tr><td>volkswagen       </td><td>passat           </td><td>2.0              </td><td>2008             </td><td>4                </td><td>auto(s6)         </td><td>f                </td><td> 8.076882        </td><td>11.902774        </td><td>p                </td><td>midsize          </td></tr>\n",
       "\t<tr><td>volkswagen       </td><td>passat           </td><td>2.0              </td><td>2008             </td><td>4                </td><td>manual(m6)       </td><td>f                </td><td> 8.927081        </td><td>12.327873        </td><td>p                </td><td>midsize          </td></tr>\n",
       "\t<tr><td>volkswagen       </td><td>passat           </td><td>2.8              </td><td>1999             </td><td>6                </td><td>auto(l5)         </td><td>f                </td><td> 6.801585        </td><td>11.052576        </td><td>p                </td><td>midsize          </td></tr>\n",
       "\t<tr><td>volkswagen       </td><td>passat           </td><td>2.8              </td><td>1999             </td><td>6                </td><td>manual(m5)       </td><td>f                </td><td> 7.651783        </td><td>11.052576        </td><td>p                </td><td>midsize          </td></tr>\n",
       "\t<tr><td>volkswagen       </td><td>passat           </td><td>3.6              </td><td>2008             </td><td>6                </td><td>auto(s6)         </td><td>f                </td><td> 7.226684        </td><td>11.052576        </td><td>p                </td><td>midsize          </td></tr>\n",
       "</tbody>\n",
       "</table>\n"
      ],
      "text/latex": [
       "\\begin{tabular}{r|lllllllllll}\n",
       " manufacturer & model & displ & year & cyl & trans & drv & cty & hwy & fl & class\\\\\n",
       "\\hline\n",
       "\t audi               & a4                 & 1.8                & 1999               & 4                  & auto(l5)           & f                  & 7.651783           & 12.327873          & p                  & compact           \\\\\n",
       "\t audi               & a4                 & 1.8                & 1999               & 4                  & manual(m5)         & f                  & 8.927081           & 12.327873          & p                  & compact           \\\\\n",
       "\t audi               & a4                 & 2.0                & 2008               & 4                  & manual(m6)         & f                  & 8.501982           & 13.178071          & p                  & compact           \\\\\n",
       "\t audi               & a4                 & 2.0                & 2008               & 4                  & auto(av)           & f                  & 8.927081           & 12.752972          & p                  & compact           \\\\\n",
       "\t audi               & a4                 & 2.8                & 1999               & 6                  & auto(l5)           & f                  & 6.801585           & 11.052576          & p                  & compact           \\\\\n",
       "\t audi               & a4                 & 2.8                & 1999               & 6                  & manual(m5)         & f                  & 7.651783           & 11.052576          & p                  & compact           \\\\\n",
       "\t audi               & a4                 & 3.1                & 2008               & 6                  & auto(av)           & f                  & 7.651783           & 11.477675          & p                  & compact           \\\\\n",
       "\t audi               & a4 quattro         & 1.8                & 1999               & 4                  & manual(m5)         & 4                  & 7.651783           & 11.052576          & p                  & compact           \\\\\n",
       "\t audi               & a4 quattro         & 1.8                & 1999               & 4                  & auto(l5)           & 4                  & 6.801585           & 10.627477          & p                  & compact           \\\\\n",
       "\t audi               & a4 quattro         & 2.0                & 2008               & 4                  & manual(m6)         & 4                  & 8.501982           & 11.902774          & p                  & compact           \\\\\n",
       "\t audi               & a4 quattro         & 2.0                & 2008               & 4                  & auto(s6)           & 4                  & 8.076882           & 11.477675          & p                  & compact           \\\\\n",
       "\t audi               & a4 quattro         & 2.8                & 1999               & 6                  & auto(l5)           & 4                  & 6.376486           & 10.627477          & p                  & compact           \\\\\n",
       "\t audi               & a4 quattro         & 2.8                & 1999               & 6                  & manual(m5)         & 4                  & 7.226684           & 10.627477          & p                  & compact           \\\\\n",
       "\t audi               & a4 quattro         & 3.1                & 2008               & 6                  & auto(s6)           & 4                  & 7.226684           & 10.627477          & p                  & compact           \\\\\n",
       "\t audi               & a4 quattro         & 3.1                & 2008               & 6                  & manual(m6)         & 4                  & 6.376486           & 10.627477          & p                  & compact           \\\\\n",
       "\t audi               & a6 quattro         & 2.8                & 1999               & 6                  & auto(l5)           & 4                  & 6.376486           & 10.202378          & p                  & midsize           \\\\\n",
       "\t audi               & a6 quattro         & 3.1                & 2008               & 6                  & auto(s6)           & 4                  & 7.226684           & 10.627477          & p                  & midsize           \\\\\n",
       "\t audi               & a6 quattro         & 4.2                & 2008               & 8                  & auto(s6)           & 4                  & 6.801585           &  9.777279          & p                  & midsize           \\\\\n",
       "\t chevrolet          & c1500 suburban 2wd & 5.3                & 2008               & 8                  & auto(l4)           & r                  & 5.951387           &  8.501982          & r                  & suv               \\\\\n",
       "\t chevrolet          & c1500 suburban 2wd & 5.3                & 2008               & 8                  & auto(l4)           & r                  & 4.676090           &  6.376486          & e                  & suv               \\\\\n",
       "\t chevrolet          & c1500 suburban 2wd & 5.3                & 2008               & 8                  & auto(l4)           & r                  & 5.951387           &  8.501982          & r                  & suv               \\\\\n",
       "\t chevrolet          & c1500 suburban 2wd & 5.7                & 1999               & 8                  & auto(l4)           & r                  & 5.526288           &  7.226684          & r                  & suv               \\\\\n",
       "\t chevrolet          & c1500 suburban 2wd & 6.0                & 2008               & 8                  & auto(l4)           & r                  & 5.101189           &  7.226684          & r                  & suv               \\\\\n",
       "\t chevrolet          & corvette           & 5.7                & 1999               & 8                  & manual(m6)         & r                  & 6.801585           & 11.052576          & p                  & 2seater           \\\\\n",
       "\t chevrolet          & corvette           & 5.7                & 1999               & 8                  & auto(l4)           & r                  & 6.376486           &  9.777279          & p                  & 2seater           \\\\\n",
       "\t chevrolet          & corvette           & 6.2                & 2008               & 8                  & manual(m6)         & r                  & 6.801585           & 11.052576          & p                  & 2seater           \\\\\n",
       "\t chevrolet          & corvette           & 6.2                & 2008               & 8                  & auto(s6)           & r                  & 6.376486           & 10.627477          & p                  & 2seater           \\\\\n",
       "\t chevrolet          & corvette           & 7.0                & 2008               & 8                  & manual(m6)         & r                  & 6.376486           & 10.202378          & p                  & 2seater           \\\\\n",
       "\t chevrolet          & k1500 tahoe 4wd    & 5.3                & 2008               & 8                  & auto(l4)           & 4                  & 5.951387           &  8.076882          & r                  & suv               \\\\\n",
       "\t chevrolet          & k1500 tahoe 4wd    & 5.3                & 2008               & 8                  & auto(l4)           & 4                  & 4.676090           &  5.951387          & e                  & suv               \\\\\n",
       "\t ... & ... & ... & ... & ... & ... & ... & ... & ... & ... & ...\\\\\n",
       "\t toyota            & toyota tacoma 4wd & 3.4               & 1999              & 6                 & auto(l4)          & 4                 &  6.376486         &  8.076882         & r                 & pickup           \\\\\n",
       "\t toyota            & toyota tacoma 4wd & 4.0               & 2008              & 6                 & manual(m6)        & 4                 &  6.376486         &  7.651783         & r                 & pickup           \\\\\n",
       "\t toyota            & toyota tacoma 4wd & 4.0               & 2008              & 6                 & auto(l5)          & 4                 &  6.801585         &  8.501982         & r                 & pickup           \\\\\n",
       "\t volkswagen        & gti               & 2.0               & 1999              & 4                 & manual(m5)        & f                 &  8.927081         & 12.327873         & r                 & compact          \\\\\n",
       "\t volkswagen        & gti               & 2.0               & 1999              & 4                 & auto(l4)          & f                 &  8.076882         & 11.052576         & r                 & compact          \\\\\n",
       "\t volkswagen        & gti               & 2.0               & 2008              & 4                 & manual(m6)        & f                 &  8.927081         & 12.327873         & p                 & compact          \\\\\n",
       "\t volkswagen        & gti               & 2.0               & 2008              & 4                 & auto(s6)          & f                 &  9.352180         & 12.327873         & p                 & compact          \\\\\n",
       "\t volkswagen        & gti               & 2.8               & 1999              & 6                 & manual(m5)        & f                 &  7.226684         & 10.202378         & r                 & compact          \\\\\n",
       "\t volkswagen        & jetta             & 1.9               & 1999              & 4                 & manual(m5)        & f                 & 14.028269         & 18.704359         & d                 & compact          \\\\\n",
       "\t volkswagen        & jetta             & 2.0               & 1999              & 4                 & manual(m5)        & f                 &  8.927081         & 12.327873         & r                 & compact          \\\\\n",
       "\t volkswagen        & jetta             & 2.0               & 1999              & 4                 & auto(l4)          & f                 &  8.076882         & 11.052576         & r                 & compact          \\\\\n",
       "\t volkswagen        & jetta             & 2.0               & 2008              & 4                 & auto(s6)          & f                 &  9.352180         & 12.327873         & p                 & compact          \\\\\n",
       "\t volkswagen        & jetta             & 2.0               & 2008              & 4                 & manual(m6)        & f                 &  8.927081         & 12.327873         & p                 & compact          \\\\\n",
       "\t volkswagen        & jetta             & 2.5               & 2008              & 5                 & auto(s6)          & f                 &  8.927081         & 12.327873         & r                 & compact          \\\\\n",
       "\t volkswagen        & jetta             & 2.5               & 2008              & 5                 & manual(m5)        & f                 &  8.927081         & 12.327873         & r                 & compact          \\\\\n",
       "\t volkswagen        & jetta             & 2.8               & 1999              & 6                 & auto(l4)          & f                 &  6.801585         &  9.777279         & r                 & compact          \\\\\n",
       "\t volkswagen        & jetta             & 2.8               & 1999              & 6                 & manual(m5)        & f                 &  7.226684         & 10.202378         & r                 & compact          \\\\\n",
       "\t volkswagen        & new beetle        & 1.9               & 1999              & 4                 & manual(m5)        & f                 & 14.878468         & 18.704359         & d                 & subcompact       \\\\\n",
       "\t volkswagen        & new beetle        & 1.9               & 1999              & 4                 & auto(l4)          & f                 & 12.327873         & 17.429062         & d                 & subcompact       \\\\\n",
       "\t volkswagen        & new beetle        & 2.0               & 1999              & 4                 & manual(m5)        & f                 &  8.927081         & 12.327873         & r                 & subcompact       \\\\\n",
       "\t volkswagen        & new beetle        & 2.0               & 1999              & 4                 & auto(l4)          & f                 &  8.076882         & 11.052576         & r                 & subcompact       \\\\\n",
       "\t volkswagen        & new beetle        & 2.5               & 2008              & 5                 & manual(m5)        & f                 &  8.501982         & 11.902774         & r                 & subcompact       \\\\\n",
       "\t volkswagen        & new beetle        & 2.5               & 2008              & 5                 & auto(s6)          & f                 &  8.501982         & 12.327873         & r                 & subcompact       \\\\\n",
       "\t volkswagen        & passat            & 1.8               & 1999              & 4                 & manual(m5)        & f                 &  8.927081         & 12.327873         & p                 & midsize          \\\\\n",
       "\t volkswagen        & passat            & 1.8               & 1999              & 4                 & auto(l5)          & f                 &  7.651783         & 12.327873         & p                 & midsize          \\\\\n",
       "\t volkswagen        & passat            & 2.0               & 2008              & 4                 & auto(s6)          & f                 &  8.076882         & 11.902774         & p                 & midsize          \\\\\n",
       "\t volkswagen        & passat            & 2.0               & 2008              & 4                 & manual(m6)        & f                 &  8.927081         & 12.327873         & p                 & midsize          \\\\\n",
       "\t volkswagen        & passat            & 2.8               & 1999              & 6                 & auto(l5)          & f                 &  6.801585         & 11.052576         & p                 & midsize          \\\\\n",
       "\t volkswagen        & passat            & 2.8               & 1999              & 6                 & manual(m5)        & f                 &  7.651783         & 11.052576         & p                 & midsize          \\\\\n",
       "\t volkswagen        & passat            & 3.6               & 2008              & 6                 & auto(s6)          & f                 &  7.226684         & 11.052576         & p                 & midsize          \\\\\n",
       "\\end{tabular}\n"
      ],
      "text/markdown": [
       "\n",
       "| manufacturer | model | displ | year | cyl | trans | drv | cty | hwy | fl | class |\n",
       "|---|---|---|---|---|---|---|---|---|---|---|\n",
       "| audi               | a4                 | 1.8                | 1999               | 4                  | auto(l5)           | f                  | 7.651783           | 12.327873          | p                  | compact            |\n",
       "| audi               | a4                 | 1.8                | 1999               | 4                  | manual(m5)         | f                  | 8.927081           | 12.327873          | p                  | compact            |\n",
       "| audi               | a4                 | 2.0                | 2008               | 4                  | manual(m6)         | f                  | 8.501982           | 13.178071          | p                  | compact            |\n",
       "| audi               | a4                 | 2.0                | 2008               | 4                  | auto(av)           | f                  | 8.927081           | 12.752972          | p                  | compact            |\n",
       "| audi               | a4                 | 2.8                | 1999               | 6                  | auto(l5)           | f                  | 6.801585           | 11.052576          | p                  | compact            |\n",
       "| audi               | a4                 | 2.8                | 1999               | 6                  | manual(m5)         | f                  | 7.651783           | 11.052576          | p                  | compact            |\n",
       "| audi               | a4                 | 3.1                | 2008               | 6                  | auto(av)           | f                  | 7.651783           | 11.477675          | p                  | compact            |\n",
       "| audi               | a4 quattro         | 1.8                | 1999               | 4                  | manual(m5)         | 4                  | 7.651783           | 11.052576          | p                  | compact            |\n",
       "| audi               | a4 quattro         | 1.8                | 1999               | 4                  | auto(l5)           | 4                  | 6.801585           | 10.627477          | p                  | compact            |\n",
       "| audi               | a4 quattro         | 2.0                | 2008               | 4                  | manual(m6)         | 4                  | 8.501982           | 11.902774          | p                  | compact            |\n",
       "| audi               | a4 quattro         | 2.0                | 2008               | 4                  | auto(s6)           | 4                  | 8.076882           | 11.477675          | p                  | compact            |\n",
       "| audi               | a4 quattro         | 2.8                | 1999               | 6                  | auto(l5)           | 4                  | 6.376486           | 10.627477          | p                  | compact            |\n",
       "| audi               | a4 quattro         | 2.8                | 1999               | 6                  | manual(m5)         | 4                  | 7.226684           | 10.627477          | p                  | compact            |\n",
       "| audi               | a4 quattro         | 3.1                | 2008               | 6                  | auto(s6)           | 4                  | 7.226684           | 10.627477          | p                  | compact            |\n",
       "| audi               | a4 quattro         | 3.1                | 2008               | 6                  | manual(m6)         | 4                  | 6.376486           | 10.627477          | p                  | compact            |\n",
       "| audi               | a6 quattro         | 2.8                | 1999               | 6                  | auto(l5)           | 4                  | 6.376486           | 10.202378          | p                  | midsize            |\n",
       "| audi               | a6 quattro         | 3.1                | 2008               | 6                  | auto(s6)           | 4                  | 7.226684           | 10.627477          | p                  | midsize            |\n",
       "| audi               | a6 quattro         | 4.2                | 2008               | 8                  | auto(s6)           | 4                  | 6.801585           |  9.777279          | p                  | midsize            |\n",
       "| chevrolet          | c1500 suburban 2wd | 5.3                | 2008               | 8                  | auto(l4)           | r                  | 5.951387           |  8.501982          | r                  | suv                |\n",
       "| chevrolet          | c1500 suburban 2wd | 5.3                | 2008               | 8                  | auto(l4)           | r                  | 4.676090           |  6.376486          | e                  | suv                |\n",
       "| chevrolet          | c1500 suburban 2wd | 5.3                | 2008               | 8                  | auto(l4)           | r                  | 5.951387           |  8.501982          | r                  | suv                |\n",
       "| chevrolet          | c1500 suburban 2wd | 5.7                | 1999               | 8                  | auto(l4)           | r                  | 5.526288           |  7.226684          | r                  | suv                |\n",
       "| chevrolet          | c1500 suburban 2wd | 6.0                | 2008               | 8                  | auto(l4)           | r                  | 5.101189           |  7.226684          | r                  | suv                |\n",
       "| chevrolet          | corvette           | 5.7                | 1999               | 8                  | manual(m6)         | r                  | 6.801585           | 11.052576          | p                  | 2seater            |\n",
       "| chevrolet          | corvette           | 5.7                | 1999               | 8                  | auto(l4)           | r                  | 6.376486           |  9.777279          | p                  | 2seater            |\n",
       "| chevrolet          | corvette           | 6.2                | 2008               | 8                  | manual(m6)         | r                  | 6.801585           | 11.052576          | p                  | 2seater            |\n",
       "| chevrolet          | corvette           | 6.2                | 2008               | 8                  | auto(s6)           | r                  | 6.376486           | 10.627477          | p                  | 2seater            |\n",
       "| chevrolet          | corvette           | 7.0                | 2008               | 8                  | manual(m6)         | r                  | 6.376486           | 10.202378          | p                  | 2seater            |\n",
       "| chevrolet          | k1500 tahoe 4wd    | 5.3                | 2008               | 8                  | auto(l4)           | 4                  | 5.951387           |  8.076882          | r                  | suv                |\n",
       "| chevrolet          | k1500 tahoe 4wd    | 5.3                | 2008               | 8                  | auto(l4)           | 4                  | 4.676090           |  5.951387          | e                  | suv                |\n",
       "| ... | ... | ... | ... | ... | ... | ... | ... | ... | ... | ... |\n",
       "| toyota            | toyota tacoma 4wd | 3.4               | 1999              | 6                 | auto(l4)          | 4                 |  6.376486         |  8.076882         | r                 | pickup            |\n",
       "| toyota            | toyota tacoma 4wd | 4.0               | 2008              | 6                 | manual(m6)        | 4                 |  6.376486         |  7.651783         | r                 | pickup            |\n",
       "| toyota            | toyota tacoma 4wd | 4.0               | 2008              | 6                 | auto(l5)          | 4                 |  6.801585         |  8.501982         | r                 | pickup            |\n",
       "| volkswagen        | gti               | 2.0               | 1999              | 4                 | manual(m5)        | f                 |  8.927081         | 12.327873         | r                 | compact           |\n",
       "| volkswagen        | gti               | 2.0               | 1999              | 4                 | auto(l4)          | f                 |  8.076882         | 11.052576         | r                 | compact           |\n",
       "| volkswagen        | gti               | 2.0               | 2008              | 4                 | manual(m6)        | f                 |  8.927081         | 12.327873         | p                 | compact           |\n",
       "| volkswagen        | gti               | 2.0               | 2008              | 4                 | auto(s6)          | f                 |  9.352180         | 12.327873         | p                 | compact           |\n",
       "| volkswagen        | gti               | 2.8               | 1999              | 6                 | manual(m5)        | f                 |  7.226684         | 10.202378         | r                 | compact           |\n",
       "| volkswagen        | jetta             | 1.9               | 1999              | 4                 | manual(m5)        | f                 | 14.028269         | 18.704359         | d                 | compact           |\n",
       "| volkswagen        | jetta             | 2.0               | 1999              | 4                 | manual(m5)        | f                 |  8.927081         | 12.327873         | r                 | compact           |\n",
       "| volkswagen        | jetta             | 2.0               | 1999              | 4                 | auto(l4)          | f                 |  8.076882         | 11.052576         | r                 | compact           |\n",
       "| volkswagen        | jetta             | 2.0               | 2008              | 4                 | auto(s6)          | f                 |  9.352180         | 12.327873         | p                 | compact           |\n",
       "| volkswagen        | jetta             | 2.0               | 2008              | 4                 | manual(m6)        | f                 |  8.927081         | 12.327873         | p                 | compact           |\n",
       "| volkswagen        | jetta             | 2.5               | 2008              | 5                 | auto(s6)          | f                 |  8.927081         | 12.327873         | r                 | compact           |\n",
       "| volkswagen        | jetta             | 2.5               | 2008              | 5                 | manual(m5)        | f                 |  8.927081         | 12.327873         | r                 | compact           |\n",
       "| volkswagen        | jetta             | 2.8               | 1999              | 6                 | auto(l4)          | f                 |  6.801585         |  9.777279         | r                 | compact           |\n",
       "| volkswagen        | jetta             | 2.8               | 1999              | 6                 | manual(m5)        | f                 |  7.226684         | 10.202378         | r                 | compact           |\n",
       "| volkswagen        | new beetle        | 1.9               | 1999              | 4                 | manual(m5)        | f                 | 14.878468         | 18.704359         | d                 | subcompact        |\n",
       "| volkswagen        | new beetle        | 1.9               | 1999              | 4                 | auto(l4)          | f                 | 12.327873         | 17.429062         | d                 | subcompact        |\n",
       "| volkswagen        | new beetle        | 2.0               | 1999              | 4                 | manual(m5)        | f                 |  8.927081         | 12.327873         | r                 | subcompact        |\n",
       "| volkswagen        | new beetle        | 2.0               | 1999              | 4                 | auto(l4)          | f                 |  8.076882         | 11.052576         | r                 | subcompact        |\n",
       "| volkswagen        | new beetle        | 2.5               | 2008              | 5                 | manual(m5)        | f                 |  8.501982         | 11.902774         | r                 | subcompact        |\n",
       "| volkswagen        | new beetle        | 2.5               | 2008              | 5                 | auto(s6)          | f                 |  8.501982         | 12.327873         | r                 | subcompact        |\n",
       "| volkswagen        | passat            | 1.8               | 1999              | 4                 | manual(m5)        | f                 |  8.927081         | 12.327873         | p                 | midsize           |\n",
       "| volkswagen        | passat            | 1.8               | 1999              | 4                 | auto(l5)          | f                 |  7.651783         | 12.327873         | p                 | midsize           |\n",
       "| volkswagen        | passat            | 2.0               | 2008              | 4                 | auto(s6)          | f                 |  8.076882         | 11.902774         | p                 | midsize           |\n",
       "| volkswagen        | passat            | 2.0               | 2008              | 4                 | manual(m6)        | f                 |  8.927081         | 12.327873         | p                 | midsize           |\n",
       "| volkswagen        | passat            | 2.8               | 1999              | 6                 | auto(l5)          | f                 |  6.801585         | 11.052576         | p                 | midsize           |\n",
       "| volkswagen        | passat            | 2.8               | 1999              | 6                 | manual(m5)        | f                 |  7.651783         | 11.052576         | p                 | midsize           |\n",
       "| volkswagen        | passat            | 3.6               | 2008              | 6                 | auto(s6)          | f                 |  7.226684         | 11.052576         | p                 | midsize           |\n",
       "\n"
      ],
      "text/plain": [
       "    manufacturer model              displ year cyl trans      drv cty      \n",
       "1   audi         a4                 1.8   1999 4   auto(l5)   f   7.651783 \n",
       "2   audi         a4                 1.8   1999 4   manual(m5) f   8.927081 \n",
       "3   audi         a4                 2.0   2008 4   manual(m6) f   8.501982 \n",
       "4   audi         a4                 2.0   2008 4   auto(av)   f   8.927081 \n",
       "5   audi         a4                 2.8   1999 6   auto(l5)   f   6.801585 \n",
       "6   audi         a4                 2.8   1999 6   manual(m5) f   7.651783 \n",
       "7   audi         a4                 3.1   2008 6   auto(av)   f   7.651783 \n",
       "8   audi         a4 quattro         1.8   1999 4   manual(m5) 4   7.651783 \n",
       "9   audi         a4 quattro         1.8   1999 4   auto(l5)   4   6.801585 \n",
       "10  audi         a4 quattro         2.0   2008 4   manual(m6) 4   8.501982 \n",
       "11  audi         a4 quattro         2.0   2008 4   auto(s6)   4   8.076882 \n",
       "12  audi         a4 quattro         2.8   1999 6   auto(l5)   4   6.376486 \n",
       "13  audi         a4 quattro         2.8   1999 6   manual(m5) 4   7.226684 \n",
       "14  audi         a4 quattro         3.1   2008 6   auto(s6)   4   7.226684 \n",
       "15  audi         a4 quattro         3.1   2008 6   manual(m6) 4   6.376486 \n",
       "16  audi         a6 quattro         2.8   1999 6   auto(l5)   4   6.376486 \n",
       "17  audi         a6 quattro         3.1   2008 6   auto(s6)   4   7.226684 \n",
       "18  audi         a6 quattro         4.2   2008 8   auto(s6)   4   6.801585 \n",
       "19  chevrolet    c1500 suburban 2wd 5.3   2008 8   auto(l4)   r   5.951387 \n",
       "20  chevrolet    c1500 suburban 2wd 5.3   2008 8   auto(l4)   r   4.676090 \n",
       "21  chevrolet    c1500 suburban 2wd 5.3   2008 8   auto(l4)   r   5.951387 \n",
       "22  chevrolet    c1500 suburban 2wd 5.7   1999 8   auto(l4)   r   5.526288 \n",
       "23  chevrolet    c1500 suburban 2wd 6.0   2008 8   auto(l4)   r   5.101189 \n",
       "24  chevrolet    corvette           5.7   1999 8   manual(m6) r   6.801585 \n",
       "25  chevrolet    corvette           5.7   1999 8   auto(l4)   r   6.376486 \n",
       "26  chevrolet    corvette           6.2   2008 8   manual(m6) r   6.801585 \n",
       "27  chevrolet    corvette           6.2   2008 8   auto(s6)   r   6.376486 \n",
       "28  chevrolet    corvette           7.0   2008 8   manual(m6) r   6.376486 \n",
       "29  chevrolet    k1500 tahoe 4wd    5.3   2008 8   auto(l4)   4   5.951387 \n",
       "30  chevrolet    k1500 tahoe 4wd    5.3   2008 8   auto(l4)   4   4.676090 \n",
       "... ...          ...                ...   ...  ... ...        ... ...      \n",
       "205 toyota       toyota tacoma 4wd  3.4   1999 6   auto(l4)   4    6.376486\n",
       "206 toyota       toyota tacoma 4wd  4.0   2008 6   manual(m6) 4    6.376486\n",
       "207 toyota       toyota tacoma 4wd  4.0   2008 6   auto(l5)   4    6.801585\n",
       "208 volkswagen   gti                2.0   1999 4   manual(m5) f    8.927081\n",
       "209 volkswagen   gti                2.0   1999 4   auto(l4)   f    8.076882\n",
       "210 volkswagen   gti                2.0   2008 4   manual(m6) f    8.927081\n",
       "211 volkswagen   gti                2.0   2008 4   auto(s6)   f    9.352180\n",
       "212 volkswagen   gti                2.8   1999 6   manual(m5) f    7.226684\n",
       "213 volkswagen   jetta              1.9   1999 4   manual(m5) f   14.028269\n",
       "214 volkswagen   jetta              2.0   1999 4   manual(m5) f    8.927081\n",
       "215 volkswagen   jetta              2.0   1999 4   auto(l4)   f    8.076882\n",
       "216 volkswagen   jetta              2.0   2008 4   auto(s6)   f    9.352180\n",
       "217 volkswagen   jetta              2.0   2008 4   manual(m6) f    8.927081\n",
       "218 volkswagen   jetta              2.5   2008 5   auto(s6)   f    8.927081\n",
       "219 volkswagen   jetta              2.5   2008 5   manual(m5) f    8.927081\n",
       "220 volkswagen   jetta              2.8   1999 6   auto(l4)   f    6.801585\n",
       "221 volkswagen   jetta              2.8   1999 6   manual(m5) f    7.226684\n",
       "222 volkswagen   new beetle         1.9   1999 4   manual(m5) f   14.878468\n",
       "223 volkswagen   new beetle         1.9   1999 4   auto(l4)   f   12.327873\n",
       "224 volkswagen   new beetle         2.0   1999 4   manual(m5) f    8.927081\n",
       "225 volkswagen   new beetle         2.0   1999 4   auto(l4)   f    8.076882\n",
       "226 volkswagen   new beetle         2.5   2008 5   manual(m5) f    8.501982\n",
       "227 volkswagen   new beetle         2.5   2008 5   auto(s6)   f    8.501982\n",
       "228 volkswagen   passat             1.8   1999 4   manual(m5) f    8.927081\n",
       "229 volkswagen   passat             1.8   1999 4   auto(l5)   f    7.651783\n",
       "230 volkswagen   passat             2.0   2008 4   auto(s6)   f    8.076882\n",
       "231 volkswagen   passat             2.0   2008 4   manual(m6) f    8.927081\n",
       "232 volkswagen   passat             2.8   1999 6   auto(l5)   f    6.801585\n",
       "233 volkswagen   passat             2.8   1999 6   manual(m5) f    7.651783\n",
       "234 volkswagen   passat             3.6   2008 6   auto(s6)   f    7.226684\n",
       "    hwy       fl  class     \n",
       "1   12.327873 p   compact   \n",
       "2   12.327873 p   compact   \n",
       "3   13.178071 p   compact   \n",
       "4   12.752972 p   compact   \n",
       "5   11.052576 p   compact   \n",
       "6   11.052576 p   compact   \n",
       "7   11.477675 p   compact   \n",
       "8   11.052576 p   compact   \n",
       "9   10.627477 p   compact   \n",
       "10  11.902774 p   compact   \n",
       "11  11.477675 p   compact   \n",
       "12  10.627477 p   compact   \n",
       "13  10.627477 p   compact   \n",
       "14  10.627477 p   compact   \n",
       "15  10.627477 p   compact   \n",
       "16  10.202378 p   midsize   \n",
       "17  10.627477 p   midsize   \n",
       "18   9.777279 p   midsize   \n",
       "19   8.501982 r   suv       \n",
       "20   6.376486 e   suv       \n",
       "21   8.501982 r   suv       \n",
       "22   7.226684 r   suv       \n",
       "23   7.226684 r   suv       \n",
       "24  11.052576 p   2seater   \n",
       "25   9.777279 p   2seater   \n",
       "26  11.052576 p   2seater   \n",
       "27  10.627477 p   2seater   \n",
       "28  10.202378 p   2seater   \n",
       "29   8.076882 r   suv       \n",
       "30   5.951387 e   suv       \n",
       "... ...       ... ...       \n",
       "205  8.076882 r   pickup    \n",
       "206  7.651783 r   pickup    \n",
       "207  8.501982 r   pickup    \n",
       "208 12.327873 r   compact   \n",
       "209 11.052576 r   compact   \n",
       "210 12.327873 p   compact   \n",
       "211 12.327873 p   compact   \n",
       "212 10.202378 r   compact   \n",
       "213 18.704359 d   compact   \n",
       "214 12.327873 r   compact   \n",
       "215 11.052576 r   compact   \n",
       "216 12.327873 p   compact   \n",
       "217 12.327873 p   compact   \n",
       "218 12.327873 r   compact   \n",
       "219 12.327873 r   compact   \n",
       "220  9.777279 r   compact   \n",
       "221 10.202378 r   compact   \n",
       "222 18.704359 d   subcompact\n",
       "223 17.429062 d   subcompact\n",
       "224 12.327873 r   subcompact\n",
       "225 11.052576 r   subcompact\n",
       "226 11.902774 r   subcompact\n",
       "227 12.327873 r   subcompact\n",
       "228 12.327873 p   midsize   \n",
       "229 12.327873 p   midsize   \n",
       "230 11.902774 p   midsize   \n",
       "231 12.327873 p   midsize   \n",
       "232 11.052576 p   midsize   \n",
       "233 11.052576 p   midsize   \n",
       "234 11.052576 p   midsize   "
      ]
     },
     "metadata": {},
     "output_type": "display_data"
    }
   ],
   "source": [
    "mpg %>%\n",
    "  mutate(\n",
    "      cty = cty * 1.609 / 3.785,\n",
    "      hwy = hwy * 1.609 / 3.785,\n",
    "      manufacturer = as_factor(manufacturer),\n",
    "      model = as_factor(model),\n",
    "\n",
    "  )"
   ]
  },
  {
   "cell_type": "code",
   "execution_count": 5,
   "id": "ce894926-b4f9-4e4b-a03e-ff32c5746209",
   "metadata": {},
   "outputs": [
    {
     "data": {
      "text/html": [
       "<table>\n",
       "<thead><tr><th scope=col>manufacturer</th><th scope=col>model</th><th scope=col>displ</th><th scope=col>year</th><th scope=col>cyl</th><th scope=col>trans</th><th scope=col>drv</th><th scope=col>cty</th><th scope=col>hwy</th><th scope=col>fl</th><th scope=col>class</th></tr></thead>\n",
       "<tbody>\n",
       "\t<tr><td>audi              </td><td>a4                </td><td>1.8               </td><td>1999              </td><td>4                 </td><td>auto(l5)          </td><td>f                 </td><td>18                </td><td>29                </td><td>p                 </td><td>compact           </td></tr>\n",
       "\t<tr><td>audi              </td><td>a4                </td><td>1.8               </td><td>1999              </td><td>4                 </td><td>manual(m5)        </td><td>f                 </td><td>21                </td><td>29                </td><td>p                 </td><td>compact           </td></tr>\n",
       "\t<tr><td>audi              </td><td>a4                </td><td>2.0               </td><td>2008              </td><td>4                 </td><td>manual(m6)        </td><td>f                 </td><td>20                </td><td>31                </td><td>p                 </td><td>compact           </td></tr>\n",
       "\t<tr><td>audi              </td><td>a4                </td><td>2.0               </td><td>2008              </td><td>4                 </td><td>auto(av)          </td><td>f                 </td><td>21                </td><td>30                </td><td>p                 </td><td>compact           </td></tr>\n",
       "\t<tr><td>audi              </td><td>a4                </td><td>2.8               </td><td>1999              </td><td>6                 </td><td>auto(l5)          </td><td>f                 </td><td>16                </td><td>26                </td><td>p                 </td><td>compact           </td></tr>\n",
       "\t<tr><td>audi              </td><td>a4                </td><td>2.8               </td><td>1999              </td><td>6                 </td><td>manual(m5)        </td><td>f                 </td><td>18                </td><td>26                </td><td>p                 </td><td>compact           </td></tr>\n",
       "\t<tr><td>audi              </td><td>a4                </td><td>3.1               </td><td>2008              </td><td>6                 </td><td>auto(av)          </td><td>f                 </td><td>18                </td><td>27                </td><td>p                 </td><td>compact           </td></tr>\n",
       "\t<tr><td>audi              </td><td>a4 quattro        </td><td>1.8               </td><td>1999              </td><td>4                 </td><td>manual(m5)        </td><td>4                 </td><td>18                </td><td>26                </td><td>p                 </td><td>compact           </td></tr>\n",
       "\t<tr><td>audi              </td><td>a4 quattro        </td><td>1.8               </td><td>1999              </td><td>4                 </td><td>auto(l5)          </td><td>4                 </td><td>16                </td><td>25                </td><td>p                 </td><td>compact           </td></tr>\n",
       "\t<tr><td>audi              </td><td>a4 quattro        </td><td>2.0               </td><td>2008              </td><td>4                 </td><td>manual(m6)        </td><td>4                 </td><td>20                </td><td>28                </td><td>p                 </td><td>compact           </td></tr>\n",
       "\t<tr><td>audi              </td><td>a4 quattro        </td><td>2.0               </td><td>2008              </td><td>4                 </td><td>auto(s6)          </td><td>4                 </td><td>19                </td><td>27                </td><td>p                 </td><td>compact           </td></tr>\n",
       "\t<tr><td>audi              </td><td>a4 quattro        </td><td>2.8               </td><td>1999              </td><td>6                 </td><td>auto(l5)          </td><td>4                 </td><td>15                </td><td>25                </td><td>p                 </td><td>compact           </td></tr>\n",
       "\t<tr><td>audi              </td><td>a4 quattro        </td><td>2.8               </td><td>1999              </td><td>6                 </td><td>manual(m5)        </td><td>4                 </td><td>17                </td><td>25                </td><td>p                 </td><td>compact           </td></tr>\n",
       "\t<tr><td>audi              </td><td>a4 quattro        </td><td>3.1               </td><td>2008              </td><td>6                 </td><td>auto(s6)          </td><td>4                 </td><td>17                </td><td>25                </td><td>p                 </td><td>compact           </td></tr>\n",
       "\t<tr><td>audi              </td><td>a4 quattro        </td><td>3.1               </td><td>2008              </td><td>6                 </td><td>manual(m6)        </td><td>4                 </td><td>15                </td><td>25                </td><td>p                 </td><td>compact           </td></tr>\n",
       "\t<tr><td>audi              </td><td>a6 quattro        </td><td>2.8               </td><td>1999              </td><td>6                 </td><td>auto(l5)          </td><td>4                 </td><td>15                </td><td>24                </td><td>p                 </td><td>midsize           </td></tr>\n",
       "\t<tr><td>audi              </td><td>a6 quattro        </td><td>3.1               </td><td>2008              </td><td>6                 </td><td>auto(s6)          </td><td>4                 </td><td>17                </td><td>25                </td><td>p                 </td><td>midsize           </td></tr>\n",
       "\t<tr><td>audi              </td><td>a6 quattro        </td><td>4.2               </td><td>2008              </td><td>8                 </td><td>auto(s6)          </td><td>4                 </td><td>16                </td><td>23                </td><td>p                 </td><td>midsize           </td></tr>\n",
       "\t<tr><td>chevrolet         </td><td>c1500 suburban 2wd</td><td>5.3               </td><td>2008              </td><td>8                 </td><td>auto(l4)          </td><td>r                 </td><td>14                </td><td>20                </td><td>r                 </td><td>suv               </td></tr>\n",
       "\t<tr><td>chevrolet         </td><td>c1500 suburban 2wd</td><td>5.3               </td><td>2008              </td><td>8                 </td><td>auto(l4)          </td><td>r                 </td><td>11                </td><td>15                </td><td>e                 </td><td>suv               </td></tr>\n",
       "\t<tr><td>chevrolet         </td><td>c1500 suburban 2wd</td><td>5.3               </td><td>2008              </td><td>8                 </td><td>auto(l4)          </td><td>r                 </td><td>14                </td><td>20                </td><td>r                 </td><td>suv               </td></tr>\n",
       "\t<tr><td>chevrolet         </td><td>c1500 suburban 2wd</td><td>5.7               </td><td>1999              </td><td>8                 </td><td>auto(l4)          </td><td>r                 </td><td>13                </td><td>17                </td><td>r                 </td><td>suv               </td></tr>\n",
       "\t<tr><td>chevrolet         </td><td>c1500 suburban 2wd</td><td>6.0               </td><td>2008              </td><td>8                 </td><td>auto(l4)          </td><td>r                 </td><td>12                </td><td>17                </td><td>r                 </td><td>suv               </td></tr>\n",
       "\t<tr><td>chevrolet         </td><td>corvette          </td><td>5.7               </td><td>1999              </td><td>8                 </td><td>manual(m6)        </td><td>r                 </td><td>16                </td><td>26                </td><td>p                 </td><td>2seater           </td></tr>\n",
       "\t<tr><td>chevrolet         </td><td>corvette          </td><td>5.7               </td><td>1999              </td><td>8                 </td><td>auto(l4)          </td><td>r                 </td><td>15                </td><td>23                </td><td>p                 </td><td>2seater           </td></tr>\n",
       "\t<tr><td>chevrolet         </td><td>corvette          </td><td>6.2               </td><td>2008              </td><td>8                 </td><td>manual(m6)        </td><td>r                 </td><td>16                </td><td>26                </td><td>p                 </td><td>2seater           </td></tr>\n",
       "\t<tr><td>chevrolet         </td><td>corvette          </td><td>6.2               </td><td>2008              </td><td>8                 </td><td>auto(s6)          </td><td>r                 </td><td>15                </td><td>25                </td><td>p                 </td><td>2seater           </td></tr>\n",
       "\t<tr><td>chevrolet         </td><td>corvette          </td><td>7.0               </td><td>2008              </td><td>8                 </td><td>manual(m6)        </td><td>r                 </td><td>15                </td><td>24                </td><td>p                 </td><td>2seater           </td></tr>\n",
       "\t<tr><td>chevrolet         </td><td>k1500 tahoe 4wd   </td><td>5.3               </td><td>2008              </td><td>8                 </td><td>auto(l4)          </td><td>4                 </td><td>14                </td><td>19                </td><td>r                 </td><td>suv               </td></tr>\n",
       "\t<tr><td>chevrolet         </td><td>k1500 tahoe 4wd   </td><td>5.3               </td><td>2008              </td><td>8                 </td><td>auto(l4)          </td><td>4                 </td><td>11                </td><td>14                </td><td>e                 </td><td>suv               </td></tr>\n",
       "\t<tr><td>...</td><td>...</td><td>...</td><td>...</td><td>...</td><td>...</td><td>...</td><td>...</td><td>...</td><td>...</td><td>...</td></tr>\n",
       "\t<tr><td>toyota           </td><td>toyota tacoma 4wd</td><td>3.4              </td><td>1999             </td><td>6                </td><td>auto(l4)         </td><td>4                </td><td>15               </td><td>19               </td><td>r                </td><td>pickup           </td></tr>\n",
       "\t<tr><td>toyota           </td><td>toyota tacoma 4wd</td><td>4.0              </td><td>2008             </td><td>6                </td><td>manual(m6)       </td><td>4                </td><td>15               </td><td>18               </td><td>r                </td><td>pickup           </td></tr>\n",
       "\t<tr><td>toyota           </td><td>toyota tacoma 4wd</td><td>4.0              </td><td>2008             </td><td>6                </td><td>auto(l5)         </td><td>4                </td><td>16               </td><td>20               </td><td>r                </td><td>pickup           </td></tr>\n",
       "\t<tr><td>volkswagen       </td><td>gti              </td><td>2.0              </td><td>1999             </td><td>4                </td><td>manual(m5)       </td><td>f                </td><td>21               </td><td>29               </td><td>r                </td><td>compact          </td></tr>\n",
       "\t<tr><td>volkswagen       </td><td>gti              </td><td>2.0              </td><td>1999             </td><td>4                </td><td>auto(l4)         </td><td>f                </td><td>19               </td><td>26               </td><td>r                </td><td>compact          </td></tr>\n",
       "\t<tr><td>volkswagen       </td><td>gti              </td><td>2.0              </td><td>2008             </td><td>4                </td><td>manual(m6)       </td><td>f                </td><td>21               </td><td>29               </td><td>p                </td><td>compact          </td></tr>\n",
       "\t<tr><td>volkswagen       </td><td>gti              </td><td>2.0              </td><td>2008             </td><td>4                </td><td>auto(s6)         </td><td>f                </td><td>22               </td><td>29               </td><td>p                </td><td>compact          </td></tr>\n",
       "\t<tr><td>volkswagen       </td><td>gti              </td><td>2.8              </td><td>1999             </td><td>6                </td><td>manual(m5)       </td><td>f                </td><td>17               </td><td>24               </td><td>r                </td><td>compact          </td></tr>\n",
       "\t<tr><td>volkswagen       </td><td>jetta            </td><td>1.9              </td><td>1999             </td><td>4                </td><td>manual(m5)       </td><td>f                </td><td>33               </td><td>44               </td><td>d                </td><td>compact          </td></tr>\n",
       "\t<tr><td>volkswagen       </td><td>jetta            </td><td>2.0              </td><td>1999             </td><td>4                </td><td>manual(m5)       </td><td>f                </td><td>21               </td><td>29               </td><td>r                </td><td>compact          </td></tr>\n",
       "\t<tr><td>volkswagen       </td><td>jetta            </td><td>2.0              </td><td>1999             </td><td>4                </td><td>auto(l4)         </td><td>f                </td><td>19               </td><td>26               </td><td>r                </td><td>compact          </td></tr>\n",
       "\t<tr><td>volkswagen       </td><td>jetta            </td><td>2.0              </td><td>2008             </td><td>4                </td><td>auto(s6)         </td><td>f                </td><td>22               </td><td>29               </td><td>p                </td><td>compact          </td></tr>\n",
       "\t<tr><td>volkswagen       </td><td>jetta            </td><td>2.0              </td><td>2008             </td><td>4                </td><td>manual(m6)       </td><td>f                </td><td>21               </td><td>29               </td><td>p                </td><td>compact          </td></tr>\n",
       "\t<tr><td>volkswagen       </td><td>jetta            </td><td>2.5              </td><td>2008             </td><td>5                </td><td>auto(s6)         </td><td>f                </td><td>21               </td><td>29               </td><td>r                </td><td>compact          </td></tr>\n",
       "\t<tr><td>volkswagen       </td><td>jetta            </td><td>2.5              </td><td>2008             </td><td>5                </td><td>manual(m5)       </td><td>f                </td><td>21               </td><td>29               </td><td>r                </td><td>compact          </td></tr>\n",
       "\t<tr><td>volkswagen       </td><td>jetta            </td><td>2.8              </td><td>1999             </td><td>6                </td><td>auto(l4)         </td><td>f                </td><td>16               </td><td>23               </td><td>r                </td><td>compact          </td></tr>\n",
       "\t<tr><td>volkswagen       </td><td>jetta            </td><td>2.8              </td><td>1999             </td><td>6                </td><td>manual(m5)       </td><td>f                </td><td>17               </td><td>24               </td><td>r                </td><td>compact          </td></tr>\n",
       "\t<tr><td>volkswagen       </td><td>new beetle       </td><td>1.9              </td><td>1999             </td><td>4                </td><td>manual(m5)       </td><td>f                </td><td>35               </td><td>44               </td><td>d                </td><td>subcompact       </td></tr>\n",
       "\t<tr><td>volkswagen       </td><td>new beetle       </td><td>1.9              </td><td>1999             </td><td>4                </td><td>auto(l4)         </td><td>f                </td><td>29               </td><td>41               </td><td>d                </td><td>subcompact       </td></tr>\n",
       "\t<tr><td>volkswagen       </td><td>new beetle       </td><td>2.0              </td><td>1999             </td><td>4                </td><td>manual(m5)       </td><td>f                </td><td>21               </td><td>29               </td><td>r                </td><td>subcompact       </td></tr>\n",
       "\t<tr><td>volkswagen       </td><td>new beetle       </td><td>2.0              </td><td>1999             </td><td>4                </td><td>auto(l4)         </td><td>f                </td><td>19               </td><td>26               </td><td>r                </td><td>subcompact       </td></tr>\n",
       "\t<tr><td>volkswagen       </td><td>new beetle       </td><td>2.5              </td><td>2008             </td><td>5                </td><td>manual(m5)       </td><td>f                </td><td>20               </td><td>28               </td><td>r                </td><td>subcompact       </td></tr>\n",
       "\t<tr><td>volkswagen       </td><td>new beetle       </td><td>2.5              </td><td>2008             </td><td>5                </td><td>auto(s6)         </td><td>f                </td><td>20               </td><td>29               </td><td>r                </td><td>subcompact       </td></tr>\n",
       "\t<tr><td>volkswagen       </td><td>passat           </td><td>1.8              </td><td>1999             </td><td>4                </td><td>manual(m5)       </td><td>f                </td><td>21               </td><td>29               </td><td>p                </td><td>midsize          </td></tr>\n",
       "\t<tr><td>volkswagen       </td><td>passat           </td><td>1.8              </td><td>1999             </td><td>4                </td><td>auto(l5)         </td><td>f                </td><td>18               </td><td>29               </td><td>p                </td><td>midsize          </td></tr>\n",
       "\t<tr><td>volkswagen       </td><td>passat           </td><td>2.0              </td><td>2008             </td><td>4                </td><td>auto(s6)         </td><td>f                </td><td>19               </td><td>28               </td><td>p                </td><td>midsize          </td></tr>\n",
       "\t<tr><td>volkswagen       </td><td>passat           </td><td>2.0              </td><td>2008             </td><td>4                </td><td>manual(m6)       </td><td>f                </td><td>21               </td><td>29               </td><td>p                </td><td>midsize          </td></tr>\n",
       "\t<tr><td>volkswagen       </td><td>passat           </td><td>2.8              </td><td>1999             </td><td>6                </td><td>auto(l5)         </td><td>f                </td><td>16               </td><td>26               </td><td>p                </td><td>midsize          </td></tr>\n",
       "\t<tr><td>volkswagen       </td><td>passat           </td><td>2.8              </td><td>1999             </td><td>6                </td><td>manual(m5)       </td><td>f                </td><td>18               </td><td>26               </td><td>p                </td><td>midsize          </td></tr>\n",
       "\t<tr><td>volkswagen       </td><td>passat           </td><td>3.6              </td><td>2008             </td><td>6                </td><td>auto(s6)         </td><td>f                </td><td>17               </td><td>26               </td><td>p                </td><td>midsize          </td></tr>\n",
       "</tbody>\n",
       "</table>\n"
      ],
      "text/latex": [
       "\\begin{tabular}{r|lllllllllll}\n",
       " manufacturer & model & displ & year & cyl & trans & drv & cty & hwy & fl & class\\\\\n",
       "\\hline\n",
       "\t audi               & a4                 & 1.8                & 1999               & 4                  & auto(l5)           & f                  & 18                 & 29                 & p                  & compact           \\\\\n",
       "\t audi               & a4                 & 1.8                & 1999               & 4                  & manual(m5)         & f                  & 21                 & 29                 & p                  & compact           \\\\\n",
       "\t audi               & a4                 & 2.0                & 2008               & 4                  & manual(m6)         & f                  & 20                 & 31                 & p                  & compact           \\\\\n",
       "\t audi               & a4                 & 2.0                & 2008               & 4                  & auto(av)           & f                  & 21                 & 30                 & p                  & compact           \\\\\n",
       "\t audi               & a4                 & 2.8                & 1999               & 6                  & auto(l5)           & f                  & 16                 & 26                 & p                  & compact           \\\\\n",
       "\t audi               & a4                 & 2.8                & 1999               & 6                  & manual(m5)         & f                  & 18                 & 26                 & p                  & compact           \\\\\n",
       "\t audi               & a4                 & 3.1                & 2008               & 6                  & auto(av)           & f                  & 18                 & 27                 & p                  & compact           \\\\\n",
       "\t audi               & a4 quattro         & 1.8                & 1999               & 4                  & manual(m5)         & 4                  & 18                 & 26                 & p                  & compact           \\\\\n",
       "\t audi               & a4 quattro         & 1.8                & 1999               & 4                  & auto(l5)           & 4                  & 16                 & 25                 & p                  & compact           \\\\\n",
       "\t audi               & a4 quattro         & 2.0                & 2008               & 4                  & manual(m6)         & 4                  & 20                 & 28                 & p                  & compact           \\\\\n",
       "\t audi               & a4 quattro         & 2.0                & 2008               & 4                  & auto(s6)           & 4                  & 19                 & 27                 & p                  & compact           \\\\\n",
       "\t audi               & a4 quattro         & 2.8                & 1999               & 6                  & auto(l5)           & 4                  & 15                 & 25                 & p                  & compact           \\\\\n",
       "\t audi               & a4 quattro         & 2.8                & 1999               & 6                  & manual(m5)         & 4                  & 17                 & 25                 & p                  & compact           \\\\\n",
       "\t audi               & a4 quattro         & 3.1                & 2008               & 6                  & auto(s6)           & 4                  & 17                 & 25                 & p                  & compact           \\\\\n",
       "\t audi               & a4 quattro         & 3.1                & 2008               & 6                  & manual(m6)         & 4                  & 15                 & 25                 & p                  & compact           \\\\\n",
       "\t audi               & a6 quattro         & 2.8                & 1999               & 6                  & auto(l5)           & 4                  & 15                 & 24                 & p                  & midsize           \\\\\n",
       "\t audi               & a6 quattro         & 3.1                & 2008               & 6                  & auto(s6)           & 4                  & 17                 & 25                 & p                  & midsize           \\\\\n",
       "\t audi               & a6 quattro         & 4.2                & 2008               & 8                  & auto(s6)           & 4                  & 16                 & 23                 & p                  & midsize           \\\\\n",
       "\t chevrolet          & c1500 suburban 2wd & 5.3                & 2008               & 8                  & auto(l4)           & r                  & 14                 & 20                 & r                  & suv               \\\\\n",
       "\t chevrolet          & c1500 suburban 2wd & 5.3                & 2008               & 8                  & auto(l4)           & r                  & 11                 & 15                 & e                  & suv               \\\\\n",
       "\t chevrolet          & c1500 suburban 2wd & 5.3                & 2008               & 8                  & auto(l4)           & r                  & 14                 & 20                 & r                  & suv               \\\\\n",
       "\t chevrolet          & c1500 suburban 2wd & 5.7                & 1999               & 8                  & auto(l4)           & r                  & 13                 & 17                 & r                  & suv               \\\\\n",
       "\t chevrolet          & c1500 suburban 2wd & 6.0                & 2008               & 8                  & auto(l4)           & r                  & 12                 & 17                 & r                  & suv               \\\\\n",
       "\t chevrolet          & corvette           & 5.7                & 1999               & 8                  & manual(m6)         & r                  & 16                 & 26                 & p                  & 2seater           \\\\\n",
       "\t chevrolet          & corvette           & 5.7                & 1999               & 8                  & auto(l4)           & r                  & 15                 & 23                 & p                  & 2seater           \\\\\n",
       "\t chevrolet          & corvette           & 6.2                & 2008               & 8                  & manual(m6)         & r                  & 16                 & 26                 & p                  & 2seater           \\\\\n",
       "\t chevrolet          & corvette           & 6.2                & 2008               & 8                  & auto(s6)           & r                  & 15                 & 25                 & p                  & 2seater           \\\\\n",
       "\t chevrolet          & corvette           & 7.0                & 2008               & 8                  & manual(m6)         & r                  & 15                 & 24                 & p                  & 2seater           \\\\\n",
       "\t chevrolet          & k1500 tahoe 4wd    & 5.3                & 2008               & 8                  & auto(l4)           & 4                  & 14                 & 19                 & r                  & suv               \\\\\n",
       "\t chevrolet          & k1500 tahoe 4wd    & 5.3                & 2008               & 8                  & auto(l4)           & 4                  & 11                 & 14                 & e                  & suv               \\\\\n",
       "\t ... & ... & ... & ... & ... & ... & ... & ... & ... & ... & ...\\\\\n",
       "\t toyota            & toyota tacoma 4wd & 3.4               & 1999              & 6                 & auto(l4)          & 4                 & 15                & 19                & r                 & pickup           \\\\\n",
       "\t toyota            & toyota tacoma 4wd & 4.0               & 2008              & 6                 & manual(m6)        & 4                 & 15                & 18                & r                 & pickup           \\\\\n",
       "\t toyota            & toyota tacoma 4wd & 4.0               & 2008              & 6                 & auto(l5)          & 4                 & 16                & 20                & r                 & pickup           \\\\\n",
       "\t volkswagen        & gti               & 2.0               & 1999              & 4                 & manual(m5)        & f                 & 21                & 29                & r                 & compact          \\\\\n",
       "\t volkswagen        & gti               & 2.0               & 1999              & 4                 & auto(l4)          & f                 & 19                & 26                & r                 & compact          \\\\\n",
       "\t volkswagen        & gti               & 2.0               & 2008              & 4                 & manual(m6)        & f                 & 21                & 29                & p                 & compact          \\\\\n",
       "\t volkswagen        & gti               & 2.0               & 2008              & 4                 & auto(s6)          & f                 & 22                & 29                & p                 & compact          \\\\\n",
       "\t volkswagen        & gti               & 2.8               & 1999              & 6                 & manual(m5)        & f                 & 17                & 24                & r                 & compact          \\\\\n",
       "\t volkswagen        & jetta             & 1.9               & 1999              & 4                 & manual(m5)        & f                 & 33                & 44                & d                 & compact          \\\\\n",
       "\t volkswagen        & jetta             & 2.0               & 1999              & 4                 & manual(m5)        & f                 & 21                & 29                & r                 & compact          \\\\\n",
       "\t volkswagen        & jetta             & 2.0               & 1999              & 4                 & auto(l4)          & f                 & 19                & 26                & r                 & compact          \\\\\n",
       "\t volkswagen        & jetta             & 2.0               & 2008              & 4                 & auto(s6)          & f                 & 22                & 29                & p                 & compact          \\\\\n",
       "\t volkswagen        & jetta             & 2.0               & 2008              & 4                 & manual(m6)        & f                 & 21                & 29                & p                 & compact          \\\\\n",
       "\t volkswagen        & jetta             & 2.5               & 2008              & 5                 & auto(s6)          & f                 & 21                & 29                & r                 & compact          \\\\\n",
       "\t volkswagen        & jetta             & 2.5               & 2008              & 5                 & manual(m5)        & f                 & 21                & 29                & r                 & compact          \\\\\n",
       "\t volkswagen        & jetta             & 2.8               & 1999              & 6                 & auto(l4)          & f                 & 16                & 23                & r                 & compact          \\\\\n",
       "\t volkswagen        & jetta             & 2.8               & 1999              & 6                 & manual(m5)        & f                 & 17                & 24                & r                 & compact          \\\\\n",
       "\t volkswagen        & new beetle        & 1.9               & 1999              & 4                 & manual(m5)        & f                 & 35                & 44                & d                 & subcompact       \\\\\n",
       "\t volkswagen        & new beetle        & 1.9               & 1999              & 4                 & auto(l4)          & f                 & 29                & 41                & d                 & subcompact       \\\\\n",
       "\t volkswagen        & new beetle        & 2.0               & 1999              & 4                 & manual(m5)        & f                 & 21                & 29                & r                 & subcompact       \\\\\n",
       "\t volkswagen        & new beetle        & 2.0               & 1999              & 4                 & auto(l4)          & f                 & 19                & 26                & r                 & subcompact       \\\\\n",
       "\t volkswagen        & new beetle        & 2.5               & 2008              & 5                 & manual(m5)        & f                 & 20                & 28                & r                 & subcompact       \\\\\n",
       "\t volkswagen        & new beetle        & 2.5               & 2008              & 5                 & auto(s6)          & f                 & 20                & 29                & r                 & subcompact       \\\\\n",
       "\t volkswagen        & passat            & 1.8               & 1999              & 4                 & manual(m5)        & f                 & 21                & 29                & p                 & midsize          \\\\\n",
       "\t volkswagen        & passat            & 1.8               & 1999              & 4                 & auto(l5)          & f                 & 18                & 29                & p                 & midsize          \\\\\n",
       "\t volkswagen        & passat            & 2.0               & 2008              & 4                 & auto(s6)          & f                 & 19                & 28                & p                 & midsize          \\\\\n",
       "\t volkswagen        & passat            & 2.0               & 2008              & 4                 & manual(m6)        & f                 & 21                & 29                & p                 & midsize          \\\\\n",
       "\t volkswagen        & passat            & 2.8               & 1999              & 6                 & auto(l5)          & f                 & 16                & 26                & p                 & midsize          \\\\\n",
       "\t volkswagen        & passat            & 2.8               & 1999              & 6                 & manual(m5)        & f                 & 18                & 26                & p                 & midsize          \\\\\n",
       "\t volkswagen        & passat            & 3.6               & 2008              & 6                 & auto(s6)          & f                 & 17                & 26                & p                 & midsize          \\\\\n",
       "\\end{tabular}\n"
      ],
      "text/markdown": [
       "\n",
       "| manufacturer | model | displ | year | cyl | trans | drv | cty | hwy | fl | class |\n",
       "|---|---|---|---|---|---|---|---|---|---|---|\n",
       "| audi               | a4                 | 1.8                | 1999               | 4                  | auto(l5)           | f                  | 18                 | 29                 | p                  | compact            |\n",
       "| audi               | a4                 | 1.8                | 1999               | 4                  | manual(m5)         | f                  | 21                 | 29                 | p                  | compact            |\n",
       "| audi               | a4                 | 2.0                | 2008               | 4                  | manual(m6)         | f                  | 20                 | 31                 | p                  | compact            |\n",
       "| audi               | a4                 | 2.0                | 2008               | 4                  | auto(av)           | f                  | 21                 | 30                 | p                  | compact            |\n",
       "| audi               | a4                 | 2.8                | 1999               | 6                  | auto(l5)           | f                  | 16                 | 26                 | p                  | compact            |\n",
       "| audi               | a4                 | 2.8                | 1999               | 6                  | manual(m5)         | f                  | 18                 | 26                 | p                  | compact            |\n",
       "| audi               | a4                 | 3.1                | 2008               | 6                  | auto(av)           | f                  | 18                 | 27                 | p                  | compact            |\n",
       "| audi               | a4 quattro         | 1.8                | 1999               | 4                  | manual(m5)         | 4                  | 18                 | 26                 | p                  | compact            |\n",
       "| audi               | a4 quattro         | 1.8                | 1999               | 4                  | auto(l5)           | 4                  | 16                 | 25                 | p                  | compact            |\n",
       "| audi               | a4 quattro         | 2.0                | 2008               | 4                  | manual(m6)         | 4                  | 20                 | 28                 | p                  | compact            |\n",
       "| audi               | a4 quattro         | 2.0                | 2008               | 4                  | auto(s6)           | 4                  | 19                 | 27                 | p                  | compact            |\n",
       "| audi               | a4 quattro         | 2.8                | 1999               | 6                  | auto(l5)           | 4                  | 15                 | 25                 | p                  | compact            |\n",
       "| audi               | a4 quattro         | 2.8                | 1999               | 6                  | manual(m5)         | 4                  | 17                 | 25                 | p                  | compact            |\n",
       "| audi               | a4 quattro         | 3.1                | 2008               | 6                  | auto(s6)           | 4                  | 17                 | 25                 | p                  | compact            |\n",
       "| audi               | a4 quattro         | 3.1                | 2008               | 6                  | manual(m6)         | 4                  | 15                 | 25                 | p                  | compact            |\n",
       "| audi               | a6 quattro         | 2.8                | 1999               | 6                  | auto(l5)           | 4                  | 15                 | 24                 | p                  | midsize            |\n",
       "| audi               | a6 quattro         | 3.1                | 2008               | 6                  | auto(s6)           | 4                  | 17                 | 25                 | p                  | midsize            |\n",
       "| audi               | a6 quattro         | 4.2                | 2008               | 8                  | auto(s6)           | 4                  | 16                 | 23                 | p                  | midsize            |\n",
       "| chevrolet          | c1500 suburban 2wd | 5.3                | 2008               | 8                  | auto(l4)           | r                  | 14                 | 20                 | r                  | suv                |\n",
       "| chevrolet          | c1500 suburban 2wd | 5.3                | 2008               | 8                  | auto(l4)           | r                  | 11                 | 15                 | e                  | suv                |\n",
       "| chevrolet          | c1500 suburban 2wd | 5.3                | 2008               | 8                  | auto(l4)           | r                  | 14                 | 20                 | r                  | suv                |\n",
       "| chevrolet          | c1500 suburban 2wd | 5.7                | 1999               | 8                  | auto(l4)           | r                  | 13                 | 17                 | r                  | suv                |\n",
       "| chevrolet          | c1500 suburban 2wd | 6.0                | 2008               | 8                  | auto(l4)           | r                  | 12                 | 17                 | r                  | suv                |\n",
       "| chevrolet          | corvette           | 5.7                | 1999               | 8                  | manual(m6)         | r                  | 16                 | 26                 | p                  | 2seater            |\n",
       "| chevrolet          | corvette           | 5.7                | 1999               | 8                  | auto(l4)           | r                  | 15                 | 23                 | p                  | 2seater            |\n",
       "| chevrolet          | corvette           | 6.2                | 2008               | 8                  | manual(m6)         | r                  | 16                 | 26                 | p                  | 2seater            |\n",
       "| chevrolet          | corvette           | 6.2                | 2008               | 8                  | auto(s6)           | r                  | 15                 | 25                 | p                  | 2seater            |\n",
       "| chevrolet          | corvette           | 7.0                | 2008               | 8                  | manual(m6)         | r                  | 15                 | 24                 | p                  | 2seater            |\n",
       "| chevrolet          | k1500 tahoe 4wd    | 5.3                | 2008               | 8                  | auto(l4)           | 4                  | 14                 | 19                 | r                  | suv                |\n",
       "| chevrolet          | k1500 tahoe 4wd    | 5.3                | 2008               | 8                  | auto(l4)           | 4                  | 11                 | 14                 | e                  | suv                |\n",
       "| ... | ... | ... | ... | ... | ... | ... | ... | ... | ... | ... |\n",
       "| toyota            | toyota tacoma 4wd | 3.4               | 1999              | 6                 | auto(l4)          | 4                 | 15                | 19                | r                 | pickup            |\n",
       "| toyota            | toyota tacoma 4wd | 4.0               | 2008              | 6                 | manual(m6)        | 4                 | 15                | 18                | r                 | pickup            |\n",
       "| toyota            | toyota tacoma 4wd | 4.0               | 2008              | 6                 | auto(l5)          | 4                 | 16                | 20                | r                 | pickup            |\n",
       "| volkswagen        | gti               | 2.0               | 1999              | 4                 | manual(m5)        | f                 | 21                | 29                | r                 | compact           |\n",
       "| volkswagen        | gti               | 2.0               | 1999              | 4                 | auto(l4)          | f                 | 19                | 26                | r                 | compact           |\n",
       "| volkswagen        | gti               | 2.0               | 2008              | 4                 | manual(m6)        | f                 | 21                | 29                | p                 | compact           |\n",
       "| volkswagen        | gti               | 2.0               | 2008              | 4                 | auto(s6)          | f                 | 22                | 29                | p                 | compact           |\n",
       "| volkswagen        | gti               | 2.8               | 1999              | 6                 | manual(m5)        | f                 | 17                | 24                | r                 | compact           |\n",
       "| volkswagen        | jetta             | 1.9               | 1999              | 4                 | manual(m5)        | f                 | 33                | 44                | d                 | compact           |\n",
       "| volkswagen        | jetta             | 2.0               | 1999              | 4                 | manual(m5)        | f                 | 21                | 29                | r                 | compact           |\n",
       "| volkswagen        | jetta             | 2.0               | 1999              | 4                 | auto(l4)          | f                 | 19                | 26                | r                 | compact           |\n",
       "| volkswagen        | jetta             | 2.0               | 2008              | 4                 | auto(s6)          | f                 | 22                | 29                | p                 | compact           |\n",
       "| volkswagen        | jetta             | 2.0               | 2008              | 4                 | manual(m6)        | f                 | 21                | 29                | p                 | compact           |\n",
       "| volkswagen        | jetta             | 2.5               | 2008              | 5                 | auto(s6)          | f                 | 21                | 29                | r                 | compact           |\n",
       "| volkswagen        | jetta             | 2.5               | 2008              | 5                 | manual(m5)        | f                 | 21                | 29                | r                 | compact           |\n",
       "| volkswagen        | jetta             | 2.8               | 1999              | 6                 | auto(l4)          | f                 | 16                | 23                | r                 | compact           |\n",
       "| volkswagen        | jetta             | 2.8               | 1999              | 6                 | manual(m5)        | f                 | 17                | 24                | r                 | compact           |\n",
       "| volkswagen        | new beetle        | 1.9               | 1999              | 4                 | manual(m5)        | f                 | 35                | 44                | d                 | subcompact        |\n",
       "| volkswagen        | new beetle        | 1.9               | 1999              | 4                 | auto(l4)          | f                 | 29                | 41                | d                 | subcompact        |\n",
       "| volkswagen        | new beetle        | 2.0               | 1999              | 4                 | manual(m5)        | f                 | 21                | 29                | r                 | subcompact        |\n",
       "| volkswagen        | new beetle        | 2.0               | 1999              | 4                 | auto(l4)          | f                 | 19                | 26                | r                 | subcompact        |\n",
       "| volkswagen        | new beetle        | 2.5               | 2008              | 5                 | manual(m5)        | f                 | 20                | 28                | r                 | subcompact        |\n",
       "| volkswagen        | new beetle        | 2.5               | 2008              | 5                 | auto(s6)          | f                 | 20                | 29                | r                 | subcompact        |\n",
       "| volkswagen        | passat            | 1.8               | 1999              | 4                 | manual(m5)        | f                 | 21                | 29                | p                 | midsize           |\n",
       "| volkswagen        | passat            | 1.8               | 1999              | 4                 | auto(l5)          | f                 | 18                | 29                | p                 | midsize           |\n",
       "| volkswagen        | passat            | 2.0               | 2008              | 4                 | auto(s6)          | f                 | 19                | 28                | p                 | midsize           |\n",
       "| volkswagen        | passat            | 2.0               | 2008              | 4                 | manual(m6)        | f                 | 21                | 29                | p                 | midsize           |\n",
       "| volkswagen        | passat            | 2.8               | 1999              | 6                 | auto(l5)          | f                 | 16                | 26                | p                 | midsize           |\n",
       "| volkswagen        | passat            | 2.8               | 1999              | 6                 | manual(m5)        | f                 | 18                | 26                | p                 | midsize           |\n",
       "| volkswagen        | passat            | 3.6               | 2008              | 6                 | auto(s6)          | f                 | 17                | 26                | p                 | midsize           |\n",
       "\n"
      ],
      "text/plain": [
       "    manufacturer model              displ year cyl trans      drv cty hwy fl \n",
       "1   audi         a4                 1.8   1999 4   auto(l5)   f   18  29  p  \n",
       "2   audi         a4                 1.8   1999 4   manual(m5) f   21  29  p  \n",
       "3   audi         a4                 2.0   2008 4   manual(m6) f   20  31  p  \n",
       "4   audi         a4                 2.0   2008 4   auto(av)   f   21  30  p  \n",
       "5   audi         a4                 2.8   1999 6   auto(l5)   f   16  26  p  \n",
       "6   audi         a4                 2.8   1999 6   manual(m5) f   18  26  p  \n",
       "7   audi         a4                 3.1   2008 6   auto(av)   f   18  27  p  \n",
       "8   audi         a4 quattro         1.8   1999 4   manual(m5) 4   18  26  p  \n",
       "9   audi         a4 quattro         1.8   1999 4   auto(l5)   4   16  25  p  \n",
       "10  audi         a4 quattro         2.0   2008 4   manual(m6) 4   20  28  p  \n",
       "11  audi         a4 quattro         2.0   2008 4   auto(s6)   4   19  27  p  \n",
       "12  audi         a4 quattro         2.8   1999 6   auto(l5)   4   15  25  p  \n",
       "13  audi         a4 quattro         2.8   1999 6   manual(m5) 4   17  25  p  \n",
       "14  audi         a4 quattro         3.1   2008 6   auto(s6)   4   17  25  p  \n",
       "15  audi         a4 quattro         3.1   2008 6   manual(m6) 4   15  25  p  \n",
       "16  audi         a6 quattro         2.8   1999 6   auto(l5)   4   15  24  p  \n",
       "17  audi         a6 quattro         3.1   2008 6   auto(s6)   4   17  25  p  \n",
       "18  audi         a6 quattro         4.2   2008 8   auto(s6)   4   16  23  p  \n",
       "19  chevrolet    c1500 suburban 2wd 5.3   2008 8   auto(l4)   r   14  20  r  \n",
       "20  chevrolet    c1500 suburban 2wd 5.3   2008 8   auto(l4)   r   11  15  e  \n",
       "21  chevrolet    c1500 suburban 2wd 5.3   2008 8   auto(l4)   r   14  20  r  \n",
       "22  chevrolet    c1500 suburban 2wd 5.7   1999 8   auto(l4)   r   13  17  r  \n",
       "23  chevrolet    c1500 suburban 2wd 6.0   2008 8   auto(l4)   r   12  17  r  \n",
       "24  chevrolet    corvette           5.7   1999 8   manual(m6) r   16  26  p  \n",
       "25  chevrolet    corvette           5.7   1999 8   auto(l4)   r   15  23  p  \n",
       "26  chevrolet    corvette           6.2   2008 8   manual(m6) r   16  26  p  \n",
       "27  chevrolet    corvette           6.2   2008 8   auto(s6)   r   15  25  p  \n",
       "28  chevrolet    corvette           7.0   2008 8   manual(m6) r   15  24  p  \n",
       "29  chevrolet    k1500 tahoe 4wd    5.3   2008 8   auto(l4)   4   14  19  r  \n",
       "30  chevrolet    k1500 tahoe 4wd    5.3   2008 8   auto(l4)   4   11  14  e  \n",
       "... ...          ...                ...   ...  ... ...        ... ... ... ...\n",
       "205 toyota       toyota tacoma 4wd  3.4   1999 6   auto(l4)   4   15  19  r  \n",
       "206 toyota       toyota tacoma 4wd  4.0   2008 6   manual(m6) 4   15  18  r  \n",
       "207 toyota       toyota tacoma 4wd  4.0   2008 6   auto(l5)   4   16  20  r  \n",
       "208 volkswagen   gti                2.0   1999 4   manual(m5) f   21  29  r  \n",
       "209 volkswagen   gti                2.0   1999 4   auto(l4)   f   19  26  r  \n",
       "210 volkswagen   gti                2.0   2008 4   manual(m6) f   21  29  p  \n",
       "211 volkswagen   gti                2.0   2008 4   auto(s6)   f   22  29  p  \n",
       "212 volkswagen   gti                2.8   1999 6   manual(m5) f   17  24  r  \n",
       "213 volkswagen   jetta              1.9   1999 4   manual(m5) f   33  44  d  \n",
       "214 volkswagen   jetta              2.0   1999 4   manual(m5) f   21  29  r  \n",
       "215 volkswagen   jetta              2.0   1999 4   auto(l4)   f   19  26  r  \n",
       "216 volkswagen   jetta              2.0   2008 4   auto(s6)   f   22  29  p  \n",
       "217 volkswagen   jetta              2.0   2008 4   manual(m6) f   21  29  p  \n",
       "218 volkswagen   jetta              2.5   2008 5   auto(s6)   f   21  29  r  \n",
       "219 volkswagen   jetta              2.5   2008 5   manual(m5) f   21  29  r  \n",
       "220 volkswagen   jetta              2.8   1999 6   auto(l4)   f   16  23  r  \n",
       "221 volkswagen   jetta              2.8   1999 6   manual(m5) f   17  24  r  \n",
       "222 volkswagen   new beetle         1.9   1999 4   manual(m5) f   35  44  d  \n",
       "223 volkswagen   new beetle         1.9   1999 4   auto(l4)   f   29  41  d  \n",
       "224 volkswagen   new beetle         2.0   1999 4   manual(m5) f   21  29  r  \n",
       "225 volkswagen   new beetle         2.0   1999 4   auto(l4)   f   19  26  r  \n",
       "226 volkswagen   new beetle         2.5   2008 5   manual(m5) f   20  28  r  \n",
       "227 volkswagen   new beetle         2.5   2008 5   auto(s6)   f   20  29  r  \n",
       "228 volkswagen   passat             1.8   1999 4   manual(m5) f   21  29  p  \n",
       "229 volkswagen   passat             1.8   1999 4   auto(l5)   f   18  29  p  \n",
       "230 volkswagen   passat             2.0   2008 4   auto(s6)   f   19  28  p  \n",
       "231 volkswagen   passat             2.0   2008 4   manual(m6) f   21  29  p  \n",
       "232 volkswagen   passat             2.8   1999 6   auto(l5)   f   16  26  p  \n",
       "233 volkswagen   passat             2.8   1999 6   manual(m5) f   18  26  p  \n",
       "234 volkswagen   passat             3.6   2008 6   auto(s6)   f   17  26  p  \n",
       "    class     \n",
       "1   compact   \n",
       "2   compact   \n",
       "3   compact   \n",
       "4   compact   \n",
       "5   compact   \n",
       "6   compact   \n",
       "7   compact   \n",
       "8   compact   \n",
       "9   compact   \n",
       "10  compact   \n",
       "11  compact   \n",
       "12  compact   \n",
       "13  compact   \n",
       "14  compact   \n",
       "15  compact   \n",
       "16  midsize   \n",
       "17  midsize   \n",
       "18  midsize   \n",
       "19  suv       \n",
       "20  suv       \n",
       "21  suv       \n",
       "22  suv       \n",
       "23  suv       \n",
       "24  2seater   \n",
       "25  2seater   \n",
       "26  2seater   \n",
       "27  2seater   \n",
       "28  2seater   \n",
       "29  suv       \n",
       "30  suv       \n",
       "... ...       \n",
       "205 pickup    \n",
       "206 pickup    \n",
       "207 pickup    \n",
       "208 compact   \n",
       "209 compact   \n",
       "210 compact   \n",
       "211 compact   \n",
       "212 compact   \n",
       "213 compact   \n",
       "214 compact   \n",
       "215 compact   \n",
       "216 compact   \n",
       "217 compact   \n",
       "218 compact   \n",
       "219 compact   \n",
       "220 compact   \n",
       "221 compact   \n",
       "222 subcompact\n",
       "223 subcompact\n",
       "224 subcompact\n",
       "225 subcompact\n",
       "226 subcompact\n",
       "227 subcompact\n",
       "228 midsize   \n",
       "229 midsize   \n",
       "230 midsize   \n",
       "231 midsize   \n",
       "232 midsize   \n",
       "233 midsize   \n",
       "234 midsize   "
      ]
     },
     "metadata": {},
     "output_type": "display_data"
    }
   ],
   "source": [
    "mpg_editada <-  mpg %>%\n",
    "  mutate_if(\n",
    "      .predicate = is.character,\n",
    "      .funs      = as_factor\n",
    "  )\n",
    "\n",
    "mpg_editada\n"
   ]
  },
  {
   "cell_type": "code",
   "execution_count": 6,
   "id": "0375e7e9-95c8-492a-8864-164ea249c6d2",
   "metadata": {
    "scrolled": true
   },
   "outputs": [
    {
     "data": {
      "text/html": [
       "<table>\n",
       "<thead><tr><th scope=col>manufacturer</th><th scope=col>model</th><th scope=col>displ</th><th scope=col>year</th><th scope=col>cyl</th><th scope=col>trans</th><th scope=col>drv</th><th scope=col>cty</th><th scope=col>hwy</th><th scope=col>fl</th><th scope=col>class</th></tr></thead>\n",
       "<tbody>\n",
       "\t<tr><td>audi              </td><td>a4                </td><td>1.8               </td><td>1999              </td><td>4                 </td><td>auto(l5)          </td><td>f                 </td><td>18                </td><td>29                </td><td>p                 </td><td>compact           </td></tr>\n",
       "\t<tr><td>audi              </td><td>a4                </td><td>1.8               </td><td>1999              </td><td>4                 </td><td>manual(m5)        </td><td>f                 </td><td>21                </td><td>29                </td><td>p                 </td><td>compact           </td></tr>\n",
       "\t<tr><td>audi              </td><td>a4                </td><td>2.0               </td><td>2008              </td><td>4                 </td><td>Otros             </td><td>f                 </td><td>20                </td><td>31                </td><td>p                 </td><td>compact           </td></tr>\n",
       "\t<tr><td>audi              </td><td>a4                </td><td>2.0               </td><td>2008              </td><td>4                 </td><td>Otros             </td><td>f                 </td><td>21                </td><td>30                </td><td>p                 </td><td>compact           </td></tr>\n",
       "\t<tr><td>audi              </td><td>a4                </td><td>2.8               </td><td>1999              </td><td>6                 </td><td>auto(l5)          </td><td>f                 </td><td>16                </td><td>26                </td><td>p                 </td><td>compact           </td></tr>\n",
       "\t<tr><td>audi              </td><td>a4                </td><td>2.8               </td><td>1999              </td><td>6                 </td><td>manual(m5)        </td><td>f                 </td><td>18                </td><td>26                </td><td>p                 </td><td>compact           </td></tr>\n",
       "\t<tr><td>audi              </td><td>a4                </td><td>3.1               </td><td>2008              </td><td>6                 </td><td>Otros             </td><td>f                 </td><td>18                </td><td>27                </td><td>p                 </td><td>compact           </td></tr>\n",
       "\t<tr><td>audi              </td><td>a4 quattro        </td><td>1.8               </td><td>1999              </td><td>4                 </td><td>manual(m5)        </td><td>4                 </td><td>18                </td><td>26                </td><td>p                 </td><td>compact           </td></tr>\n",
       "\t<tr><td>audi              </td><td>a4 quattro        </td><td>1.8               </td><td>1999              </td><td>4                 </td><td>auto(l5)          </td><td>4                 </td><td>16                </td><td>25                </td><td>p                 </td><td>compact           </td></tr>\n",
       "\t<tr><td>audi              </td><td>a4 quattro        </td><td>2.0               </td><td>2008              </td><td>4                 </td><td>Otros             </td><td>4                 </td><td>20                </td><td>28                </td><td>p                 </td><td>compact           </td></tr>\n",
       "\t<tr><td>audi              </td><td>a4 quattro        </td><td>2.0               </td><td>2008              </td><td>4                 </td><td>Otros             </td><td>4                 </td><td>19                </td><td>27                </td><td>p                 </td><td>compact           </td></tr>\n",
       "\t<tr><td>audi              </td><td>a4 quattro        </td><td>2.8               </td><td>1999              </td><td>6                 </td><td>auto(l5)          </td><td>4                 </td><td>15                </td><td>25                </td><td>p                 </td><td>compact           </td></tr>\n",
       "\t<tr><td>audi              </td><td>a4 quattro        </td><td>2.8               </td><td>1999              </td><td>6                 </td><td>manual(m5)        </td><td>4                 </td><td>17                </td><td>25                </td><td>p                 </td><td>compact           </td></tr>\n",
       "\t<tr><td>audi              </td><td>a4 quattro        </td><td>3.1               </td><td>2008              </td><td>6                 </td><td>Otros             </td><td>4                 </td><td>17                </td><td>25                </td><td>p                 </td><td>compact           </td></tr>\n",
       "\t<tr><td>audi              </td><td>a4 quattro        </td><td>3.1               </td><td>2008              </td><td>6                 </td><td>Otros             </td><td>4                 </td><td>15                </td><td>25                </td><td>p                 </td><td>compact           </td></tr>\n",
       "\t<tr><td>audi              </td><td>a6 quattro        </td><td>2.8               </td><td>1999              </td><td>6                 </td><td>auto(l5)          </td><td>4                 </td><td>15                </td><td>24                </td><td>p                 </td><td>midsize           </td></tr>\n",
       "\t<tr><td>audi              </td><td>a6 quattro        </td><td>3.1               </td><td>2008              </td><td>6                 </td><td>Otros             </td><td>4                 </td><td>17                </td><td>25                </td><td>p                 </td><td>midsize           </td></tr>\n",
       "\t<tr><td>audi              </td><td>a6 quattro        </td><td>4.2               </td><td>2008              </td><td>8                 </td><td>Otros             </td><td>4                 </td><td>16                </td><td>23                </td><td>p                 </td><td>midsize           </td></tr>\n",
       "\t<tr><td>chevrolet         </td><td>c1500 suburban 2wd</td><td>5.3               </td><td>2008              </td><td>8                 </td><td>auto(l4)          </td><td>r                 </td><td>14                </td><td>20                </td><td>r                 </td><td>suv               </td></tr>\n",
       "\t<tr><td>chevrolet         </td><td>c1500 suburban 2wd</td><td>5.3               </td><td>2008              </td><td>8                 </td><td>auto(l4)          </td><td>r                 </td><td>11                </td><td>15                </td><td>e                 </td><td>suv               </td></tr>\n",
       "\t<tr><td>chevrolet         </td><td>c1500 suburban 2wd</td><td>5.3               </td><td>2008              </td><td>8                 </td><td>auto(l4)          </td><td>r                 </td><td>14                </td><td>20                </td><td>r                 </td><td>suv               </td></tr>\n",
       "\t<tr><td>chevrolet         </td><td>c1500 suburban 2wd</td><td>5.7               </td><td>1999              </td><td>8                 </td><td>auto(l4)          </td><td>r                 </td><td>13                </td><td>17                </td><td>r                 </td><td>suv               </td></tr>\n",
       "\t<tr><td>chevrolet         </td><td>c1500 suburban 2wd</td><td>6.0               </td><td>2008              </td><td>8                 </td><td>auto(l4)          </td><td>r                 </td><td>12                </td><td>17                </td><td>r                 </td><td>suv               </td></tr>\n",
       "\t<tr><td>chevrolet         </td><td>corvette          </td><td>5.7               </td><td>1999              </td><td>8                 </td><td>Otros             </td><td>r                 </td><td>16                </td><td>26                </td><td>p                 </td><td>2seater           </td></tr>\n",
       "\t<tr><td>chevrolet         </td><td>corvette          </td><td>5.7               </td><td>1999              </td><td>8                 </td><td>auto(l4)          </td><td>r                 </td><td>15                </td><td>23                </td><td>p                 </td><td>2seater           </td></tr>\n",
       "\t<tr><td>chevrolet         </td><td>corvette          </td><td>6.2               </td><td>2008              </td><td>8                 </td><td>Otros             </td><td>r                 </td><td>16                </td><td>26                </td><td>p                 </td><td>2seater           </td></tr>\n",
       "\t<tr><td>chevrolet         </td><td>corvette          </td><td>6.2               </td><td>2008              </td><td>8                 </td><td>Otros             </td><td>r                 </td><td>15                </td><td>25                </td><td>p                 </td><td>2seater           </td></tr>\n",
       "\t<tr><td>chevrolet         </td><td>corvette          </td><td>7.0               </td><td>2008              </td><td>8                 </td><td>Otros             </td><td>r                 </td><td>15                </td><td>24                </td><td>p                 </td><td>2seater           </td></tr>\n",
       "\t<tr><td>chevrolet         </td><td>k1500 tahoe 4wd   </td><td>5.3               </td><td>2008              </td><td>8                 </td><td>auto(l4)          </td><td>4                 </td><td>14                </td><td>19                </td><td>r                 </td><td>suv               </td></tr>\n",
       "\t<tr><td>chevrolet         </td><td>k1500 tahoe 4wd   </td><td>5.3               </td><td>2008              </td><td>8                 </td><td>auto(l4)          </td><td>4                 </td><td>11                </td><td>14                </td><td>e                 </td><td>suv               </td></tr>\n",
       "\t<tr><td>...</td><td>...</td><td>...</td><td>...</td><td>...</td><td>...</td><td>...</td><td>...</td><td>...</td><td>...</td><td>...</td></tr>\n",
       "\t<tr><td>toyota           </td><td>toyota tacoma 4wd</td><td>3.4              </td><td>1999             </td><td>6                </td><td>auto(l4)         </td><td>4                </td><td>15               </td><td>19               </td><td>r                </td><td>pickup           </td></tr>\n",
       "\t<tr><td>toyota           </td><td>toyota tacoma 4wd</td><td>4.0              </td><td>2008             </td><td>6                </td><td>Otros            </td><td>4                </td><td>15               </td><td>18               </td><td>r                </td><td>pickup           </td></tr>\n",
       "\t<tr><td>toyota           </td><td>toyota tacoma 4wd</td><td>4.0              </td><td>2008             </td><td>6                </td><td>auto(l5)         </td><td>4                </td><td>16               </td><td>20               </td><td>r                </td><td>pickup           </td></tr>\n",
       "\t<tr><td>volkswagen       </td><td>gti              </td><td>2.0              </td><td>1999             </td><td>4                </td><td>manual(m5)       </td><td>f                </td><td>21               </td><td>29               </td><td>r                </td><td>compact          </td></tr>\n",
       "\t<tr><td>volkswagen       </td><td>gti              </td><td>2.0              </td><td>1999             </td><td>4                </td><td>auto(l4)         </td><td>f                </td><td>19               </td><td>26               </td><td>r                </td><td>compact          </td></tr>\n",
       "\t<tr><td>volkswagen       </td><td>gti              </td><td>2.0              </td><td>2008             </td><td>4                </td><td>Otros            </td><td>f                </td><td>21               </td><td>29               </td><td>p                </td><td>compact          </td></tr>\n",
       "\t<tr><td>volkswagen       </td><td>gti              </td><td>2.0              </td><td>2008             </td><td>4                </td><td>Otros            </td><td>f                </td><td>22               </td><td>29               </td><td>p                </td><td>compact          </td></tr>\n",
       "\t<tr><td>volkswagen       </td><td>gti              </td><td>2.8              </td><td>1999             </td><td>6                </td><td>manual(m5)       </td><td>f                </td><td>17               </td><td>24               </td><td>r                </td><td>compact          </td></tr>\n",
       "\t<tr><td>volkswagen       </td><td>jetta            </td><td>1.9              </td><td>1999             </td><td>4                </td><td>manual(m5)       </td><td>f                </td><td>33               </td><td>44               </td><td>d                </td><td>compact          </td></tr>\n",
       "\t<tr><td>volkswagen       </td><td>jetta            </td><td>2.0              </td><td>1999             </td><td>4                </td><td>manual(m5)       </td><td>f                </td><td>21               </td><td>29               </td><td>r                </td><td>compact          </td></tr>\n",
       "\t<tr><td>volkswagen       </td><td>jetta            </td><td>2.0              </td><td>1999             </td><td>4                </td><td>auto(l4)         </td><td>f                </td><td>19               </td><td>26               </td><td>r                </td><td>compact          </td></tr>\n",
       "\t<tr><td>volkswagen       </td><td>jetta            </td><td>2.0              </td><td>2008             </td><td>4                </td><td>Otros            </td><td>f                </td><td>22               </td><td>29               </td><td>p                </td><td>compact          </td></tr>\n",
       "\t<tr><td>volkswagen       </td><td>jetta            </td><td>2.0              </td><td>2008             </td><td>4                </td><td>Otros            </td><td>f                </td><td>21               </td><td>29               </td><td>p                </td><td>compact          </td></tr>\n",
       "\t<tr><td>volkswagen       </td><td>jetta            </td><td>2.5              </td><td>2008             </td><td>5                </td><td>Otros            </td><td>f                </td><td>21               </td><td>29               </td><td>r                </td><td>compact          </td></tr>\n",
       "\t<tr><td>volkswagen       </td><td>jetta            </td><td>2.5              </td><td>2008             </td><td>5                </td><td>manual(m5)       </td><td>f                </td><td>21               </td><td>29               </td><td>r                </td><td>compact          </td></tr>\n",
       "\t<tr><td>volkswagen       </td><td>jetta            </td><td>2.8              </td><td>1999             </td><td>6                </td><td>auto(l4)         </td><td>f                </td><td>16               </td><td>23               </td><td>r                </td><td>compact          </td></tr>\n",
       "\t<tr><td>volkswagen       </td><td>jetta            </td><td>2.8              </td><td>1999             </td><td>6                </td><td>manual(m5)       </td><td>f                </td><td>17               </td><td>24               </td><td>r                </td><td>compact          </td></tr>\n",
       "\t<tr><td>volkswagen       </td><td>new beetle       </td><td>1.9              </td><td>1999             </td><td>4                </td><td>manual(m5)       </td><td>f                </td><td>35               </td><td>44               </td><td>d                </td><td>subcompact       </td></tr>\n",
       "\t<tr><td>volkswagen       </td><td>new beetle       </td><td>1.9              </td><td>1999             </td><td>4                </td><td>auto(l4)         </td><td>f                </td><td>29               </td><td>41               </td><td>d                </td><td>subcompact       </td></tr>\n",
       "\t<tr><td>volkswagen       </td><td>new beetle       </td><td>2.0              </td><td>1999             </td><td>4                </td><td>manual(m5)       </td><td>f                </td><td>21               </td><td>29               </td><td>r                </td><td>subcompact       </td></tr>\n",
       "\t<tr><td>volkswagen       </td><td>new beetle       </td><td>2.0              </td><td>1999             </td><td>4                </td><td>auto(l4)         </td><td>f                </td><td>19               </td><td>26               </td><td>r                </td><td>subcompact       </td></tr>\n",
       "\t<tr><td>volkswagen       </td><td>new beetle       </td><td>2.5              </td><td>2008             </td><td>5                </td><td>manual(m5)       </td><td>f                </td><td>20               </td><td>28               </td><td>r                </td><td>subcompact       </td></tr>\n",
       "\t<tr><td>volkswagen       </td><td>new beetle       </td><td>2.5              </td><td>2008             </td><td>5                </td><td>Otros            </td><td>f                </td><td>20               </td><td>29               </td><td>r                </td><td>subcompact       </td></tr>\n",
       "\t<tr><td>volkswagen       </td><td>passat           </td><td>1.8              </td><td>1999             </td><td>4                </td><td>manual(m5)       </td><td>f                </td><td>21               </td><td>29               </td><td>p                </td><td>midsize          </td></tr>\n",
       "\t<tr><td>volkswagen       </td><td>passat           </td><td>1.8              </td><td>1999             </td><td>4                </td><td>auto(l5)         </td><td>f                </td><td>18               </td><td>29               </td><td>p                </td><td>midsize          </td></tr>\n",
       "\t<tr><td>volkswagen       </td><td>passat           </td><td>2.0              </td><td>2008             </td><td>4                </td><td>Otros            </td><td>f                </td><td>19               </td><td>28               </td><td>p                </td><td>midsize          </td></tr>\n",
       "\t<tr><td>volkswagen       </td><td>passat           </td><td>2.0              </td><td>2008             </td><td>4                </td><td>Otros            </td><td>f                </td><td>21               </td><td>29               </td><td>p                </td><td>midsize          </td></tr>\n",
       "\t<tr><td>volkswagen       </td><td>passat           </td><td>2.8              </td><td>1999             </td><td>6                </td><td>auto(l5)         </td><td>f                </td><td>16               </td><td>26               </td><td>p                </td><td>midsize          </td></tr>\n",
       "\t<tr><td>volkswagen       </td><td>passat           </td><td>2.8              </td><td>1999             </td><td>6                </td><td>manual(m5)       </td><td>f                </td><td>18               </td><td>26               </td><td>p                </td><td>midsize          </td></tr>\n",
       "\t<tr><td>volkswagen       </td><td>passat           </td><td>3.6              </td><td>2008             </td><td>6                </td><td>Otros            </td><td>f                </td><td>17               </td><td>26               </td><td>p                </td><td>midsize          </td></tr>\n",
       "</tbody>\n",
       "</table>\n"
      ],
      "text/latex": [
       "\\begin{tabular}{r|lllllllllll}\n",
       " manufacturer & model & displ & year & cyl & trans & drv & cty & hwy & fl & class\\\\\n",
       "\\hline\n",
       "\t audi               & a4                 & 1.8                & 1999               & 4                  & auto(l5)           & f                  & 18                 & 29                 & p                  & compact           \\\\\n",
       "\t audi               & a4                 & 1.8                & 1999               & 4                  & manual(m5)         & f                  & 21                 & 29                 & p                  & compact           \\\\\n",
       "\t audi               & a4                 & 2.0                & 2008               & 4                  & Otros              & f                  & 20                 & 31                 & p                  & compact           \\\\\n",
       "\t audi               & a4                 & 2.0                & 2008               & 4                  & Otros              & f                  & 21                 & 30                 & p                  & compact           \\\\\n",
       "\t audi               & a4                 & 2.8                & 1999               & 6                  & auto(l5)           & f                  & 16                 & 26                 & p                  & compact           \\\\\n",
       "\t audi               & a4                 & 2.8                & 1999               & 6                  & manual(m5)         & f                  & 18                 & 26                 & p                  & compact           \\\\\n",
       "\t audi               & a4                 & 3.1                & 2008               & 6                  & Otros              & f                  & 18                 & 27                 & p                  & compact           \\\\\n",
       "\t audi               & a4 quattro         & 1.8                & 1999               & 4                  & manual(m5)         & 4                  & 18                 & 26                 & p                  & compact           \\\\\n",
       "\t audi               & a4 quattro         & 1.8                & 1999               & 4                  & auto(l5)           & 4                  & 16                 & 25                 & p                  & compact           \\\\\n",
       "\t audi               & a4 quattro         & 2.0                & 2008               & 4                  & Otros              & 4                  & 20                 & 28                 & p                  & compact           \\\\\n",
       "\t audi               & a4 quattro         & 2.0                & 2008               & 4                  & Otros              & 4                  & 19                 & 27                 & p                  & compact           \\\\\n",
       "\t audi               & a4 quattro         & 2.8                & 1999               & 6                  & auto(l5)           & 4                  & 15                 & 25                 & p                  & compact           \\\\\n",
       "\t audi               & a4 quattro         & 2.8                & 1999               & 6                  & manual(m5)         & 4                  & 17                 & 25                 & p                  & compact           \\\\\n",
       "\t audi               & a4 quattro         & 3.1                & 2008               & 6                  & Otros              & 4                  & 17                 & 25                 & p                  & compact           \\\\\n",
       "\t audi               & a4 quattro         & 3.1                & 2008               & 6                  & Otros              & 4                  & 15                 & 25                 & p                  & compact           \\\\\n",
       "\t audi               & a6 quattro         & 2.8                & 1999               & 6                  & auto(l5)           & 4                  & 15                 & 24                 & p                  & midsize           \\\\\n",
       "\t audi               & a6 quattro         & 3.1                & 2008               & 6                  & Otros              & 4                  & 17                 & 25                 & p                  & midsize           \\\\\n",
       "\t audi               & a6 quattro         & 4.2                & 2008               & 8                  & Otros              & 4                  & 16                 & 23                 & p                  & midsize           \\\\\n",
       "\t chevrolet          & c1500 suburban 2wd & 5.3                & 2008               & 8                  & auto(l4)           & r                  & 14                 & 20                 & r                  & suv               \\\\\n",
       "\t chevrolet          & c1500 suburban 2wd & 5.3                & 2008               & 8                  & auto(l4)           & r                  & 11                 & 15                 & e                  & suv               \\\\\n",
       "\t chevrolet          & c1500 suburban 2wd & 5.3                & 2008               & 8                  & auto(l4)           & r                  & 14                 & 20                 & r                  & suv               \\\\\n",
       "\t chevrolet          & c1500 suburban 2wd & 5.7                & 1999               & 8                  & auto(l4)           & r                  & 13                 & 17                 & r                  & suv               \\\\\n",
       "\t chevrolet          & c1500 suburban 2wd & 6.0                & 2008               & 8                  & auto(l4)           & r                  & 12                 & 17                 & r                  & suv               \\\\\n",
       "\t chevrolet          & corvette           & 5.7                & 1999               & 8                  & Otros              & r                  & 16                 & 26                 & p                  & 2seater           \\\\\n",
       "\t chevrolet          & corvette           & 5.7                & 1999               & 8                  & auto(l4)           & r                  & 15                 & 23                 & p                  & 2seater           \\\\\n",
       "\t chevrolet          & corvette           & 6.2                & 2008               & 8                  & Otros              & r                  & 16                 & 26                 & p                  & 2seater           \\\\\n",
       "\t chevrolet          & corvette           & 6.2                & 2008               & 8                  & Otros              & r                  & 15                 & 25                 & p                  & 2seater           \\\\\n",
       "\t chevrolet          & corvette           & 7.0                & 2008               & 8                  & Otros              & r                  & 15                 & 24                 & p                  & 2seater           \\\\\n",
       "\t chevrolet          & k1500 tahoe 4wd    & 5.3                & 2008               & 8                  & auto(l4)           & 4                  & 14                 & 19                 & r                  & suv               \\\\\n",
       "\t chevrolet          & k1500 tahoe 4wd    & 5.3                & 2008               & 8                  & auto(l4)           & 4                  & 11                 & 14                 & e                  & suv               \\\\\n",
       "\t ... & ... & ... & ... & ... & ... & ... & ... & ... & ... & ...\\\\\n",
       "\t toyota            & toyota tacoma 4wd & 3.4               & 1999              & 6                 & auto(l4)          & 4                 & 15                & 19                & r                 & pickup           \\\\\n",
       "\t toyota            & toyota tacoma 4wd & 4.0               & 2008              & 6                 & Otros             & 4                 & 15                & 18                & r                 & pickup           \\\\\n",
       "\t toyota            & toyota tacoma 4wd & 4.0               & 2008              & 6                 & auto(l5)          & 4                 & 16                & 20                & r                 & pickup           \\\\\n",
       "\t volkswagen        & gti               & 2.0               & 1999              & 4                 & manual(m5)        & f                 & 21                & 29                & r                 & compact          \\\\\n",
       "\t volkswagen        & gti               & 2.0               & 1999              & 4                 & auto(l4)          & f                 & 19                & 26                & r                 & compact          \\\\\n",
       "\t volkswagen        & gti               & 2.0               & 2008              & 4                 & Otros             & f                 & 21                & 29                & p                 & compact          \\\\\n",
       "\t volkswagen        & gti               & 2.0               & 2008              & 4                 & Otros             & f                 & 22                & 29                & p                 & compact          \\\\\n",
       "\t volkswagen        & gti               & 2.8               & 1999              & 6                 & manual(m5)        & f                 & 17                & 24                & r                 & compact          \\\\\n",
       "\t volkswagen        & jetta             & 1.9               & 1999              & 4                 & manual(m5)        & f                 & 33                & 44                & d                 & compact          \\\\\n",
       "\t volkswagen        & jetta             & 2.0               & 1999              & 4                 & manual(m5)        & f                 & 21                & 29                & r                 & compact          \\\\\n",
       "\t volkswagen        & jetta             & 2.0               & 1999              & 4                 & auto(l4)          & f                 & 19                & 26                & r                 & compact          \\\\\n",
       "\t volkswagen        & jetta             & 2.0               & 2008              & 4                 & Otros             & f                 & 22                & 29                & p                 & compact          \\\\\n",
       "\t volkswagen        & jetta             & 2.0               & 2008              & 4                 & Otros             & f                 & 21                & 29                & p                 & compact          \\\\\n",
       "\t volkswagen        & jetta             & 2.5               & 2008              & 5                 & Otros             & f                 & 21                & 29                & r                 & compact          \\\\\n",
       "\t volkswagen        & jetta             & 2.5               & 2008              & 5                 & manual(m5)        & f                 & 21                & 29                & r                 & compact          \\\\\n",
       "\t volkswagen        & jetta             & 2.8               & 1999              & 6                 & auto(l4)          & f                 & 16                & 23                & r                 & compact          \\\\\n",
       "\t volkswagen        & jetta             & 2.8               & 1999              & 6                 & manual(m5)        & f                 & 17                & 24                & r                 & compact          \\\\\n",
       "\t volkswagen        & new beetle        & 1.9               & 1999              & 4                 & manual(m5)        & f                 & 35                & 44                & d                 & subcompact       \\\\\n",
       "\t volkswagen        & new beetle        & 1.9               & 1999              & 4                 & auto(l4)          & f                 & 29                & 41                & d                 & subcompact       \\\\\n",
       "\t volkswagen        & new beetle        & 2.0               & 1999              & 4                 & manual(m5)        & f                 & 21                & 29                & r                 & subcompact       \\\\\n",
       "\t volkswagen        & new beetle        & 2.0               & 1999              & 4                 & auto(l4)          & f                 & 19                & 26                & r                 & subcompact       \\\\\n",
       "\t volkswagen        & new beetle        & 2.5               & 2008              & 5                 & manual(m5)        & f                 & 20                & 28                & r                 & subcompact       \\\\\n",
       "\t volkswagen        & new beetle        & 2.5               & 2008              & 5                 & Otros             & f                 & 20                & 29                & r                 & subcompact       \\\\\n",
       "\t volkswagen        & passat            & 1.8               & 1999              & 4                 & manual(m5)        & f                 & 21                & 29                & p                 & midsize          \\\\\n",
       "\t volkswagen        & passat            & 1.8               & 1999              & 4                 & auto(l5)          & f                 & 18                & 29                & p                 & midsize          \\\\\n",
       "\t volkswagen        & passat            & 2.0               & 2008              & 4                 & Otros             & f                 & 19                & 28                & p                 & midsize          \\\\\n",
       "\t volkswagen        & passat            & 2.0               & 2008              & 4                 & Otros             & f                 & 21                & 29                & p                 & midsize          \\\\\n",
       "\t volkswagen        & passat            & 2.8               & 1999              & 6                 & auto(l5)          & f                 & 16                & 26                & p                 & midsize          \\\\\n",
       "\t volkswagen        & passat            & 2.8               & 1999              & 6                 & manual(m5)        & f                 & 18                & 26                & p                 & midsize          \\\\\n",
       "\t volkswagen        & passat            & 3.6               & 2008              & 6                 & Otros             & f                 & 17                & 26                & p                 & midsize          \\\\\n",
       "\\end{tabular}\n"
      ],
      "text/markdown": [
       "\n",
       "| manufacturer | model | displ | year | cyl | trans | drv | cty | hwy | fl | class |\n",
       "|---|---|---|---|---|---|---|---|---|---|---|\n",
       "| audi               | a4                 | 1.8                | 1999               | 4                  | auto(l5)           | f                  | 18                 | 29                 | p                  | compact            |\n",
       "| audi               | a4                 | 1.8                | 1999               | 4                  | manual(m5)         | f                  | 21                 | 29                 | p                  | compact            |\n",
       "| audi               | a4                 | 2.0                | 2008               | 4                  | Otros              | f                  | 20                 | 31                 | p                  | compact            |\n",
       "| audi               | a4                 | 2.0                | 2008               | 4                  | Otros              | f                  | 21                 | 30                 | p                  | compact            |\n",
       "| audi               | a4                 | 2.8                | 1999               | 6                  | auto(l5)           | f                  | 16                 | 26                 | p                  | compact            |\n",
       "| audi               | a4                 | 2.8                | 1999               | 6                  | manual(m5)         | f                  | 18                 | 26                 | p                  | compact            |\n",
       "| audi               | a4                 | 3.1                | 2008               | 6                  | Otros              | f                  | 18                 | 27                 | p                  | compact            |\n",
       "| audi               | a4 quattro         | 1.8                | 1999               | 4                  | manual(m5)         | 4                  | 18                 | 26                 | p                  | compact            |\n",
       "| audi               | a4 quattro         | 1.8                | 1999               | 4                  | auto(l5)           | 4                  | 16                 | 25                 | p                  | compact            |\n",
       "| audi               | a4 quattro         | 2.0                | 2008               | 4                  | Otros              | 4                  | 20                 | 28                 | p                  | compact            |\n",
       "| audi               | a4 quattro         | 2.0                | 2008               | 4                  | Otros              | 4                  | 19                 | 27                 | p                  | compact            |\n",
       "| audi               | a4 quattro         | 2.8                | 1999               | 6                  | auto(l5)           | 4                  | 15                 | 25                 | p                  | compact            |\n",
       "| audi               | a4 quattro         | 2.8                | 1999               | 6                  | manual(m5)         | 4                  | 17                 | 25                 | p                  | compact            |\n",
       "| audi               | a4 quattro         | 3.1                | 2008               | 6                  | Otros              | 4                  | 17                 | 25                 | p                  | compact            |\n",
       "| audi               | a4 quattro         | 3.1                | 2008               | 6                  | Otros              | 4                  | 15                 | 25                 | p                  | compact            |\n",
       "| audi               | a6 quattro         | 2.8                | 1999               | 6                  | auto(l5)           | 4                  | 15                 | 24                 | p                  | midsize            |\n",
       "| audi               | a6 quattro         | 3.1                | 2008               | 6                  | Otros              | 4                  | 17                 | 25                 | p                  | midsize            |\n",
       "| audi               | a6 quattro         | 4.2                | 2008               | 8                  | Otros              | 4                  | 16                 | 23                 | p                  | midsize            |\n",
       "| chevrolet          | c1500 suburban 2wd | 5.3                | 2008               | 8                  | auto(l4)           | r                  | 14                 | 20                 | r                  | suv                |\n",
       "| chevrolet          | c1500 suburban 2wd | 5.3                | 2008               | 8                  | auto(l4)           | r                  | 11                 | 15                 | e                  | suv                |\n",
       "| chevrolet          | c1500 suburban 2wd | 5.3                | 2008               | 8                  | auto(l4)           | r                  | 14                 | 20                 | r                  | suv                |\n",
       "| chevrolet          | c1500 suburban 2wd | 5.7                | 1999               | 8                  | auto(l4)           | r                  | 13                 | 17                 | r                  | suv                |\n",
       "| chevrolet          | c1500 suburban 2wd | 6.0                | 2008               | 8                  | auto(l4)           | r                  | 12                 | 17                 | r                  | suv                |\n",
       "| chevrolet          | corvette           | 5.7                | 1999               | 8                  | Otros              | r                  | 16                 | 26                 | p                  | 2seater            |\n",
       "| chevrolet          | corvette           | 5.7                | 1999               | 8                  | auto(l4)           | r                  | 15                 | 23                 | p                  | 2seater            |\n",
       "| chevrolet          | corvette           | 6.2                | 2008               | 8                  | Otros              | r                  | 16                 | 26                 | p                  | 2seater            |\n",
       "| chevrolet          | corvette           | 6.2                | 2008               | 8                  | Otros              | r                  | 15                 | 25                 | p                  | 2seater            |\n",
       "| chevrolet          | corvette           | 7.0                | 2008               | 8                  | Otros              | r                  | 15                 | 24                 | p                  | 2seater            |\n",
       "| chevrolet          | k1500 tahoe 4wd    | 5.3                | 2008               | 8                  | auto(l4)           | 4                  | 14                 | 19                 | r                  | suv                |\n",
       "| chevrolet          | k1500 tahoe 4wd    | 5.3                | 2008               | 8                  | auto(l4)           | 4                  | 11                 | 14                 | e                  | suv                |\n",
       "| ... | ... | ... | ... | ... | ... | ... | ... | ... | ... | ... |\n",
       "| toyota            | toyota tacoma 4wd | 3.4               | 1999              | 6                 | auto(l4)          | 4                 | 15                | 19                | r                 | pickup            |\n",
       "| toyota            | toyota tacoma 4wd | 4.0               | 2008              | 6                 | Otros             | 4                 | 15                | 18                | r                 | pickup            |\n",
       "| toyota            | toyota tacoma 4wd | 4.0               | 2008              | 6                 | auto(l5)          | 4                 | 16                | 20                | r                 | pickup            |\n",
       "| volkswagen        | gti               | 2.0               | 1999              | 4                 | manual(m5)        | f                 | 21                | 29                | r                 | compact           |\n",
       "| volkswagen        | gti               | 2.0               | 1999              | 4                 | auto(l4)          | f                 | 19                | 26                | r                 | compact           |\n",
       "| volkswagen        | gti               | 2.0               | 2008              | 4                 | Otros             | f                 | 21                | 29                | p                 | compact           |\n",
       "| volkswagen        | gti               | 2.0               | 2008              | 4                 | Otros             | f                 | 22                | 29                | p                 | compact           |\n",
       "| volkswagen        | gti               | 2.8               | 1999              | 6                 | manual(m5)        | f                 | 17                | 24                | r                 | compact           |\n",
       "| volkswagen        | jetta             | 1.9               | 1999              | 4                 | manual(m5)        | f                 | 33                | 44                | d                 | compact           |\n",
       "| volkswagen        | jetta             | 2.0               | 1999              | 4                 | manual(m5)        | f                 | 21                | 29                | r                 | compact           |\n",
       "| volkswagen        | jetta             | 2.0               | 1999              | 4                 | auto(l4)          | f                 | 19                | 26                | r                 | compact           |\n",
       "| volkswagen        | jetta             | 2.0               | 2008              | 4                 | Otros             | f                 | 22                | 29                | p                 | compact           |\n",
       "| volkswagen        | jetta             | 2.0               | 2008              | 4                 | Otros             | f                 | 21                | 29                | p                 | compact           |\n",
       "| volkswagen        | jetta             | 2.5               | 2008              | 5                 | Otros             | f                 | 21                | 29                | r                 | compact           |\n",
       "| volkswagen        | jetta             | 2.5               | 2008              | 5                 | manual(m5)        | f                 | 21                | 29                | r                 | compact           |\n",
       "| volkswagen        | jetta             | 2.8               | 1999              | 6                 | auto(l4)          | f                 | 16                | 23                | r                 | compact           |\n",
       "| volkswagen        | jetta             | 2.8               | 1999              | 6                 | manual(m5)        | f                 | 17                | 24                | r                 | compact           |\n",
       "| volkswagen        | new beetle        | 1.9               | 1999              | 4                 | manual(m5)        | f                 | 35                | 44                | d                 | subcompact        |\n",
       "| volkswagen        | new beetle        | 1.9               | 1999              | 4                 | auto(l4)          | f                 | 29                | 41                | d                 | subcompact        |\n",
       "| volkswagen        | new beetle        | 2.0               | 1999              | 4                 | manual(m5)        | f                 | 21                | 29                | r                 | subcompact        |\n",
       "| volkswagen        | new beetle        | 2.0               | 1999              | 4                 | auto(l4)          | f                 | 19                | 26                | r                 | subcompact        |\n",
       "| volkswagen        | new beetle        | 2.5               | 2008              | 5                 | manual(m5)        | f                 | 20                | 28                | r                 | subcompact        |\n",
       "| volkswagen        | new beetle        | 2.5               | 2008              | 5                 | Otros             | f                 | 20                | 29                | r                 | subcompact        |\n",
       "| volkswagen        | passat            | 1.8               | 1999              | 4                 | manual(m5)        | f                 | 21                | 29                | p                 | midsize           |\n",
       "| volkswagen        | passat            | 1.8               | 1999              | 4                 | auto(l5)          | f                 | 18                | 29                | p                 | midsize           |\n",
       "| volkswagen        | passat            | 2.0               | 2008              | 4                 | Otros             | f                 | 19                | 28                | p                 | midsize           |\n",
       "| volkswagen        | passat            | 2.0               | 2008              | 4                 | Otros             | f                 | 21                | 29                | p                 | midsize           |\n",
       "| volkswagen        | passat            | 2.8               | 1999              | 6                 | auto(l5)          | f                 | 16                | 26                | p                 | midsize           |\n",
       "| volkswagen        | passat            | 2.8               | 1999              | 6                 | manual(m5)        | f                 | 18                | 26                | p                 | midsize           |\n",
       "| volkswagen        | passat            | 3.6               | 2008              | 6                 | Otros             | f                 | 17                | 26                | p                 | midsize           |\n",
       "\n"
      ],
      "text/plain": [
       "    manufacturer model              displ year cyl trans      drv cty hwy fl \n",
       "1   audi         a4                 1.8   1999 4   auto(l5)   f   18  29  p  \n",
       "2   audi         a4                 1.8   1999 4   manual(m5) f   21  29  p  \n",
       "3   audi         a4                 2.0   2008 4   Otros      f   20  31  p  \n",
       "4   audi         a4                 2.0   2008 4   Otros      f   21  30  p  \n",
       "5   audi         a4                 2.8   1999 6   auto(l5)   f   16  26  p  \n",
       "6   audi         a4                 2.8   1999 6   manual(m5) f   18  26  p  \n",
       "7   audi         a4                 3.1   2008 6   Otros      f   18  27  p  \n",
       "8   audi         a4 quattro         1.8   1999 4   manual(m5) 4   18  26  p  \n",
       "9   audi         a4 quattro         1.8   1999 4   auto(l5)   4   16  25  p  \n",
       "10  audi         a4 quattro         2.0   2008 4   Otros      4   20  28  p  \n",
       "11  audi         a4 quattro         2.0   2008 4   Otros      4   19  27  p  \n",
       "12  audi         a4 quattro         2.8   1999 6   auto(l5)   4   15  25  p  \n",
       "13  audi         a4 quattro         2.8   1999 6   manual(m5) 4   17  25  p  \n",
       "14  audi         a4 quattro         3.1   2008 6   Otros      4   17  25  p  \n",
       "15  audi         a4 quattro         3.1   2008 6   Otros      4   15  25  p  \n",
       "16  audi         a6 quattro         2.8   1999 6   auto(l5)   4   15  24  p  \n",
       "17  audi         a6 quattro         3.1   2008 6   Otros      4   17  25  p  \n",
       "18  audi         a6 quattro         4.2   2008 8   Otros      4   16  23  p  \n",
       "19  chevrolet    c1500 suburban 2wd 5.3   2008 8   auto(l4)   r   14  20  r  \n",
       "20  chevrolet    c1500 suburban 2wd 5.3   2008 8   auto(l4)   r   11  15  e  \n",
       "21  chevrolet    c1500 suburban 2wd 5.3   2008 8   auto(l4)   r   14  20  r  \n",
       "22  chevrolet    c1500 suburban 2wd 5.7   1999 8   auto(l4)   r   13  17  r  \n",
       "23  chevrolet    c1500 suburban 2wd 6.0   2008 8   auto(l4)   r   12  17  r  \n",
       "24  chevrolet    corvette           5.7   1999 8   Otros      r   16  26  p  \n",
       "25  chevrolet    corvette           5.7   1999 8   auto(l4)   r   15  23  p  \n",
       "26  chevrolet    corvette           6.2   2008 8   Otros      r   16  26  p  \n",
       "27  chevrolet    corvette           6.2   2008 8   Otros      r   15  25  p  \n",
       "28  chevrolet    corvette           7.0   2008 8   Otros      r   15  24  p  \n",
       "29  chevrolet    k1500 tahoe 4wd    5.3   2008 8   auto(l4)   4   14  19  r  \n",
       "30  chevrolet    k1500 tahoe 4wd    5.3   2008 8   auto(l4)   4   11  14  e  \n",
       "... ...          ...                ...   ...  ... ...        ... ... ... ...\n",
       "205 toyota       toyota tacoma 4wd  3.4   1999 6   auto(l4)   4   15  19  r  \n",
       "206 toyota       toyota tacoma 4wd  4.0   2008 6   Otros      4   15  18  r  \n",
       "207 toyota       toyota tacoma 4wd  4.0   2008 6   auto(l5)   4   16  20  r  \n",
       "208 volkswagen   gti                2.0   1999 4   manual(m5) f   21  29  r  \n",
       "209 volkswagen   gti                2.0   1999 4   auto(l4)   f   19  26  r  \n",
       "210 volkswagen   gti                2.0   2008 4   Otros      f   21  29  p  \n",
       "211 volkswagen   gti                2.0   2008 4   Otros      f   22  29  p  \n",
       "212 volkswagen   gti                2.8   1999 6   manual(m5) f   17  24  r  \n",
       "213 volkswagen   jetta              1.9   1999 4   manual(m5) f   33  44  d  \n",
       "214 volkswagen   jetta              2.0   1999 4   manual(m5) f   21  29  r  \n",
       "215 volkswagen   jetta              2.0   1999 4   auto(l4)   f   19  26  r  \n",
       "216 volkswagen   jetta              2.0   2008 4   Otros      f   22  29  p  \n",
       "217 volkswagen   jetta              2.0   2008 4   Otros      f   21  29  p  \n",
       "218 volkswagen   jetta              2.5   2008 5   Otros      f   21  29  r  \n",
       "219 volkswagen   jetta              2.5   2008 5   manual(m5) f   21  29  r  \n",
       "220 volkswagen   jetta              2.8   1999 6   auto(l4)   f   16  23  r  \n",
       "221 volkswagen   jetta              2.8   1999 6   manual(m5) f   17  24  r  \n",
       "222 volkswagen   new beetle         1.9   1999 4   manual(m5) f   35  44  d  \n",
       "223 volkswagen   new beetle         1.9   1999 4   auto(l4)   f   29  41  d  \n",
       "224 volkswagen   new beetle         2.0   1999 4   manual(m5) f   21  29  r  \n",
       "225 volkswagen   new beetle         2.0   1999 4   auto(l4)   f   19  26  r  \n",
       "226 volkswagen   new beetle         2.5   2008 5   manual(m5) f   20  28  r  \n",
       "227 volkswagen   new beetle         2.5   2008 5   Otros      f   20  29  r  \n",
       "228 volkswagen   passat             1.8   1999 4   manual(m5) f   21  29  p  \n",
       "229 volkswagen   passat             1.8   1999 4   auto(l5)   f   18  29  p  \n",
       "230 volkswagen   passat             2.0   2008 4   Otros      f   19  28  p  \n",
       "231 volkswagen   passat             2.0   2008 4   Otros      f   21  29  p  \n",
       "232 volkswagen   passat             2.8   1999 6   auto(l5)   f   16  26  p  \n",
       "233 volkswagen   passat             2.8   1999 6   manual(m5) f   18  26  p  \n",
       "234 volkswagen   passat             3.6   2008 6   Otros      f   17  26  p  \n",
       "    class     \n",
       "1   compact   \n",
       "2   compact   \n",
       "3   compact   \n",
       "4   compact   \n",
       "5   compact   \n",
       "6   compact   \n",
       "7   compact   \n",
       "8   compact   \n",
       "9   compact   \n",
       "10  compact   \n",
       "11  compact   \n",
       "12  compact   \n",
       "13  compact   \n",
       "14  compact   \n",
       "15  compact   \n",
       "16  midsize   \n",
       "17  midsize   \n",
       "18  midsize   \n",
       "19  suv       \n",
       "20  suv       \n",
       "21  suv       \n",
       "22  suv       \n",
       "23  suv       \n",
       "24  2seater   \n",
       "25  2seater   \n",
       "26  2seater   \n",
       "27  2seater   \n",
       "28  2seater   \n",
       "29  suv       \n",
       "30  suv       \n",
       "... ...       \n",
       "205 pickup    \n",
       "206 pickup    \n",
       "207 pickup    \n",
       "208 compact   \n",
       "209 compact   \n",
       "210 compact   \n",
       "211 compact   \n",
       "212 compact   \n",
       "213 compact   \n",
       "214 compact   \n",
       "215 compact   \n",
       "216 compact   \n",
       "217 compact   \n",
       "218 compact   \n",
       "219 compact   \n",
       "220 compact   \n",
       "221 compact   \n",
       "222 subcompact\n",
       "223 subcompact\n",
       "224 subcompact\n",
       "225 subcompact\n",
       "226 subcompact\n",
       "227 subcompact\n",
       "228 midsize   \n",
       "229 midsize   \n",
       "230 midsize   \n",
       "231 midsize   \n",
       "232 midsize   \n",
       "233 midsize   \n",
       "234 midsize   "
      ]
     },
     "metadata": {},
     "output_type": "display_data"
    }
   ],
   "source": [
    "mpg_editada2 <-  mpg %>%\n",
    "  mutate_if(\n",
    "      .predicate = is.character,\n",
    "      .funs      = as_factor\n",
    "  ) %>%\n",
    "mutate(trans = fct_lump_min(trans, 20,\n",
    "                            other_level = \"Otros\"))\n",
    "mpg_editada2"
   ]
  },
  {
   "cell_type": "code",
   "execution_count": 7,
   "id": "60149761-44a3-4314-91d6-ff83925d309e",
   "metadata": {},
   "outputs": [
    {
     "data": {
      "image/png": "[encoded data removed]",
      "text/plain": [
       "plot without title"
      ]
     },
     "metadata": {},
     "output_type": "display_data"
    }
   ],
   "source": [
    "plot(cars)"
   ]
  },
  {
   "cell_type": "code",
   "execution_count": 8,
   "id": "8b3a36b2-8ae6-421d-8813-b3720dfd68b5",
   "metadata": {},
   "outputs": [
    {
     "data": {
      "image/png": "[encoded data removed]",
      "text/plain": [
       "plot without title"
      ]
     },
     "metadata": {},
     "output_type": "display_data"
    }
   ],
   "source": [
    "mpg_editada2 %>%\n",
    "  ggplot() +\n",
    "  geom_point(mapping = aes(x = displ, y = hwy))"
   ]
  },
  {
   "cell_type": "code",
   "execution_count": 10,
   "id": "f03a3cb3-f60c-47aa-982f-a2e211995479",
   "metadata": {},
   "outputs": [
    {
     "data": {
      "image/png": "[encoded data removed]",
      "text/plain": [
       "plot without title"
      ]
     },
     "metadata": {},
     "output_type": "display_data"
    }
   ],
   "source": [
    "mpg_editada2 %>%\n",
    "  ggplot() +\n",
    "    geom_point(mapping = aes(x = displ,\n",
    "                            y = hwy,\n",
    "                            color = class)\n",
    "              )"
   ]
  },
  {
   "cell_type": "code",
   "execution_count": 14,
   "id": "e791212b-43cf-43e1-8899-020f58014381",
   "metadata": {},
   "outputs": [
    {
     "data": {
      "image/png": "[encoded data removed]",
      "text/plain": [
       "plot without title"
      ]
     },
     "metadata": {},
     "output_type": "display_data"
    }
   ],
   "source": [
    "ggplot(data = mpg_editada2) +\n",
    "  geom_point(mapping = aes(x = displ,\n",
    "                           y = hwy,\n",
    "                           color = class,\n",
    "                           shape = drv,\n",
    "                           size = cyl),\n",
    "             alpha = 0.7)"
   ]
  },
  {
   "cell_type": "code",
   "execution_count": 15,
   "id": "e9b9482d-3010-45b7-8938-5a8aa1e92193",
   "metadata": {},
   "outputs": [
    {
     "ename": "ERROR",
     "evalue": "Error in library(patchwork): there is no package called 'patchwork'\n",
     "output_type": "error",
     "traceback": [
      "Error in library(patchwork): there is no package called 'patchwork'\nTraceback:\n",
      "1. library(patchwork)"
     ]
    }
   ],
   "source": [
    "library(patchwork)"
   ]
  },
  {
   "cell_type": "code",
   "execution_count": 16,
   "id": "555190a5-9a4b-4f2d-b7d8-9ce761607f11",
   "metadata": {},
   "outputs": [
    {
     "data": {
      "image/png": "[encoded data removed]",
      "text/plain": [
       "plot without title"
      ]
     },
     "metadata": {},
     "output_type": "display_data"
    }
   ],
   "source": [
    "mpg_editada2 %>%\n",
    "  ggplot(aes(x = manufacturer, y = displ)) +\n",
    "  geom_boxplot()"
   ]
  },
  {
   "cell_type": "code",
   "execution_count": null,
   "id": "748832ce-fe67-4187-8ab4-f5c7ce53e304",
   "metadata": {},
   "outputs": [],
   "source": []
  },
  {
   "cell_type": "code",
   "execution_count": 18,
   "id": "2c3de8fc-fb9e-4d41-a8f3-bb8cf6e518a8",
   "metadata": {},
   "outputs": [
    {
     "name": "stderr",
     "output_type": "stream",
     "text": [
      "Warning message in data(world_bank_pop, package = \"tidyr\"):\n",
      "\"data set 'world_bank_pop' not found\""
     ]
    },
    {
     "ename": "ERROR",
     "evalue": "Error in eval(expr, envir, enclos): object 'world_bank_pop' not found\n",
     "output_type": "error",
     "traceback": [
      "Error in eval(expr, envir, enclos): object 'world_bank_pop' not found\nTraceback:\n"
     ]
    }
   ],
   "source": [
    "data(world_bank_pop, package = \"tidyr\")\n",
    "pop <- world_bank_pop"
   ]
  },
  {
   "cell_type": "code",
   "execution_count": 19,
   "id": "e834b490-bf80-48a3-800f-03efe2841b2d",
   "metadata": {},
   "outputs": [
    {
     "ename": "ERROR",
     "evalue": "Error in head(pop): object 'pop' not found\n",
     "output_type": "error",
     "traceback": [
      "Error in head(pop): object 'pop' not found\nTraceback:\n",
      "1. head(pop)"
     ]
    }
   ],
   "source": [
    "head(pop)"
   ]
  },
  {
   "cell_type": "code",
   "execution_count": null,
   "id": "c490baad-fa03-4c9a-90f0-ed2d67f5e069",
   "metadata": {},
   "outputs": [],
   "source": [
    "pop_tidy <- pop %>%\n",
    "\n",
    "  pivot_longer(cols = -c(country, indicator),\n",
    "               names_to = \"year\", values_to = \"value\") %>%\n",
    "  pivot_wider(names_from = indicator,\n",
    "              values_from = value) %>%\n",
    "  select(country, year,contains(\"TOTL\")) %>%\n",
    "\n",
    "  rename(urban_pop = SP.URB.TOTL,total_pop = SP.POP.TOTL) %>%\n",
    "\n",
    "  mutate(rural_pop_pct = (1 - urban_pop / total_pop)*100,\n",
    "         country = as_factor(country),\n",
    "         year = as.integer(year)\n",
    "         ) %>%\n",
    "  filter(country %in% c(\"MEX\",\"BRA\",\"ARG\")) %>%\n",
    "\n",
    "  as_tsibble(key = country, index = year)\n",
    "\n",
    "pop_tidy"
   ]
  }
 ],
 "metadata": {
  "kernelspec": {
   "display_name": "R",
   "language": "R",
   "name": "ir"
  },
  "language_info": {
   "codemirror_mode": "r",
   "file_extension": ".r",
   "mimetype": "text/x-r-source",
   "name": "R",
   "pygments_lexer": "r",
   "version": "3.6.1"
  }
 },
 "nbformat": 4,
 "nbformat_minor": 5
}
